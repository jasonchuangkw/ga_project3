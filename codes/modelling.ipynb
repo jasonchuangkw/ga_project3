{
 "cells": [
  {
   "cell_type": "code",
   "execution_count": 324,
   "id": "c798b1b2",
   "metadata": {},
   "outputs": [],
   "source": [
    "#import libraries\n",
    "import numpy as np\n",
    "import pandas as pd       \n",
    "from sklearn.ensemble import RandomForestClassifier\n",
    "from sklearn.feature_extraction.text import CountVectorizer, TfidfVectorizer\n",
    "from sklearn.model_selection import cross_val_score, train_test_split, GridSearchCV, StratifiedKFold\n",
    "from sklearn.metrics import accuracy_score, confusion_matrix, classification_report\n",
    "from sklearn.neighbors import KNeighborsClassifier\n",
    "from sklearn.svm import LinearSVC, SVC\n",
    "from nltk.corpus import stopwords\n",
    "import matplotlib.pyplot as plt"
   ]
  },
  {
   "cell_type": "code",
   "execution_count": 325,
   "id": "66753cb1",
   "metadata": {},
   "outputs": [],
   "source": [
    "#load data\n",
    "df_main = pd.read_csv('../data/model_data.csv', low_memory=False)"
   ]
  },
  {
   "cell_type": "code",
   "execution_count": 326,
   "id": "d35c74cf",
   "metadata": {},
   "outputs": [],
   "source": [
    "#establish model variables\n",
    "\n",
    "X = df_main['combinedtext']\n",
    "y = df_main['label']\n",
    "\n",
    "cvec = CountVectorizer(max_features = 1000, stop_words = 'english')\n",
    "\n",
    "#convert back to dataframe\n",
    "X_cvec = pd.DataFrame(cvec.fit_transform(X).todense(),\n",
    "                      columns = cvec.get_feature_names_out())"
   ]
  },
  {
   "cell_type": "code",
   "execution_count": 327,
   "id": "553da9b6",
   "metadata": {},
   "outputs": [],
   "source": [
    "# Split the data into the training and testing sets. random state set to 88\n",
    "X_train, X_test, y_train, y_test = train_test_split(X_cvec,\n",
    "                                                    y,\n",
    "                                                    test_size=0.33,\n",
    "                                                    stratify=y,\n",
    "                                                    random_state=88)"
   ]
  },
  {
   "cell_type": "markdown",
   "id": "21f8c4e9",
   "metadata": {},
   "source": [
    "<b>Define Functions for Modeling</b>"
   ]
  },
  {
   "cell_type": "code",
   "execution_count": 328,
   "id": "9f8aa234",
   "metadata": {},
   "outputs": [],
   "source": [
    "#to obtain probabilities for specific keywords\n",
    "def cal_mean(source, brand, text):\n",
    "\n",
    "    if source == 1: #train\n",
    "        if brand == 0: #flstudio\n",
    "            try:\n",
    "                text = combined_train.loc[(combined_train['label'] == 0)].filter(regex=text).values.mean()\n",
    "                return text\n",
    "            except:\n",
    "                return text\n",
    "        else: \n",
    "            try: #ableton\n",
    "                text = combined_train.loc[(combined_train['label'] == 1)].filter(regex=text).values.mean()\n",
    "                return text\n",
    "            except:\n",
    "                return text\n",
    "    else: #test\n",
    "        if brand == 0: #flstudio\n",
    "            try:\n",
    "                text = combined_test.loc[(combined_test['label'] == 0)].filter(regex=text).values.mean()\n",
    "                return text\n",
    "            except:\n",
    "                return text\n",
    "        else: \n",
    "            try: #ableton\n",
    "                text = combined_test.loc[(combined_test['label'] == 1)].filter(regex=text).values.mean()\n",
    "                return text\n",
    "            except:\n",
    "                return text"
   ]
  },
  {
   "cell_type": "code",
   "execution_count": 329,
   "id": "e92813ef",
   "metadata": {},
   "outputs": [],
   "source": [
    "combined_train = X_train.copy(deep=True)\n",
    "combined_train['label'] = y_train.copy(deep=True)\n",
    "combined_test = X_test.copy(deep=True)\n",
    "combined_test['label'] = y_test.copy(deep=True)"
   ]
  },
  {
   "cell_type": "markdown",
   "id": "458009bd",
   "metadata": {},
   "source": [
    "<b>Random Forest Classifier</b><br/><br/>\n",
    "train cross validation score = 0.909<br/>\n",
    "test cross valiadation score = 0.909<br/>\n",
    "accuracy = 91%<br/>\n",
    "type 1 error (FP) = 402/7982 = 5.0%<br/>\n",
    "type 2 error (FN) = 289/7982 = 3.6%<br/><br/>\n",
    "<b>The train and test score shows that the fitting is good. The accuracy is fairly high and the Type 1 and 2 errors are resonably low. There isn't a strong pressure to further reduce the errors. This result is faily similar to K-Nearest Neighbour Classifier but RFC is marginally better overall.<b/>"
   ]
  },
  {
   "cell_type": "code",
   "execution_count": null,
   "id": "3fdcfb95",
   "metadata": {},
   "outputs": [],
   "source": [
    "#identify the best model using Grid Search\n",
    "rfc = RandomForestClassifier()\n",
    "\n",
    "rfc_params = {'n_estimators': [100, 150, 200], 'max_depth': [None, 1, 2, 3, 4, 5]}\n",
    "rfc_cv = StratifiedKFold(n_splits=10, shuffle=True, random_state=88)\n",
    "\n",
    "rfc_gs = GridSearchCV(rfc, rfc_params, cv=rfc_cv)\n",
    "rfc_gs.fit(X_train, y_train)\n",
    "\n",
    "print(rfc_gs.best_score_)\n",
    "print(rfc_gs.best_params_)"
   ]
  },
  {
   "cell_type": "code",
   "execution_count": null,
   "id": "6038f390",
   "metadata": {},
   "outputs": [],
   "source": [
    "rfc_gs.score(X_train, y_train)"
   ]
  },
  {
   "cell_type": "code",
   "execution_count": null,
   "id": "bc79a034",
   "metadata": {},
   "outputs": [],
   "source": [
    "rfc_gs.score(X_test, y_test)"
   ]
  },
  {
   "cell_type": "code",
   "execution_count": null,
   "id": "ec5e1046",
   "metadata": {},
   "outputs": [],
   "source": [
    "rfc = RandomForestClassifier(n_estimators = rfc_gs.best_params_['n_estimators'], max_depth = rfc_gs.best_params_['max_depth'])\n",
    "rfc.fit(X_train, y_train)"
   ]
  },
  {
   "cell_type": "code",
   "execution_count": null,
   "id": "fca03181",
   "metadata": {},
   "outputs": [],
   "source": [
    "cross_val_score(rfc, X_train, y_train, cv=rfc_cv).mean()"
   ]
  },
  {
   "cell_type": "code",
   "execution_count": null,
   "id": "7843d6c1",
   "metadata": {},
   "outputs": [],
   "source": [
    "cross_val_score(rfc, X_test, y_test, cv=rfc_cv).mean()"
   ]
  },
  {
   "cell_type": "code",
   "execution_count": null,
   "id": "ec5213d8",
   "metadata": {},
   "outputs": [],
   "source": [
    "#indentify keywords that are driving identification\n",
    "df = pd.DataFrame(rfc.feature_importances_, index=X_train.columns).sort_values(by=0, ascending=False)\n",
    "\n",
    "df.reset_index(inplace=True)\n",
    "df = df.rename(columns = {'index':'keyword'})\n",
    "df = df.rename(columns = {0:'importance'})\n",
    "\n",
    "#brand 1 = ableton and 0 = flstudio \n",
    "#source 1 = train and 0 = test\n",
    "df['ableton_train'] = [cal_mean(1, 1, x) for x in df[\"keyword\"]]\n",
    "df['flstudio_train'] = [cal_mean(1, 0, x) for x in df[\"keyword\"]]\n",
    "df['ableton_test'] = [cal_mean(0, 1, x) for x in df[\"keyword\"]]\n",
    "df['flstudio_test'] = [cal_mean(0, 0, x) for x in df[\"keyword\"]]"
   ]
  },
  {
   "cell_type": "code",
   "execution_count": null,
   "id": "f0926b21",
   "metadata": {},
   "outputs": [],
   "source": [
    "#top 10 influencial words by importance\n",
    "df.head(10)"
   ]
  },
  {
   "cell_type": "code",
   "execution_count": null,
   "id": "b59639c1",
   "metadata": {},
   "outputs": [],
   "source": [
    "y_axis = list(df.iloc[0:40,0])\n",
    "x_axis = list(df.iloc[0:40,1])\n",
    "y_axis.reverse()\n",
    "x_axis.reverse()\n",
    "\n",
    "plt.barh(y_axis, x_axis)\n",
    "plt.title('Words by Importance')\n",
    "plt.ylabel('Words')\n",
    "plt.xlabel('Count')\n",
    "plt.show()"
   ]
  },
  {
   "cell_type": "code",
   "execution_count": null,
   "id": "67ce2dd9",
   "metadata": {},
   "outputs": [],
   "source": [
    "df.to_csv(r'../data/rf_df.csv', index=False)"
   ]
  },
  {
   "cell_type": "code",
   "execution_count": null,
   "id": "2de467c7",
   "metadata": {},
   "outputs": [],
   "source": [
    "#calculate pred test values\n",
    "rfc_y_pred_test = rfc.predict(X_test)"
   ]
  },
  {
   "cell_type": "code",
   "execution_count": null,
   "id": "20e34f8a",
   "metadata": {},
   "outputs": [],
   "source": [
    "#accuracy score\n",
    "accuracy_score(y_test, rfc_y_pred_test)"
   ]
  },
  {
   "cell_type": "code",
   "execution_count": null,
   "id": "23a6ea95",
   "metadata": {},
   "outputs": [],
   "source": [
    "#confusion matrix\n",
    "confusion_matrix(y_test, rfc_y_pred_test)"
   ]
  },
  {
   "cell_type": "code",
   "execution_count": null,
   "id": "d4e849be",
   "metadata": {},
   "outputs": [],
   "source": [
    "#classification report\n",
    "print(classification_report(y_test, rfc_y_pred_test))"
   ]
  },
  {
   "cell_type": "markdown",
   "id": "cdc232f0",
   "metadata": {},
   "source": [
    "<b>K-Nearest Neighbour Classifier</b><br/><br/>\n",
    "train cross validation score = 0.904<br/>\n",
    "test cross valiadation score = 0.898<br/>\n",
    "accuracy = 91%<br/>\n",
    "type 1 error (FP) = 370/7982 = 4.6%<br/>\n",
    "type 2 error (FN) = 366/7982 = 4.6%<br/><br/>\n",
    "<b>The train and test score shows that the fitting is good. The accuracy is fairly high and the Type 1 and 2 errors are resonably low. There isn't a strong pressure to further reduce the errors. This result is faily similar to Random Forest Classifier but RFC is marginally better overall.<b/>"
   ]
  },
  {
   "cell_type": "code",
   "execution_count": null,
   "id": "d75b24a6",
   "metadata": {},
   "outputs": [],
   "source": [
    "#identify the best model using Grid Search\n",
    "\n",
    "knnc = KNeighborsClassifier()\n",
    "\n",
    "knnc_params = {'n_neighbors': list(range(1, 31))}\n",
    "knnc_cv = StratifiedKFold(n_splits=10, shuffle=True, random_state=88)\n",
    "\n",
    "knnc_gs = GridSearchCV(knnc, knnc_params, cv=knnc_cv)\n",
    "knnc_gs.fit(X_train, y_train)\n",
    "\n",
    "print(knnc_gs.best_score_)\n",
    "print(knnc_gs.best_params_)"
   ]
  },
  {
   "cell_type": "code",
   "execution_count": null,
   "id": "5a90221a",
   "metadata": {},
   "outputs": [],
   "source": [
    "knnc_gs.score(X_train, y_train)"
   ]
  },
  {
   "cell_type": "code",
   "execution_count": null,
   "id": "4050d383",
   "metadata": {},
   "outputs": [],
   "source": [
    "knnc_gs.score(X_test, y_test)"
   ]
  },
  {
   "cell_type": "code",
   "execution_count": null,
   "id": "8242a469",
   "metadata": {},
   "outputs": [],
   "source": [
    "knnc = RandomForestClassifier(n_estimators = knnc_gs.best_params_['n_neighbors'])\n",
    "knnc.fit(X_train, y_train)"
   ]
  },
  {
   "cell_type": "code",
   "execution_count": null,
   "id": "f3e4d4c5",
   "metadata": {},
   "outputs": [],
   "source": [
    "cross_val_score(knnc, X_train, y_train, cv=10).mean()"
   ]
  },
  {
   "cell_type": "code",
   "execution_count": null,
   "id": "803e96e2",
   "metadata": {},
   "outputs": [],
   "source": [
    "cross_val_score(knnc, X_test, y_test, cv=10).mean()"
   ]
  },
  {
   "cell_type": "code",
   "execution_count": null,
   "id": "f563e9b9",
   "metadata": {},
   "outputs": [],
   "source": [
    "#indentify keywords that are driving identification\n",
    "df = pd.DataFrame(knnc.feature_importances_, index=X_train.columns).sort_values(by=0, ascending=False)\n",
    "\n",
    "df.reset_index(inplace=True)\n",
    "df = df.rename(columns = {'index':'keyword'})\n",
    "df = df.rename(columns = {0:'importance'})\n",
    "\n",
    "#brand 1 = ableton and 0 = flstudio \n",
    "#source 1 = train and 0 = test\n",
    "df['ableton_train'] = [cal_mean(1, 1, x) for x in df[\"keyword\"]]\n",
    "df['flstudio_train'] = [cal_mean(1, 0, x) for x in df[\"keyword\"]]\n",
    "df['ableton_test'] = [cal_mean(0, 1, x) for x in df[\"keyword\"]]\n",
    "df['flstudio_test'] = [cal_mean(0, 0, x) for x in df[\"keyword\"]]"
   ]
  },
  {
   "cell_type": "code",
   "execution_count": null,
   "id": "82b6e56b",
   "metadata": {},
   "outputs": [],
   "source": [
    "#top 10 influencial words\n",
    "df.head(10)"
   ]
  },
  {
   "cell_type": "code",
   "execution_count": null,
   "id": "304a990e",
   "metadata": {},
   "outputs": [],
   "source": [
    "y_axis = list(df.iloc[0:40,0])\n",
    "x_axis = list(df.iloc[0:40,1])\n",
    "y_axis.reverse()\n",
    "x_axis.reverse()\n",
    "\n",
    "plt.barh(y_axis, x_axis)\n",
    "plt.title('Words by Importance')\n",
    "plt.ylabel('Words')\n",
    "plt.xlabel('Count')\n",
    "plt.show()"
   ]
  },
  {
   "cell_type": "code",
   "execution_count": null,
   "id": "9f4b5a0e",
   "metadata": {},
   "outputs": [],
   "source": [
    "df.to_csv(r'../data/knnc_df.csv', index=False)"
   ]
  },
  {
   "cell_type": "code",
   "execution_count": null,
   "id": "d482311e",
   "metadata": {},
   "outputs": [],
   "source": [
    "#calculate pred test values\n",
    "knnc_y_pred_test = knnc.predict(X_test)"
   ]
  },
  {
   "cell_type": "code",
   "execution_count": null,
   "id": "c06ba201",
   "metadata": {},
   "outputs": [],
   "source": [
    "#accuracy score\n",
    "accuracy_score(y_test, knnc_y_pred_test)"
   ]
  },
  {
   "cell_type": "code",
   "execution_count": null,
   "id": "4ccc92ae",
   "metadata": {},
   "outputs": [],
   "source": [
    "#confusion matrix\n",
    "confusion_matrix(y_test, knnc_y_pred_test)"
   ]
  },
  {
   "cell_type": "code",
   "execution_count": null,
   "id": "f52e9988",
   "metadata": {},
   "outputs": [],
   "source": [
    "#classification report\n",
    "print(classification_report(y_test, knnc_y_pred_test))"
   ]
  },
  {
   "cell_type": "markdown",
   "id": "a82f6128",
   "metadata": {},
   "source": [
    "<b>Support Vector Machines</b><br/><br/>\n",
    "train cross validation score = 0.894<br/>\n",
    "test cross valiadation score = 0.882<br/>\n",
    "accuracy = 0.90%<br/>\n",
    "type 1 error (FP) = 405/7982 = 5.0%<br/>\n",
    "type 2 error (FN) = 420/7982 = 5.0%<br/><br/>\n",
    "<b>The train and test score shows that the fitting is good. The accuracy is fairly high and the Type 1 and 2 errors are resonably low. There isn't a strong pressure to further reduce the errors. RFC is still marginally better overall.<b/>"
   ]
  },
  {
   "cell_type": "code",
   "execution_count": null,
   "id": "e6977797",
   "metadata": {},
   "outputs": [],
   "source": [
    "#identify the best model using Grid Search\n",
    "\n",
    "svc = LinearSVC(max_iter=40000)\n",
    "\n",
    "# C values to GridSearch over\n",
    "svc_params = {\"C\": np.linspace(0.0001, 2, 10)}\n",
    "\n",
    "svc_cv = StratifiedKFold(n_splits=10, shuffle=True, random_state=88)\n",
    "\n",
    "svc_gs = GridSearchCV(svc, svc_params, cv=svc_cv)\n",
    "svc_gs.fit(X_test, y_test)\n",
    "\n",
    "print(svc_gs.best_score_)\n",
    "print(svc_gs.best_params_)"
   ]
  },
  {
   "cell_type": "code",
   "execution_count": null,
   "id": "e43f0384",
   "metadata": {},
   "outputs": [],
   "source": [
    "svc_gs.score(X_train, y_train)"
   ]
  },
  {
   "cell_type": "code",
   "execution_count": null,
   "id": "8d67c023",
   "metadata": {},
   "outputs": [],
   "source": [
    "svc_gs.score(X_test, y_test)"
   ]
  },
  {
   "cell_type": "code",
   "execution_count": null,
   "id": "99e3822b",
   "metadata": {},
   "outputs": [],
   "source": [
    "svc = LinearSVC(max_iter=20000, C = svc_gs.best_params_['C'])\n",
    "\n",
    "svc.fit(X_train, y_train)"
   ]
  },
  {
   "cell_type": "code",
   "execution_count": null,
   "id": "13acfed5",
   "metadata": {},
   "outputs": [],
   "source": [
    "cross_val_score(svc, X_train, y_train, cv=svc_cv).mean()"
   ]
  },
  {
   "cell_type": "code",
   "execution_count": null,
   "id": "c75ad420",
   "metadata": {},
   "outputs": [],
   "source": [
    "cross_val_score(svc, X_test, y_test, cv=svc_cv).mean()"
   ]
  },
  {
   "cell_type": "code",
   "execution_count": null,
   "id": "0a1c7438",
   "metadata": {},
   "outputs": [],
   "source": [
    "#calculate pred test values\n",
    "svc_y_pred_test = svc.predict(X_test)"
   ]
  },
  {
   "cell_type": "code",
   "execution_count": null,
   "id": "537eb29b",
   "metadata": {},
   "outputs": [],
   "source": [
    "#accuracy score\n",
    "accuracy_score(y_test, svc_y_pred_test)"
   ]
  },
  {
   "cell_type": "code",
   "execution_count": null,
   "id": "95ecbf13",
   "metadata": {},
   "outputs": [],
   "source": [
    "#confusion matrix\n",
    "confusion_matrix(y_test, svc_y_pred_test)"
   ]
  },
  {
   "cell_type": "code",
   "execution_count": null,
   "id": "03af0877",
   "metadata": {},
   "outputs": [],
   "source": [
    "#classification report\n",
    "print(classification_report(y_test, svc_y_pred_test))"
   ]
  },
  {
   "cell_type": "code",
   "execution_count": null,
   "id": "19af1058",
   "metadata": {},
   "outputs": [],
   "source": [
    "df.to_csv(r'../data/svm_df.csv', index=False)"
   ]
  },
  {
   "cell_type": "code",
   "execution_count": null,
   "id": "a7a4324d",
   "metadata": {},
   "outputs": [],
   "source": [
    "y_test_check = y_test.reset_index()\n",
    "y_test_check['rfc'] = rfc_y_pred_test\n",
    "y_test_check['knnc'] = knnc_y_pred_test\n",
    "y_test_check['svc'] = svc_y_pred_test\n",
    "y_test_check['type1'] = y_test_check.rfc < y_test_check.label\n",
    "y_test_check['type2'] = y_test_check.rfc > y_test_check.label"
   ]
  },
  {
   "cell_type": "markdown",
   "id": "4d6d4b61",
   "metadata": {},
   "source": [
    "<b>Error Examination: A sample of 10 wrongly classified</b><br><br>\n",
    "<b>Type 1 Error (Classified as FL Studio but is Ableton)</b><br>\n",
    "Post do not have the clear Ableton and FL Studio keywords, posts seem genuine that can appear in either subreddit.<br><br>\n",
    "<b>Type 2 Error (Classified as Ableton but is FL Studio)</b><br>\n",
    "Post do not have the clear Ableton and FL Studio keywords, posts seem genuine that can appear in either subreddit. A few keywords that are more for Ableton appears in these posts."
   ]
  },
  {
   "cell_type": "code",
   "execution_count": null,
   "id": "689b7637",
   "metadata": {},
   "outputs": [],
   "source": [
    "#Type 1 Error\n",
    "#random index generated = 19902, 15213, 20472, 21939 and 19883\n",
    "y_test_check[y_test_check.type1 == True].sample(n = 5)"
   ]
  },
  {
   "cell_type": "code",
   "execution_count": null,
   "id": "4cd26681",
   "metadata": {},
   "outputs": [],
   "source": [
    "#lable as 1 but is 0 (1 = Ableton, 0 = Fl Studio)\n",
    "df_main.combinedtext[19902]"
   ]
  },
  {
   "cell_type": "code",
   "execution_count": null,
   "id": "467565f8",
   "metadata": {},
   "outputs": [],
   "source": [
    "df_main.combinedtext[15213]"
   ]
  },
  {
   "cell_type": "code",
   "execution_count": null,
   "id": "4d9a6640",
   "metadata": {},
   "outputs": [],
   "source": [
    "df_main.combinedtext[20472]"
   ]
  },
  {
   "cell_type": "code",
   "execution_count": null,
   "id": "cec15d27",
   "metadata": {},
   "outputs": [],
   "source": [
    "df_main.combinedtext[21939]"
   ]
  },
  {
   "cell_type": "code",
   "execution_count": null,
   "id": "d1f0f334",
   "metadata": {},
   "outputs": [],
   "source": [
    "df_main.combinedtext[19883]"
   ]
  },
  {
   "cell_type": "code",
   "execution_count": null,
   "id": "9b989f2d",
   "metadata": {},
   "outputs": [],
   "source": [
    "#Type 2 Error\n",
    "#random index generated = 3619, 7862, 7809, 10261 and 10552\n",
    "y_test_check[y_test_check.type2 == True].sample(n = 5)"
   ]
  },
  {
   "cell_type": "code",
   "execution_count": null,
   "id": "ebaff64d",
   "metadata": {},
   "outputs": [],
   "source": [
    "#lable as 0 but is 1 (1 = Ableton, 0 = Fl Studio)\n",
    "df_main.combinedtext[3619]"
   ]
  },
  {
   "cell_type": "code",
   "execution_count": null,
   "id": "7449c471",
   "metadata": {},
   "outputs": [],
   "source": [
    "df_main.combinedtext[7862]"
   ]
  },
  {
   "cell_type": "code",
   "execution_count": null,
   "id": "bdeffca5",
   "metadata": {},
   "outputs": [],
   "source": [
    "df_main.combinedtext[7809]"
   ]
  },
  {
   "cell_type": "code",
   "execution_count": null,
   "id": "1ac5663e",
   "metadata": {},
   "outputs": [],
   "source": [
    "df_main.combinedtext[10261]"
   ]
  },
  {
   "cell_type": "code",
   "execution_count": null,
   "id": "59e8a72e",
   "metadata": {},
   "outputs": [],
   "source": [
    "df_main.combinedtext[10552]"
   ]
  },
  {
   "cell_type": "code",
   "execution_count": null,
   "id": "505eb2dd",
   "metadata": {},
   "outputs": [],
   "source": []
  },
  {
   "cell_type": "markdown",
   "id": "531106f6",
   "metadata": {},
   "source": [
    "<b>Model Evaluation Summary</b>\n",
    "\n",
    "|Model|Train Cross Validation|Test Cross Validation|Accuracy|Type 1 Error|Type 2 Error|\n",
    "|:---|---:|---:|---:|---:|---:|\n",
    "|Random Forest Classifier|0.909|0.909|91%|5.1%|3.6%|\n",
    "|K-Nearest Neighbour Classifier|0.904|0.898|91%|4.6%|4.6%|\n",
    "|Support Vector Machines|0.894|0.882|90%|5.0%|5.0%|\n",
    "\n",
    "<b>All the three models have good results but the Random Forest Classifier has a slight edge over the others. It was, all, a very close fight between the models.</b>"
   ]
  },
  {
   "cell_type": "markdown",
   "id": "89a247ec",
   "metadata": {},
   "source": [
    "<b>Findings</b>"
   ]
  },
  {
   "cell_type": "code",
   "execution_count": null,
   "id": "f64096fb",
   "metadata": {},
   "outputs": [],
   "source": [
    "#reload result data\n",
    "df_result = pd.read_csv(r'../data/rf_df.csv', low_memory=False)"
   ]
  },
  {
   "cell_type": "code",
   "execution_count": null,
   "id": "182d7b79",
   "metadata": {},
   "outputs": [],
   "source": [
    "#create comparison - which is more for Ableton of FL Studio\n",
    "df_result['more_ableton'] = df_result.ableton_train > df_result.flstudio_train"
   ]
  },
  {
   "cell_type": "code",
   "execution_count": null,
   "id": "e8edf657",
   "metadata": {},
   "outputs": [],
   "source": [
    "    #show the top important words more closely related to Ableton\n",
    "df_result_ableton = df_result[df_result.more_ableton == True]\n",
    "y_axis = list(df_result_ableton.iloc[0:20,0])\n",
    "x_axis = list(df_result_ableton.iloc[0:20,1])\n",
    "y_axis.reverse()\n",
    "x_axis.reverse()\n",
    "\n",
    "plt.barh(y_axis, x_axis)\n",
    "plt.title('Words for Ableton')\n",
    "plt.ylabel('Words')\n",
    "plt.xlabel('Count')\n",
    "plt.show()"
   ]
  },
  {
   "cell_type": "code",
   "execution_count": null,
   "id": "5a33ca3f",
   "metadata": {},
   "outputs": [],
   "source": [
    "#show the top important words more closely related to Fl Studio\n",
    "df_result_ableton = df_result[df_result.more_ableton == False]\n",
    "y_axis = list(df_result_ableton.iloc[0:20,0])\n",
    "x_axis = list(df_result_ableton.iloc[0:20,1])\n",
    "y_axis.reverse()\n",
    "x_axis.reverse()\n",
    "\n",
    "plt.barh(y_axis, x_axis)\n",
    "plt.title('Words for FL Studio')\n",
    "plt.ylabel('Words')\n",
    "plt.xlabel('Count')\n",
    "plt.show()"
   ]
  }
 ],
 "metadata": {
  "kernelspec": {
   "display_name": "Python 3 (ipykernel)",
   "language": "python",
   "name": "python3"
  },
  "language_info": {
   "codemirror_mode": {
    "name": "ipython",
    "version": 3
   },
   "file_extension": ".py",
   "mimetype": "text/x-python",
   "name": "python",
   "nbconvert_exporter": "python",
   "pygments_lexer": "ipython3",
   "version": "3.9.13"
  }
 },
 "nbformat": 4,
 "nbformat_minor": 5
}
