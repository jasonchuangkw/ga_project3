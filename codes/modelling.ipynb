{
 "cells": [
  {
   "cell_type": "code",
   "execution_count": 53,
   "id": "c798b1b2",
   "metadata": {},
   "outputs": [],
   "source": [
    "#import libraries\n",
    "import numpy as np\n",
    "import pandas as pd       \n",
    "from sklearn.ensemble import RandomForestClassifier\n",
    "from sklearn.feature_extraction.text import CountVectorizer, TfidfVectorizer\n",
    "from sklearn.model_selection import cross_val_score, train_test_split, GridSearchCV, StratifiedKFold\n",
    "from sklearn.metrics import accuracy_score, confusion_matrix, classification_report\n",
    "from sklearn.neighbors import KNeighborsClassifier\n",
    "from sklearn.svm import LinearSVC, SVC\n",
    "from nltk.corpus import stopwords\n",
    "import matplotlib.pyplot as plt"
   ]
  },
  {
   "cell_type": "code",
   "execution_count": 2,
   "id": "66753cb1",
   "metadata": {},
   "outputs": [],
   "source": [
    "#load data\n",
    "df_main = pd.read_csv('../data/model_data.csv', low_memory=False)"
   ]
  },
  {
   "cell_type": "code",
   "execution_count": 3,
   "id": "d35c74cf",
   "metadata": {},
   "outputs": [],
   "source": [
    "#establish model variables\n",
    "\n",
    "X = df_main['combinedtext']\n",
    "y = df_main['label']\n",
    "\n",
    "cvec = CountVectorizer(max_features = 1000, stop_words = 'english')\n",
    "\n",
    "#convert back to dataframe\n",
    "X_cvec = pd.DataFrame(cvec.fit_transform(X).todense(),\n",
    "                      columns = cvec.get_feature_names_out())"
   ]
  },
  {
   "cell_type": "code",
   "execution_count": 4,
   "id": "553da9b6",
   "metadata": {},
   "outputs": [],
   "source": [
    "# Split the data into the training and testing sets. random state set to 88\n",
    "X_train, X_test, y_train, y_test = train_test_split(X_cvec,\n",
    "                                                    y,\n",
    "                                                    test_size=0.33,\n",
    "                                                    stratify=y,\n",
    "                                                    random_state=88)"
   ]
  },
  {
   "cell_type": "markdown",
   "id": "21f8c4e9",
   "metadata": {},
   "source": [
    "<b>Define Functions for Modeling</b>"
   ]
  },
  {
   "cell_type": "code",
   "execution_count": 5,
   "id": "9f8aa234",
   "metadata": {},
   "outputs": [],
   "source": [
    "#to obtain probabilities for specific keywords\n",
    "def cal_mean(source, brand, text):\n",
    "\n",
    "    if source == 1: #train\n",
    "        if brand == 0: #flstudio\n",
    "            try:\n",
    "                text = combined_train.loc[(combined_train['label'] == 0)].filter(regex=text).values.mean()\n",
    "                return text\n",
    "            except:\n",
    "                return text\n",
    "        else: \n",
    "            try: #ableton\n",
    "                text = combined_train.loc[(combined_train['label'] == 1)].filter(regex=text).values.mean()\n",
    "                return text\n",
    "            except:\n",
    "                return text\n",
    "    else: #test\n",
    "        if brand == 0: #flstudio\n",
    "            try:\n",
    "                text = combined_test.loc[(combined_test['label'] == 0)].filter(regex=text).values.mean()\n",
    "                return text\n",
    "            except:\n",
    "                return text\n",
    "        else: \n",
    "            try: #ableton\n",
    "                text = combined_test.loc[(combined_test['label'] == 1)].filter(regex=text).values.mean()\n",
    "                return text\n",
    "            except:\n",
    "                return text"
   ]
  },
  {
   "cell_type": "code",
   "execution_count": 6,
   "id": "e92813ef",
   "metadata": {},
   "outputs": [],
   "source": [
    "combined_train = X_train.copy(deep=True)\n",
    "combined_train['label'] = y_train.copy(deep=True)\n",
    "combined_test = X_test.copy(deep=True)\n",
    "combined_test['label'] = y_test.copy(deep=True)"
   ]
  },
  {
   "cell_type": "markdown",
   "id": "458009bd",
   "metadata": {},
   "source": [
    "<b>Random Forest Classifier</b><br/><br/>\n",
    "train cross validation score = 0.909<br/>\n",
    "test cross valiadation score = 0.909<br/>\n",
    "accuracy = 91%<br/>\n",
    "type 1 error (FP) = 406/7982 = 5.1%<br/>\n",
    "type 2 error (FN) = 293/7982 = 3.7%<br/><br/>\n",
    "<b>The train and test score shows that the fitting is good. The accuracy is fairly high and the Type 1 and 2 errors are resonably low. This result is faily similar to K-Nearest Neighbour Classifier but RFC is marginally better overall.<b/>"
   ]
  },
  {
   "cell_type": "code",
   "execution_count": 7,
   "id": "3fdcfb95",
   "metadata": {},
   "outputs": [
    {
     "name": "stdout",
     "output_type": "stream",
     "text": [
      "0.9100229244255565\n",
      "{'max_depth': None, 'n_estimators': 200}\n"
     ]
    }
   ],
   "source": [
    "#identify the best model using Grid Search\n",
    "rfc = RandomForestClassifier()\n",
    "\n",
    "rfc_params = {'n_estimators': [100, 150, 200], 'max_depth': [None, 1, 2, 3, 4, 5]}\n",
    "rfc_cv = StratifiedKFold(n_splits=10, shuffle=True, random_state=88)\n",
    "\n",
    "rfc_gs = GridSearchCV(rfc, rfc_params, cv=rfc_cv)\n",
    "rfc_gs.fit(X_train, y_train)\n",
    "\n",
    "print(rfc_gs.best_score_)\n",
    "print(rfc_gs.best_params_)"
   ]
  },
  {
   "cell_type": "code",
   "execution_count": 8,
   "id": "6038f390",
   "metadata": {},
   "outputs": [
    {
     "data": {
      "text/plain": [
       "0.9999382868427549"
      ]
     },
     "execution_count": 8,
     "metadata": {},
     "output_type": "execute_result"
    }
   ],
   "source": [
    "rfc_gs.score(X_train, y_train)"
   ]
  },
  {
   "cell_type": "code",
   "execution_count": 9,
   "id": "bc79a034",
   "metadata": {},
   "outputs": [
    {
     "data": {
      "text/plain": [
       "0.9113004259584064"
      ]
     },
     "execution_count": 9,
     "metadata": {},
     "output_type": "execute_result"
    }
   ],
   "source": [
    "rfc_gs.score(X_test, y_test)"
   ]
  },
  {
   "cell_type": "code",
   "execution_count": 10,
   "id": "ec5e1046",
   "metadata": {},
   "outputs": [
    {
     "data": {
      "text/html": [
       "<style>#sk-container-id-1 {color: black;background-color: white;}#sk-container-id-1 pre{padding: 0;}#sk-container-id-1 div.sk-toggleable {background-color: white;}#sk-container-id-1 label.sk-toggleable__label {cursor: pointer;display: block;width: 100%;margin-bottom: 0;padding: 0.3em;box-sizing: border-box;text-align: center;}#sk-container-id-1 label.sk-toggleable__label-arrow:before {content: \"▸\";float: left;margin-right: 0.25em;color: #696969;}#sk-container-id-1 label.sk-toggleable__label-arrow:hover:before {color: black;}#sk-container-id-1 div.sk-estimator:hover label.sk-toggleable__label-arrow:before {color: black;}#sk-container-id-1 div.sk-toggleable__content {max-height: 0;max-width: 0;overflow: hidden;text-align: left;background-color: #f0f8ff;}#sk-container-id-1 div.sk-toggleable__content pre {margin: 0.2em;color: black;border-radius: 0.25em;background-color: #f0f8ff;}#sk-container-id-1 input.sk-toggleable__control:checked~div.sk-toggleable__content {max-height: 200px;max-width: 100%;overflow: auto;}#sk-container-id-1 input.sk-toggleable__control:checked~label.sk-toggleable__label-arrow:before {content: \"▾\";}#sk-container-id-1 div.sk-estimator input.sk-toggleable__control:checked~label.sk-toggleable__label {background-color: #d4ebff;}#sk-container-id-1 div.sk-label input.sk-toggleable__control:checked~label.sk-toggleable__label {background-color: #d4ebff;}#sk-container-id-1 input.sk-hidden--visually {border: 0;clip: rect(1px 1px 1px 1px);clip: rect(1px, 1px, 1px, 1px);height: 1px;margin: -1px;overflow: hidden;padding: 0;position: absolute;width: 1px;}#sk-container-id-1 div.sk-estimator {font-family: monospace;background-color: #f0f8ff;border: 1px dotted black;border-radius: 0.25em;box-sizing: border-box;margin-bottom: 0.5em;}#sk-container-id-1 div.sk-estimator:hover {background-color: #d4ebff;}#sk-container-id-1 div.sk-parallel-item::after {content: \"\";width: 100%;border-bottom: 1px solid gray;flex-grow: 1;}#sk-container-id-1 div.sk-label:hover label.sk-toggleable__label {background-color: #d4ebff;}#sk-container-id-1 div.sk-serial::before {content: \"\";position: absolute;border-left: 1px solid gray;box-sizing: border-box;top: 0;bottom: 0;left: 50%;z-index: 0;}#sk-container-id-1 div.sk-serial {display: flex;flex-direction: column;align-items: center;background-color: white;padding-right: 0.2em;padding-left: 0.2em;position: relative;}#sk-container-id-1 div.sk-item {position: relative;z-index: 1;}#sk-container-id-1 div.sk-parallel {display: flex;align-items: stretch;justify-content: center;background-color: white;position: relative;}#sk-container-id-1 div.sk-item::before, #sk-container-id-1 div.sk-parallel-item::before {content: \"\";position: absolute;border-left: 1px solid gray;box-sizing: border-box;top: 0;bottom: 0;left: 50%;z-index: -1;}#sk-container-id-1 div.sk-parallel-item {display: flex;flex-direction: column;z-index: 1;position: relative;background-color: white;}#sk-container-id-1 div.sk-parallel-item:first-child::after {align-self: flex-end;width: 50%;}#sk-container-id-1 div.sk-parallel-item:last-child::after {align-self: flex-start;width: 50%;}#sk-container-id-1 div.sk-parallel-item:only-child::after {width: 0;}#sk-container-id-1 div.sk-dashed-wrapped {border: 1px dashed gray;margin: 0 0.4em 0.5em 0.4em;box-sizing: border-box;padding-bottom: 0.4em;background-color: white;}#sk-container-id-1 div.sk-label label {font-family: monospace;font-weight: bold;display: inline-block;line-height: 1.2em;}#sk-container-id-1 div.sk-label-container {text-align: center;}#sk-container-id-1 div.sk-container {/* jupyter's `normalize.less` sets `[hidden] { display: none; }` but bootstrap.min.css set `[hidden] { display: none !important; }` so we also need the `!important` here to be able to override the default hidden behavior on the sphinx rendered scikit-learn.org. See: https://github.com/scikit-learn/scikit-learn/issues/21755 */display: inline-block !important;position: relative;}#sk-container-id-1 div.sk-text-repr-fallback {display: none;}</style><div id=\"sk-container-id-1\" class=\"sk-top-container\"><div class=\"sk-text-repr-fallback\"><pre>RandomForestClassifier(n_estimators=200)</pre><b>In a Jupyter environment, please rerun this cell to show the HTML representation or trust the notebook. <br />On GitHub, the HTML representation is unable to render, please try loading this page with nbviewer.org.</b></div><div class=\"sk-container\" hidden><div class=\"sk-item\"><div class=\"sk-estimator sk-toggleable\"><input class=\"sk-toggleable__control sk-hidden--visually\" id=\"sk-estimator-id-1\" type=\"checkbox\" checked><label for=\"sk-estimator-id-1\" class=\"sk-toggleable__label sk-toggleable__label-arrow\">RandomForestClassifier</label><div class=\"sk-toggleable__content\"><pre>RandomForestClassifier(n_estimators=200)</pre></div></div></div></div></div>"
      ],
      "text/plain": [
       "RandomForestClassifier(n_estimators=200)"
      ]
     },
     "execution_count": 10,
     "metadata": {},
     "output_type": "execute_result"
    }
   ],
   "source": [
    "rfc = RandomForestClassifier(n_estimators = rfc_gs.best_params_['n_estimators'], max_depth = rfc_gs.best_params_['max_depth'])\n",
    "rfc.fit(X_train, y_train)"
   ]
  },
  {
   "cell_type": "code",
   "execution_count": 11,
   "id": "fca03181",
   "metadata": {},
   "outputs": [
    {
     "data": {
      "text/plain": [
       "0.9094674069504421"
      ]
     },
     "execution_count": 11,
     "metadata": {},
     "output_type": "execute_result"
    }
   ],
   "source": [
    "cross_val_score(rfc, X_train, y_train, cv=rfc_cv).mean()"
   ]
  },
  {
   "cell_type": "code",
   "execution_count": 12,
   "id": "7843d6c1",
   "metadata": {},
   "outputs": [
    {
     "data": {
      "text/plain": [
       "0.9095478056844237"
      ]
     },
     "execution_count": 12,
     "metadata": {},
     "output_type": "execute_result"
    }
   ],
   "source": [
    "cross_val_score(rfc, X_test, y_test, cv=rfc_cv).mean()"
   ]
  },
  {
   "cell_type": "code",
   "execution_count": 13,
   "id": "ec5213d8",
   "metadata": {},
   "outputs": [],
   "source": [
    "#indentify keywords that are driving identification\n",
    "df = pd.DataFrame(rfc.feature_importances_, index=X_train.columns).sort_values(by=0, ascending=False)\n",
    "\n",
    "df.reset_index(inplace=True)\n",
    "df = df.rename(columns = {'index':'keyword'})\n",
    "df = df.rename(columns = {0:'importance'})\n",
    "\n",
    "#brand 1 = ableton and 0 = flstudio \n",
    "#source 1 = train and 0 = test\n",
    "df['ableton_train'] = [cal_mean(1, 1, x) for x in df[\"keyword\"]]\n",
    "df['flstudio_train'] = [cal_mean(1, 0, x) for x in df[\"keyword\"]]\n",
    "df['ableton_test'] = [cal_mean(0, 1, x) for x in df[\"keyword\"]]\n",
    "df['flstudio_test'] = [cal_mean(0, 0, x) for x in df[\"keyword\"]]"
   ]
  },
  {
   "cell_type": "code",
   "execution_count": 14,
   "id": "f0926b21",
   "metadata": {},
   "outputs": [
    {
     "data": {
      "text/html": [
       "<div>\n",
       "<style scoped>\n",
       "    .dataframe tbody tr th:only-of-type {\n",
       "        vertical-align: middle;\n",
       "    }\n",
       "\n",
       "    .dataframe tbody tr th {\n",
       "        vertical-align: top;\n",
       "    }\n",
       "\n",
       "    .dataframe thead th {\n",
       "        text-align: right;\n",
       "    }\n",
       "</style>\n",
       "<table border=\"1\" class=\"dataframe\">\n",
       "  <thead>\n",
       "    <tr style=\"text-align: right;\">\n",
       "      <th></th>\n",
       "      <th>keyword</th>\n",
       "      <th>importance</th>\n",
       "      <th>ableton_train</th>\n",
       "      <th>flstudio_train</th>\n",
       "      <th>ableton_test</th>\n",
       "      <th>flstudio_test</th>\n",
       "    </tr>\n",
       "  </thead>\n",
       "  <tbody>\n",
       "    <tr>\n",
       "      <th>0</th>\n",
       "      <td>ableton</td>\n",
       "      <td>0.147749</td>\n",
       "      <td>0.293501</td>\n",
       "      <td>0.008181</td>\n",
       "      <td>0.303360</td>\n",
       "      <td>0.007489</td>\n",
       "    </tr>\n",
       "    <tr>\n",
       "      <th>1</th>\n",
       "      <td>fl_studio</td>\n",
       "      <td>0.083378</td>\n",
       "      <td>0.027583</td>\n",
       "      <td>0.534007</td>\n",
       "      <td>0.024842</td>\n",
       "      <td>0.490068</td>\n",
       "    </tr>\n",
       "    <tr>\n",
       "      <th>2</th>\n",
       "      <td>fl</td>\n",
       "      <td>0.074967</td>\n",
       "      <td>0.024524</td>\n",
       "      <td>0.272778</td>\n",
       "      <td>0.022857</td>\n",
       "      <td>0.258548</td>\n",
       "    </tr>\n",
       "    <tr>\n",
       "      <th>3</th>\n",
       "      <td>live</td>\n",
       "      <td>0.025463</td>\n",
       "      <td>0.145898</td>\n",
       "      <td>0.006801</td>\n",
       "      <td>0.153370</td>\n",
       "      <td>0.007815</td>\n",
       "    </tr>\n",
       "    <tr>\n",
       "      <th>4</th>\n",
       "      <td>ableton_live_11</td>\n",
       "      <td>0.018021</td>\n",
       "      <td>0.152558</td>\n",
       "      <td>0.000321</td>\n",
       "      <td>0.162085</td>\n",
       "      <td>0.000000</td>\n",
       "    </tr>\n",
       "    <tr>\n",
       "      <th>5</th>\n",
       "      <td>playlist</td>\n",
       "      <td>0.011907</td>\n",
       "      <td>0.004614</td>\n",
       "      <td>0.101700</td>\n",
       "      <td>0.003054</td>\n",
       "      <td>0.101270</td>\n",
       "    </tr>\n",
       "    <tr>\n",
       "      <th>6</th>\n",
       "      <td>mixer</td>\n",
       "      <td>0.011347</td>\n",
       "      <td>0.030391</td>\n",
       "      <td>0.155438</td>\n",
       "      <td>0.033394</td>\n",
       "      <td>0.158255</td>\n",
       "    </tr>\n",
       "    <tr>\n",
       "      <th>7</th>\n",
       "      <td>ableton_live_10</td>\n",
       "      <td>0.010510</td>\n",
       "      <td>0.101204</td>\n",
       "      <td>0.000481</td>\n",
       "      <td>0.106088</td>\n",
       "      <td>0.000000</td>\n",
       "    </tr>\n",
       "    <tr>\n",
       "      <th>8</th>\n",
       "      <td>ableton_live</td>\n",
       "      <td>0.010317</td>\n",
       "      <td>0.094383</td>\n",
       "      <td>0.001203</td>\n",
       "      <td>0.100896</td>\n",
       "      <td>0.001710</td>\n",
       "    </tr>\n",
       "    <tr>\n",
       "      <th>9</th>\n",
       "      <td>beat</td>\n",
       "      <td>0.009210</td>\n",
       "      <td>0.069809</td>\n",
       "      <td>0.232435</td>\n",
       "      <td>0.069232</td>\n",
       "      <td>0.209704</td>\n",
       "    </tr>\n",
       "  </tbody>\n",
       "</table>\n",
       "</div>"
      ],
      "text/plain": [
       "           keyword  importance  ableton_train  flstudio_train  ableton_test  \\\n",
       "0          ableton    0.147749       0.293501        0.008181      0.303360   \n",
       "1        fl_studio    0.083378       0.027583        0.534007      0.024842   \n",
       "2               fl    0.074967       0.024524        0.272778      0.022857   \n",
       "3             live    0.025463       0.145898        0.006801      0.153370   \n",
       "4  ableton_live_11    0.018021       0.152558        0.000321      0.162085   \n",
       "5         playlist    0.011907       0.004614        0.101700      0.003054   \n",
       "6            mixer    0.011347       0.030391        0.155438      0.033394   \n",
       "7  ableton_live_10    0.010510       0.101204        0.000481      0.106088   \n",
       "8     ableton_live    0.010317       0.094383        0.001203      0.100896   \n",
       "9             beat    0.009210       0.069809        0.232435      0.069232   \n",
       "\n",
       "   flstudio_test  \n",
       "0       0.007489  \n",
       "1       0.490068  \n",
       "2       0.258548  \n",
       "3       0.007815  \n",
       "4       0.000000  \n",
       "5       0.101270  \n",
       "6       0.158255  \n",
       "7       0.000000  \n",
       "8       0.001710  \n",
       "9       0.209704  "
      ]
     },
     "execution_count": 14,
     "metadata": {},
     "output_type": "execute_result"
    }
   ],
   "source": [
    "#top 10 influencial words by importance\n",
    "df.head(10)"
   ]
  },
  {
   "cell_type": "code",
   "execution_count": 56,
   "id": "b59639c1",
   "metadata": {},
   "outputs": [
    {
     "data": {
      "image/png": "[encoded data removed]",
      "text/plain": [
       "<Figure size 640x480 with 1 Axes>"
      ]
     },
     "metadata": {},
     "output_type": "display_data"
    }
   ],
   "source": [
    "y_axis = list(df.iloc[0:40,0])\n",
    "x_axis = list(df.iloc[0:40,1])\n",
    "y_axis.reverse()\n",
    "x_axis.reverse()\n",
    "\n",
    "plt.barh(y_axis, x_axis)\n",
    "plt.title('Words by Importance')\n",
    "plt.ylabel('Words')\n",
    "plt.xlabel('Count')\n",
    "plt.show()"
   ]
  },
  {
   "cell_type": "code",
   "execution_count": 47,
   "id": "67ce2dd9",
   "metadata": {},
   "outputs": [],
   "source": [
    "df.to_csv(r'../data/rf_df.csv', index=False)"
   ]
  },
  {
   "cell_type": "code",
   "execution_count": 16,
   "id": "2de467c7",
   "metadata": {},
   "outputs": [],
   "source": [
    "#calculate pred test values\n",
    "rfc_y_pred_test = rfc.predict(X_test)"
   ]
  },
  {
   "cell_type": "code",
   "execution_count": 17,
   "id": "20e34f8a",
   "metadata": {},
   "outputs": [
    {
     "data": {
      "text/plain": [
       "0.9124279629165623"
      ]
     },
     "execution_count": 17,
     "metadata": {},
     "output_type": "execute_result"
    }
   ],
   "source": [
    "#accuracy score\n",
    "accuracy_score(y_test, rfc_y_pred_test)"
   ]
  },
  {
   "cell_type": "code",
   "execution_count": 18,
   "id": "23a6ea95",
   "metadata": {},
   "outputs": [
    {
     "data": {
      "text/plain": [
       "array([[2665,  406],\n",
       "       [ 293, 4618]], dtype=int64)"
      ]
     },
     "execution_count": 18,
     "metadata": {},
     "output_type": "execute_result"
    }
   ],
   "source": [
    "#confusion matrix\n",
    "confusion_matrix(y_test, rfc_y_pred_test)"
   ]
  },
  {
   "cell_type": "code",
   "execution_count": 19,
   "id": "d4e849be",
   "metadata": {},
   "outputs": [
    {
     "name": "stdout",
     "output_type": "stream",
     "text": [
      "              precision    recall  f1-score   support\n",
      "\n",
      "           0       0.90      0.87      0.88      3071\n",
      "           1       0.92      0.94      0.93      4911\n",
      "\n",
      "    accuracy                           0.91      7982\n",
      "   macro avg       0.91      0.90      0.91      7982\n",
      "weighted avg       0.91      0.91      0.91      7982\n",
      "\n"
     ]
    }
   ],
   "source": [
    "#classification report\n",
    "print(classification_report(y_test, rfc_y_pred_test))"
   ]
  },
  {
   "cell_type": "markdown",
   "id": "cdc232f0",
   "metadata": {},
   "source": [
    "<b>K-Nearest Neighbour Classifier</b><br/><br/>\n",
    "train cross validation score = 0.904<br/>\n",
    "test cross valiadation score = 0.898<br/>\n",
    "accuracy = 91%<br/>\n",
    "type 1 error (FP) = 402/7982 = 5.0%<br/>\n",
    "type 2 error (FN) = 293/7982 = 4.3%<br/><br/>\n",
    "<b>The train and test score shows that the fitting is good. The accuracy is fairly high and the Type 1 and 2 errors are resonably low. This result is faily similar to Random Forest Classifier but RFC is marginally better overall.<b/>"
   ]
  },
  {
   "cell_type": "code",
   "execution_count": 20,
   "id": "d75b24a6",
   "metadata": {},
   "outputs": [
    {
     "name": "stdout",
     "output_type": "stream",
     "text": [
      "0.7756732621990693\n",
      "{'n_neighbors': 30}\n"
     ]
    }
   ],
   "source": [
    "#identify the best model using Grid Search\n",
    "\n",
    "knnc = KNeighborsClassifier()\n",
    "\n",
    "knnc_params = {'n_neighbors': list(range(1, 31))}\n",
    "knnc_cv = StratifiedKFold(n_splits=10, shuffle=True, random_state=88)\n",
    "\n",
    "knnc_gs = GridSearchCV(knnc, knnc_params, cv=knnc_cv)\n",
    "knnc_gs.fit(X_train, y_train)\n",
    "\n",
    "print(knnc_gs.best_score_)\n",
    "print(knnc_gs.best_params_)"
   ]
  },
  {
   "cell_type": "code",
   "execution_count": 21,
   "id": "5a90221a",
   "metadata": {},
   "outputs": [
    {
     "data": {
      "text/plain": [
       "0.7944334732164897"
      ]
     },
     "execution_count": 21,
     "metadata": {},
     "output_type": "execute_result"
    }
   ],
   "source": [
    "knnc_gs.score(X_train, y_train)"
   ]
  },
  {
   "cell_type": "code",
   "execution_count": 22,
   "id": "4050d383",
   "metadata": {},
   "outputs": [
    {
     "data": {
      "text/plain": [
       "0.7617138561763969"
      ]
     },
     "execution_count": 22,
     "metadata": {},
     "output_type": "execute_result"
    }
   ],
   "source": [
    "knnc_gs.score(X_test, y_test)"
   ]
  },
  {
   "cell_type": "code",
   "execution_count": 23,
   "id": "8242a469",
   "metadata": {},
   "outputs": [
    {
     "data": {
      "text/html": [
       "<style>#sk-container-id-2 {color: black;background-color: white;}#sk-container-id-2 pre{padding: 0;}#sk-container-id-2 div.sk-toggleable {background-color: white;}#sk-container-id-2 label.sk-toggleable__label {cursor: pointer;display: block;width: 100%;margin-bottom: 0;padding: 0.3em;box-sizing: border-box;text-align: center;}#sk-container-id-2 label.sk-toggleable__label-arrow:before {content: \"▸\";float: left;margin-right: 0.25em;color: #696969;}#sk-container-id-2 label.sk-toggleable__label-arrow:hover:before {color: black;}#sk-container-id-2 div.sk-estimator:hover label.sk-toggleable__label-arrow:before {color: black;}#sk-container-id-2 div.sk-toggleable__content {max-height: 0;max-width: 0;overflow: hidden;text-align: left;background-color: #f0f8ff;}#sk-container-id-2 div.sk-toggleable__content pre {margin: 0.2em;color: black;border-radius: 0.25em;background-color: #f0f8ff;}#sk-container-id-2 input.sk-toggleable__control:checked~div.sk-toggleable__content {max-height: 200px;max-width: 100%;overflow: auto;}#sk-container-id-2 input.sk-toggleable__control:checked~label.sk-toggleable__label-arrow:before {content: \"▾\";}#sk-container-id-2 div.sk-estimator input.sk-toggleable__control:checked~label.sk-toggleable__label {background-color: #d4ebff;}#sk-container-id-2 div.sk-label input.sk-toggleable__control:checked~label.sk-toggleable__label {background-color: #d4ebff;}#sk-container-id-2 input.sk-hidden--visually {border: 0;clip: rect(1px 1px 1px 1px);clip: rect(1px, 1px, 1px, 1px);height: 1px;margin: -1px;overflow: hidden;padding: 0;position: absolute;width: 1px;}#sk-container-id-2 div.sk-estimator {font-family: monospace;background-color: #f0f8ff;border: 1px dotted black;border-radius: 0.25em;box-sizing: border-box;margin-bottom: 0.5em;}#sk-container-id-2 div.sk-estimator:hover {background-color: #d4ebff;}#sk-container-id-2 div.sk-parallel-item::after {content: \"\";width: 100%;border-bottom: 1px solid gray;flex-grow: 1;}#sk-container-id-2 div.sk-label:hover label.sk-toggleable__label {background-color: #d4ebff;}#sk-container-id-2 div.sk-serial::before {content: \"\";position: absolute;border-left: 1px solid gray;box-sizing: border-box;top: 0;bottom: 0;left: 50%;z-index: 0;}#sk-container-id-2 div.sk-serial {display: flex;flex-direction: column;align-items: center;background-color: white;padding-right: 0.2em;padding-left: 0.2em;position: relative;}#sk-container-id-2 div.sk-item {position: relative;z-index: 1;}#sk-container-id-2 div.sk-parallel {display: flex;align-items: stretch;justify-content: center;background-color: white;position: relative;}#sk-container-id-2 div.sk-item::before, #sk-container-id-2 div.sk-parallel-item::before {content: \"\";position: absolute;border-left: 1px solid gray;box-sizing: border-box;top: 0;bottom: 0;left: 50%;z-index: -1;}#sk-container-id-2 div.sk-parallel-item {display: flex;flex-direction: column;z-index: 1;position: relative;background-color: white;}#sk-container-id-2 div.sk-parallel-item:first-child::after {align-self: flex-end;width: 50%;}#sk-container-id-2 div.sk-parallel-item:last-child::after {align-self: flex-start;width: 50%;}#sk-container-id-2 div.sk-parallel-item:only-child::after {width: 0;}#sk-container-id-2 div.sk-dashed-wrapped {border: 1px dashed gray;margin: 0 0.4em 0.5em 0.4em;box-sizing: border-box;padding-bottom: 0.4em;background-color: white;}#sk-container-id-2 div.sk-label label {font-family: monospace;font-weight: bold;display: inline-block;line-height: 1.2em;}#sk-container-id-2 div.sk-label-container {text-align: center;}#sk-container-id-2 div.sk-container {/* jupyter's `normalize.less` sets `[hidden] { display: none; }` but bootstrap.min.css set `[hidden] { display: none !important; }` so we also need the `!important` here to be able to override the default hidden behavior on the sphinx rendered scikit-learn.org. See: https://github.com/scikit-learn/scikit-learn/issues/21755 */display: inline-block !important;position: relative;}#sk-container-id-2 div.sk-text-repr-fallback {display: none;}</style><div id=\"sk-container-id-2\" class=\"sk-top-container\"><div class=\"sk-text-repr-fallback\"><pre>RandomForestClassifier(n_estimators=30)</pre><b>In a Jupyter environment, please rerun this cell to show the HTML representation or trust the notebook. <br />On GitHub, the HTML representation is unable to render, please try loading this page with nbviewer.org.</b></div><div class=\"sk-container\" hidden><div class=\"sk-item\"><div class=\"sk-estimator sk-toggleable\"><input class=\"sk-toggleable__control sk-hidden--visually\" id=\"sk-estimator-id-2\" type=\"checkbox\" checked><label for=\"sk-estimator-id-2\" class=\"sk-toggleable__label sk-toggleable__label-arrow\">RandomForestClassifier</label><div class=\"sk-toggleable__content\"><pre>RandomForestClassifier(n_estimators=30)</pre></div></div></div></div></div>"
      ],
      "text/plain": [
       "RandomForestClassifier(n_estimators=30)"
      ]
     },
     "execution_count": 23,
     "metadata": {},
     "output_type": "execute_result"
    }
   ],
   "source": [
    "knnc = RandomForestClassifier(n_estimators = knnc_gs.best_params_['n_neighbors'])\n",
    "knnc.fit(X_train, y_train)"
   ]
  },
  {
   "cell_type": "code",
   "execution_count": 24,
   "id": "f3e4d4c5",
   "metadata": {},
   "outputs": [
    {
     "data": {
      "text/plain": [
       "0.9045292495868272"
      ]
     },
     "execution_count": 24,
     "metadata": {},
     "output_type": "execute_result"
    }
   ],
   "source": [
    "cross_val_score(knnc, X_train, y_train, cv=10).mean()"
   ]
  },
  {
   "cell_type": "code",
   "execution_count": 25,
   "id": "803e96e2",
   "metadata": {},
   "outputs": [
    {
     "data": {
      "text/plain": [
       "0.898396962368374"
      ]
     },
     "execution_count": 25,
     "metadata": {},
     "output_type": "execute_result"
    }
   ],
   "source": [
    "cross_val_score(knnc, X_test, y_test, cv=10).mean()"
   ]
  },
  {
   "cell_type": "code",
   "execution_count": 26,
   "id": "f563e9b9",
   "metadata": {},
   "outputs": [],
   "source": [
    "#indentify keywords that are driving identification\n",
    "df = pd.DataFrame(knnc.feature_importances_, index=X_train.columns).sort_values(by=0, ascending=False)\n",
    "\n",
    "df.reset_index(inplace=True)\n",
    "df = df.rename(columns = {'index':'keyword'})\n",
    "df = df.rename(columns = {0:'importance'})\n",
    "\n",
    "#brand 1 = ableton and 0 = flstudio \n",
    "#source 1 = train and 0 = test\n",
    "df['ableton_train'] = [cal_mean(1, 1, x) for x in df[\"keyword\"]]\n",
    "df['flstudio_train'] = [cal_mean(1, 0, x) for x in df[\"keyword\"]]\n",
    "df['ableton_test'] = [cal_mean(0, 1, x) for x in df[\"keyword\"]]\n",
    "df['flstudio_test'] = [cal_mean(0, 0, x) for x in df[\"keyword\"]]"
   ]
  },
  {
   "cell_type": "code",
   "execution_count": 27,
   "id": "82b6e56b",
   "metadata": {},
   "outputs": [
    {
     "data": {
      "text/html": [
       "<div>\n",
       "<style scoped>\n",
       "    .dataframe tbody tr th:only-of-type {\n",
       "        vertical-align: middle;\n",
       "    }\n",
       "\n",
       "    .dataframe tbody tr th {\n",
       "        vertical-align: top;\n",
       "    }\n",
       "\n",
       "    .dataframe thead th {\n",
       "        text-align: right;\n",
       "    }\n",
       "</style>\n",
       "<table border=\"1\" class=\"dataframe\">\n",
       "  <thead>\n",
       "    <tr style=\"text-align: right;\">\n",
       "      <th></th>\n",
       "      <th>keyword</th>\n",
       "      <th>importance</th>\n",
       "      <th>ableton_train</th>\n",
       "      <th>flstudio_train</th>\n",
       "      <th>ableton_test</th>\n",
       "      <th>flstudio_test</th>\n",
       "    </tr>\n",
       "  </thead>\n",
       "  <tbody>\n",
       "    <tr>\n",
       "      <th>0</th>\n",
       "      <td>ableton</td>\n",
       "      <td>0.139555</td>\n",
       "      <td>0.293501</td>\n",
       "      <td>0.008181</td>\n",
       "      <td>0.303360</td>\n",
       "      <td>0.007489</td>\n",
       "    </tr>\n",
       "    <tr>\n",
       "      <th>1</th>\n",
       "      <td>fl_studio</td>\n",
       "      <td>0.098170</td>\n",
       "      <td>0.027583</td>\n",
       "      <td>0.534007</td>\n",
       "      <td>0.024842</td>\n",
       "      <td>0.490068</td>\n",
       "    </tr>\n",
       "    <tr>\n",
       "      <th>2</th>\n",
       "      <td>fl</td>\n",
       "      <td>0.065539</td>\n",
       "      <td>0.024524</td>\n",
       "      <td>0.272778</td>\n",
       "      <td>0.022857</td>\n",
       "      <td>0.258548</td>\n",
       "    </tr>\n",
       "    <tr>\n",
       "      <th>3</th>\n",
       "      <td>live</td>\n",
       "      <td>0.020931</td>\n",
       "      <td>0.145898</td>\n",
       "      <td>0.006801</td>\n",
       "      <td>0.153370</td>\n",
       "      <td>0.007815</td>\n",
       "    </tr>\n",
       "    <tr>\n",
       "      <th>4</th>\n",
       "      <td>ableton_live_11</td>\n",
       "      <td>0.018274</td>\n",
       "      <td>0.152558</td>\n",
       "      <td>0.000321</td>\n",
       "      <td>0.162085</td>\n",
       "      <td>0.000000</td>\n",
       "    </tr>\n",
       "    <tr>\n",
       "      <th>5</th>\n",
       "      <td>playlist</td>\n",
       "      <td>0.011424</td>\n",
       "      <td>0.004614</td>\n",
       "      <td>0.101700</td>\n",
       "      <td>0.003054</td>\n",
       "      <td>0.101270</td>\n",
       "    </tr>\n",
       "    <tr>\n",
       "      <th>6</th>\n",
       "      <td>mixer</td>\n",
       "      <td>0.010572</td>\n",
       "      <td>0.030391</td>\n",
       "      <td>0.155438</td>\n",
       "      <td>0.033394</td>\n",
       "      <td>0.158255</td>\n",
       "    </tr>\n",
       "    <tr>\n",
       "      <th>7</th>\n",
       "      <td>ableton_live</td>\n",
       "      <td>0.010507</td>\n",
       "      <td>0.094383</td>\n",
       "      <td>0.001203</td>\n",
       "      <td>0.100896</td>\n",
       "      <td>0.001710</td>\n",
       "    </tr>\n",
       "    <tr>\n",
       "      <th>8</th>\n",
       "      <td>ableton_live_10</td>\n",
       "      <td>0.009630</td>\n",
       "      <td>0.101204</td>\n",
       "      <td>0.000481</td>\n",
       "      <td>0.106088</td>\n",
       "      <td>0.000000</td>\n",
       "    </tr>\n",
       "    <tr>\n",
       "      <th>9</th>\n",
       "      <td>pattern</td>\n",
       "      <td>0.008857</td>\n",
       "      <td>0.019057</td>\n",
       "      <td>0.125281</td>\n",
       "      <td>0.019344</td>\n",
       "      <td>0.133181</td>\n",
       "    </tr>\n",
       "  </tbody>\n",
       "</table>\n",
       "</div>"
      ],
      "text/plain": [
       "           keyword  importance  ableton_train  flstudio_train  ableton_test  \\\n",
       "0          ableton    0.139555       0.293501        0.008181      0.303360   \n",
       "1        fl_studio    0.098170       0.027583        0.534007      0.024842   \n",
       "2               fl    0.065539       0.024524        0.272778      0.022857   \n",
       "3             live    0.020931       0.145898        0.006801      0.153370   \n",
       "4  ableton_live_11    0.018274       0.152558        0.000321      0.162085   \n",
       "5         playlist    0.011424       0.004614        0.101700      0.003054   \n",
       "6            mixer    0.010572       0.030391        0.155438      0.033394   \n",
       "7     ableton_live    0.010507       0.094383        0.001203      0.100896   \n",
       "8  ableton_live_10    0.009630       0.101204        0.000481      0.106088   \n",
       "9          pattern    0.008857       0.019057        0.125281      0.019344   \n",
       "\n",
       "   flstudio_test  \n",
       "0       0.007489  \n",
       "1       0.490068  \n",
       "2       0.258548  \n",
       "3       0.007815  \n",
       "4       0.000000  \n",
       "5       0.101270  \n",
       "6       0.158255  \n",
       "7       0.001710  \n",
       "8       0.000000  \n",
       "9       0.133181  "
      ]
     },
     "execution_count": 27,
     "metadata": {},
     "output_type": "execute_result"
    }
   ],
   "source": [
    "#top 10 influencial words\n",
    "df.head(10)"
   ]
  },
  {
   "cell_type": "code",
   "execution_count": 55,
   "id": "304a990e",
   "metadata": {},
   "outputs": [
    {
     "data": {
      "image/png": "[encoded data removed]",
      "text/plain": [
       "<Figure size 640x480 with 1 Axes>"
      ]
     },
     "metadata": {},
     "output_type": "display_data"
    }
   ],
   "source": [
    "y_axis = list(df.iloc[0:40,0])\n",
    "x_axis = list(df.iloc[0:40,1])\n",
    "y_axis.reverse()\n",
    "x_axis.reverse()\n",
    "\n",
    "plt.barh(y_axis, x_axis)\n",
    "plt.title('Words by Importance')\n",
    "plt.ylabel('Words')\n",
    "plt.xlabel('Count')\n",
    "plt.show()"
   ]
  },
  {
   "cell_type": "code",
   "execution_count": 49,
   "id": "9f4b5a0e",
   "metadata": {},
   "outputs": [],
   "source": [
    "df.to_csv(r'../data/knnc_df.csv', index=False)"
   ]
  },
  {
   "cell_type": "code",
   "execution_count": 29,
   "id": "d482311e",
   "metadata": {},
   "outputs": [],
   "source": [
    "#calculate pred test values\n",
    "knnc_y_pred_test = knnc.predict(X_test)"
   ]
  },
  {
   "cell_type": "code",
   "execution_count": 30,
   "id": "c06ba201",
   "metadata": {},
   "outputs": [
    {
     "data": {
      "text/plain": [
       "0.9059133049361062"
      ]
     },
     "execution_count": 30,
     "metadata": {},
     "output_type": "execute_result"
    }
   ],
   "source": [
    "#accuracy score\n",
    "accuracy_score(y_test, knnc_y_pred_test)"
   ]
  },
  {
   "cell_type": "code",
   "execution_count": 31,
   "id": "4ccc92ae",
   "metadata": {},
   "outputs": [
    {
     "data": {
      "text/plain": [
       "array([[2669,  402],\n",
       "       [ 349, 4562]], dtype=int64)"
      ]
     },
     "execution_count": 31,
     "metadata": {},
     "output_type": "execute_result"
    }
   ],
   "source": [
    "#confusion matrix\n",
    "confusion_matrix(y_test, knnc_y_pred_test)"
   ]
  },
  {
   "cell_type": "code",
   "execution_count": 32,
   "id": "f52e9988",
   "metadata": {},
   "outputs": [
    {
     "name": "stdout",
     "output_type": "stream",
     "text": [
      "              precision    recall  f1-score   support\n",
      "\n",
      "           0       0.88      0.87      0.88      3071\n",
      "           1       0.92      0.93      0.92      4911\n",
      "\n",
      "    accuracy                           0.91      7982\n",
      "   macro avg       0.90      0.90      0.90      7982\n",
      "weighted avg       0.91      0.91      0.91      7982\n",
      "\n"
     ]
    }
   ],
   "source": [
    "#classification report\n",
    "print(classification_report(y_test, knnc_y_pred_test))"
   ]
  },
  {
   "cell_type": "markdown",
   "id": "a82f6128",
   "metadata": {},
   "source": [
    "<b>Support Vector Machines</b><br/><br/>\n",
    "train cross validation score = 0.894<br/>\n",
    "test cross valiadation score = 0.882<br/>\n",
    "accuracy = 0.90%<br/>\n",
    "type 1 error (FP) = 402/7982 = 5.0%<br/>\n",
    "type 2 error (FN) = 293/7982 = 5.0%<br/><br/>\n",
    "<b>The train and test score shows that the fitting is good. The accuracy is fairly high and the Type 1 and 2 errors are resonably low. RFC is still marginally better overall.<b/>"
   ]
  },
  {
   "cell_type": "code",
   "execution_count": 58,
   "id": "e6977797",
   "metadata": {},
   "outputs": [
    {
     "name": "stdout",
     "output_type": "stream",
     "text": [
      "0.8821126658950253\n",
      "{'C': 0.2223111111111111}\n"
     ]
    }
   ],
   "source": [
    "#identify the best model using Grid Search\n",
    "\n",
    "svc = LinearSVC(max_iter=40000)\n",
    "\n",
    "# C values to GridSearch over\n",
    "svc_params = {\"C\": np.linspace(0.0001, 2, 10)}\n",
    "\n",
    "svc_cv = StratifiedKFold(n_splits=10, shuffle=True, random_state=88)\n",
    "\n",
    "svc_gs = GridSearchCV(svc, svc_params, cv=svc_cv)\n",
    "svc_gs.fit(X_test, y_test)\n",
    "\n",
    "print(svc_gs.best_score_)\n",
    "print(svc_gs.best_params_)"
   ]
  },
  {
   "cell_type": "code",
   "execution_count": 34,
   "id": "e43f0384",
   "metadata": {},
   "outputs": [
    {
     "data": {
      "text/plain": [
       "0.8779930881263885"
      ]
     },
     "execution_count": 34,
     "metadata": {},
     "output_type": "execute_result"
    }
   ],
   "source": [
    "svc_gs.score(X_train, y_train)"
   ]
  },
  {
   "cell_type": "code",
   "execution_count": 35,
   "id": "8d67c023",
   "metadata": {},
   "outputs": [
    {
     "data": {
      "text/plain": [
       "0.9564019042846404"
      ]
     },
     "execution_count": 35,
     "metadata": {},
     "output_type": "execute_result"
    }
   ],
   "source": [
    "svc_gs.score(X_test, y_test)"
   ]
  },
  {
   "cell_type": "code",
   "execution_count": 36,
   "id": "99e3822b",
   "metadata": {},
   "outputs": [
    {
     "data": {
      "text/html": [
       "<style>#sk-container-id-3 {color: black;background-color: white;}#sk-container-id-3 pre{padding: 0;}#sk-container-id-3 div.sk-toggleable {background-color: white;}#sk-container-id-3 label.sk-toggleable__label {cursor: pointer;display: block;width: 100%;margin-bottom: 0;padding: 0.3em;box-sizing: border-box;text-align: center;}#sk-container-id-3 label.sk-toggleable__label-arrow:before {content: \"▸\";float: left;margin-right: 0.25em;color: #696969;}#sk-container-id-3 label.sk-toggleable__label-arrow:hover:before {color: black;}#sk-container-id-3 div.sk-estimator:hover label.sk-toggleable__label-arrow:before {color: black;}#sk-container-id-3 div.sk-toggleable__content {max-height: 0;max-width: 0;overflow: hidden;text-align: left;background-color: #f0f8ff;}#sk-container-id-3 div.sk-toggleable__content pre {margin: 0.2em;color: black;border-radius: 0.25em;background-color: #f0f8ff;}#sk-container-id-3 input.sk-toggleable__control:checked~div.sk-toggleable__content {max-height: 200px;max-width: 100%;overflow: auto;}#sk-container-id-3 input.sk-toggleable__control:checked~label.sk-toggleable__label-arrow:before {content: \"▾\";}#sk-container-id-3 div.sk-estimator input.sk-toggleable__control:checked~label.sk-toggleable__label {background-color: #d4ebff;}#sk-container-id-3 div.sk-label input.sk-toggleable__control:checked~label.sk-toggleable__label {background-color: #d4ebff;}#sk-container-id-3 input.sk-hidden--visually {border: 0;clip: rect(1px 1px 1px 1px);clip: rect(1px, 1px, 1px, 1px);height: 1px;margin: -1px;overflow: hidden;padding: 0;position: absolute;width: 1px;}#sk-container-id-3 div.sk-estimator {font-family: monospace;background-color: #f0f8ff;border: 1px dotted black;border-radius: 0.25em;box-sizing: border-box;margin-bottom: 0.5em;}#sk-container-id-3 div.sk-estimator:hover {background-color: #d4ebff;}#sk-container-id-3 div.sk-parallel-item::after {content: \"\";width: 100%;border-bottom: 1px solid gray;flex-grow: 1;}#sk-container-id-3 div.sk-label:hover label.sk-toggleable__label {background-color: #d4ebff;}#sk-container-id-3 div.sk-serial::before {content: \"\";position: absolute;border-left: 1px solid gray;box-sizing: border-box;top: 0;bottom: 0;left: 50%;z-index: 0;}#sk-container-id-3 div.sk-serial {display: flex;flex-direction: column;align-items: center;background-color: white;padding-right: 0.2em;padding-left: 0.2em;position: relative;}#sk-container-id-3 div.sk-item {position: relative;z-index: 1;}#sk-container-id-3 div.sk-parallel {display: flex;align-items: stretch;justify-content: center;background-color: white;position: relative;}#sk-container-id-3 div.sk-item::before, #sk-container-id-3 div.sk-parallel-item::before {content: \"\";position: absolute;border-left: 1px solid gray;box-sizing: border-box;top: 0;bottom: 0;left: 50%;z-index: -1;}#sk-container-id-3 div.sk-parallel-item {display: flex;flex-direction: column;z-index: 1;position: relative;background-color: white;}#sk-container-id-3 div.sk-parallel-item:first-child::after {align-self: flex-end;width: 50%;}#sk-container-id-3 div.sk-parallel-item:last-child::after {align-self: flex-start;width: 50%;}#sk-container-id-3 div.sk-parallel-item:only-child::after {width: 0;}#sk-container-id-3 div.sk-dashed-wrapped {border: 1px dashed gray;margin: 0 0.4em 0.5em 0.4em;box-sizing: border-box;padding-bottom: 0.4em;background-color: white;}#sk-container-id-3 div.sk-label label {font-family: monospace;font-weight: bold;display: inline-block;line-height: 1.2em;}#sk-container-id-3 div.sk-label-container {text-align: center;}#sk-container-id-3 div.sk-container {/* jupyter's `normalize.less` sets `[hidden] { display: none; }` but bootstrap.min.css set `[hidden] { display: none !important; }` so we also need the `!important` here to be able to override the default hidden behavior on the sphinx rendered scikit-learn.org. See: https://github.com/scikit-learn/scikit-learn/issues/21755 */display: inline-block !important;position: relative;}#sk-container-id-3 div.sk-text-repr-fallback {display: none;}</style><div id=\"sk-container-id-3\" class=\"sk-top-container\"><div class=\"sk-text-repr-fallback\"><pre>LinearSVC(C=0.2223111111111111, max_iter=20000)</pre><b>In a Jupyter environment, please rerun this cell to show the HTML representation or trust the notebook. <br />On GitHub, the HTML representation is unable to render, please try loading this page with nbviewer.org.</b></div><div class=\"sk-container\" hidden><div class=\"sk-item\"><div class=\"sk-estimator sk-toggleable\"><input class=\"sk-toggleable__control sk-hidden--visually\" id=\"sk-estimator-id-3\" type=\"checkbox\" checked><label for=\"sk-estimator-id-3\" class=\"sk-toggleable__label sk-toggleable__label-arrow\">LinearSVC</label><div class=\"sk-toggleable__content\"><pre>LinearSVC(C=0.2223111111111111, max_iter=20000)</pre></div></div></div></div></div>"
      ],
      "text/plain": [
       "LinearSVC(C=0.2223111111111111, max_iter=20000)"
      ]
     },
     "execution_count": 36,
     "metadata": {},
     "output_type": "execute_result"
    }
   ],
   "source": [
    "svc = LinearSVC(max_iter=20000, C = svc_gs.best_params_['C'])\n",
    "\n",
    "svc.fit(X_train, y_train)"
   ]
  },
  {
   "cell_type": "code",
   "execution_count": 37,
   "id": "13acfed5",
   "metadata": {},
   "outputs": [
    {
     "data": {
      "text/plain": [
       "0.8941006161415374"
      ]
     },
     "execution_count": 37,
     "metadata": {},
     "output_type": "execute_result"
    }
   ],
   "source": [
    "cross_val_score(svc, X_train, y_train, cv=svc_cv).mean()"
   ]
  },
  {
   "cell_type": "code",
   "execution_count": 38,
   "id": "c75ad420",
   "metadata": {},
   "outputs": [
    {
     "data": {
      "text/plain": [
       "0.8821126658950253"
      ]
     },
     "execution_count": 38,
     "metadata": {},
     "output_type": "execute_result"
    }
   ],
   "source": [
    "cross_val_score(svc, X_test, y_test, cv=svc_cv).mean()"
   ]
  },
  {
   "cell_type": "code",
   "execution_count": 50,
   "id": "0a1c7438",
   "metadata": {},
   "outputs": [],
   "source": [
    "#calculate pred test values\n",
    "svc_y_pred_test = svc.predict(X_test)"
   ]
  },
  {
   "cell_type": "code",
   "execution_count": 51,
   "id": "537eb29b",
   "metadata": {},
   "outputs": [
    {
     "data": {
      "text/plain": [
       "0.8966424455023804"
      ]
     },
     "execution_count": 51,
     "metadata": {},
     "output_type": "execute_result"
    }
   ],
   "source": [
    "#accuracy score\n",
    "accuracy_score(y_test, svc_y_pred_test)"
   ]
  },
  {
   "cell_type": "code",
   "execution_count": 43,
   "id": "95ecbf13",
   "metadata": {},
   "outputs": [
    {
     "data": {
      "text/plain": [
       "array([[2666,  405],\n",
       "       [ 420, 4491]], dtype=int64)"
      ]
     },
     "execution_count": 43,
     "metadata": {},
     "output_type": "execute_result"
    }
   ],
   "source": [
    "#confusion matrix\n",
    "confusion_matrix(y_test, svc_y_pred_test)"
   ]
  },
  {
   "cell_type": "code",
   "execution_count": 44,
   "id": "03af0877",
   "metadata": {},
   "outputs": [
    {
     "name": "stdout",
     "output_type": "stream",
     "text": [
      "              precision    recall  f1-score   support\n",
      "\n",
      "           0       0.86      0.87      0.87      3071\n",
      "           1       0.92      0.91      0.92      4911\n",
      "\n",
      "    accuracy                           0.90      7982\n",
      "   macro avg       0.89      0.89      0.89      7982\n",
      "weighted avg       0.90      0.90      0.90      7982\n",
      "\n"
     ]
    }
   ],
   "source": [
    "#classification report\n",
    "print(classification_report(y_test, svc_y_pred_test))"
   ]
  },
  {
   "cell_type": "code",
   "execution_count": 48,
   "id": "19af1058",
   "metadata": {},
   "outputs": [],
   "source": [
    "df.to_csv(r'../data/svm_df.csv', index=False)"
   ]
  },
  {
   "cell_type": "markdown",
   "id": "531106f6",
   "metadata": {},
   "source": [
    "<b>Evaluation Summary</b>\n",
    "\n",
    "|Model|Train Cross Validation|Test Cross Validation|Accuracy|Type 1 Error|Type 2 Error|\n",
    "|:---|---:|---:|---:|---:|---:|\n",
    "|Random Forest Classifier|0.909|0.909|91%|5.1%|3.7%|\n",
    "|K-Nearest Neighbour Classifier|0.904|0.898|91%|5.0%|4.3%|\n",
    "|Support Vector Machines|0.894|0.882|90%|5.0%|5.0%|"
   ]
  }
 ],
 "metadata": {
  "kernelspec": {
   "display_name": "Python 3 (ipykernel)",
   "language": "python",
   "name": "python3"
  },
  "language_info": {
   "codemirror_mode": {
    "name": "ipython",
    "version": 3
   },
   "file_extension": ".py",
   "mimetype": "text/x-python",
   "name": "python",
   "nbconvert_exporter": "python",
   "pygments_lexer": "ipython3",
   "version": "3.9.13"
  }
 },
 "nbformat": 4,
 "nbformat_minor": 5
}
