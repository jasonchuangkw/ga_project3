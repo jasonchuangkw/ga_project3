{
 "cells": [
  {
   "cell_type": "code",
   "execution_count": 324,
   "id": "c798b1b2",
   "metadata": {},
   "outputs": [],
   "source": [
    "#import libraries\n",
    "import numpy as np\n",
    "import pandas as pd       \n",
    "from sklearn.ensemble import RandomForestClassifier\n",
    "from sklearn.feature_extraction.text import CountVectorizer, TfidfVectorizer\n",
    "from sklearn.model_selection import cross_val_score, train_test_split, GridSearchCV, StratifiedKFold\n",
    "from sklearn.metrics import accuracy_score, confusion_matrix, classification_report\n",
    "from sklearn.neighbors import KNeighborsClassifier\n",
    "from sklearn.svm import LinearSVC, SVC\n",
    "from nltk.corpus import stopwords\n",
    "import matplotlib.pyplot as plt"
   ]
  },
  {
   "cell_type": "code",
   "execution_count": 325,
   "id": "66753cb1",
   "metadata": {},
   "outputs": [],
   "source": [
    "#load data\n",
    "df_main = pd.read_csv('../data/model_data.csv', low_memory=False)"
   ]
  },
  {
   "cell_type": "code",
   "execution_count": 326,
   "id": "d35c74cf",
   "metadata": {},
   "outputs": [],
   "source": [
    "#establish model variables\n",
    "\n",
    "X = df_main['combinedtext']\n",
    "y = df_main['label']\n",
    "\n",
    "cvec = CountVectorizer(max_features = 1000, stop_words = 'english')\n",
    "\n",
    "#convert back to dataframe\n",
    "X_cvec = pd.DataFrame(cvec.fit_transform(X).todense(),\n",
    "                      columns = cvec.get_feature_names_out())"
   ]
  },
  {
   "cell_type": "code",
   "execution_count": 327,
   "id": "553da9b6",
   "metadata": {},
   "outputs": [],
   "source": [
    "# Split the data into the training and testing sets. random state set to 88\n",
    "X_train, X_test, y_train, y_test = train_test_split(X_cvec,\n",
    "                                                    y,\n",
    "                                                    test_size=0.33,\n",
    "                                                    stratify=y,\n",
    "                                                    random_state=88)"
   ]
  },
  {
   "cell_type": "markdown",
   "id": "21f8c4e9",
   "metadata": {},
   "source": [
    "<b>Define Functions for Modeling</b>"
   ]
  },
  {
   "cell_type": "code",
   "execution_count": 328,
   "id": "9f8aa234",
   "metadata": {},
   "outputs": [],
   "source": [
    "#to obtain probabilities for specific keywords\n",
    "def cal_mean(source, brand, text):\n",
    "\n",
    "    if source == 1: #train\n",
    "        if brand == 0: #flstudio\n",
    "            try:\n",
    "                text = combined_train.loc[(combined_train['label'] == 0)].filter(regex=text).values.mean()\n",
    "                return text\n",
    "            except:\n",
    "                return text\n",
    "        else: \n",
    "            try: #ableton\n",
    "                text = combined_train.loc[(combined_train['label'] == 1)].filter(regex=text).values.mean()\n",
    "                return text\n",
    "            except:\n",
    "                return text\n",
    "    else: #test\n",
    "        if brand == 0: #flstudio\n",
    "            try:\n",
    "                text = combined_test.loc[(combined_test['label'] == 0)].filter(regex=text).values.mean()\n",
    "                return text\n",
    "            except:\n",
    "                return text\n",
    "        else: \n",
    "            try: #ableton\n",
    "                text = combined_test.loc[(combined_test['label'] == 1)].filter(regex=text).values.mean()\n",
    "                return text\n",
    "            except:\n",
    "                return text"
   ]
  },
  {
   "cell_type": "code",
   "execution_count": 329,
   "id": "e92813ef",
   "metadata": {},
   "outputs": [],
   "source": [
    "combined_train = X_train.copy(deep=True)\n",
    "combined_train['label'] = y_train.copy(deep=True)\n",
    "combined_test = X_test.copy(deep=True)\n",
    "combined_test['label'] = y_test.copy(deep=True)"
   ]
  },
  {
   "cell_type": "markdown",
   "id": "458009bd",
   "metadata": {},
   "source": [
    "<b>Random Forest Classifier</b><br/><br/>\n",
    "train cross validation score = 0.909<br/>\n",
    "test cross valiadation score = 0.909<br/>\n",
    "accuracy = 91%<br/>\n",
    "type 1 error (FP) = 402/7982 = 5.0%<br/>\n",
    "type 2 error (FN) = 289/7982 = 3.6%<br/><br/>\n",
    "<b>The train and test score shows that the fitting is good. The accuracy is fairly high and the Type 1 and 2 errors are resonably low. There isn't a strong pressure to further reduce the errors. This result is faily similar to K-Nearest Neighbour Classifier but RFC is marginally better overall.<b/>"
   ]
  },
  {
   "cell_type": "code",
   "execution_count": 330,
   "id": "3fdcfb95",
   "metadata": {},
   "outputs": [
    {
     "name": "stdout",
     "output_type": "stream",
     "text": [
      "0.908788051880793\n",
      "{'max_depth': None, 'n_estimators': 100}\n"
     ]
    }
   ],
   "source": [
    "#identify the best model using Grid Search\n",
    "rfc = RandomForestClassifier()\n",
    "\n",
    "rfc_params = {'n_estimators': [100, 150, 200], 'max_depth': [None, 1, 2, 3, 4, 5]}\n",
    "rfc_cv = StratifiedKFold(n_splits=10, shuffle=True, random_state=88)\n",
    "\n",
    "rfc_gs = GridSearchCV(rfc, rfc_params, cv=rfc_cv)\n",
    "rfc_gs.fit(X_train, y_train)\n",
    "\n",
    "print(rfc_gs.best_score_)\n",
    "print(rfc_gs.best_params_)"
   ]
  },
  {
   "cell_type": "code",
   "execution_count": 331,
   "id": "6038f390",
   "metadata": {},
   "outputs": [
    {
     "data": {
      "text/plain": [
       "0.9999382868427549"
      ]
     },
     "execution_count": 331,
     "metadata": {},
     "output_type": "execute_result"
    }
   ],
   "source": [
    "rfc_gs.score(X_train, y_train)"
   ]
  },
  {
   "cell_type": "code",
   "execution_count": 332,
   "id": "bc79a034",
   "metadata": {},
   "outputs": [
    {
     "data": {
      "text/plain": [
       "0.9128038085692809"
      ]
     },
     "execution_count": 332,
     "metadata": {},
     "output_type": "execute_result"
    }
   ],
   "source": [
    "rfc_gs.score(X_test, y_test)"
   ]
  },
  {
   "cell_type": "code",
   "execution_count": 333,
   "id": "ec5e1046",
   "metadata": {},
   "outputs": [
    {
     "data": {
      "text/html": [
       "<style>#sk-container-id-7 {color: black;background-color: white;}#sk-container-id-7 pre{padding: 0;}#sk-container-id-7 div.sk-toggleable {background-color: white;}#sk-container-id-7 label.sk-toggleable__label {cursor: pointer;display: block;width: 100%;margin-bottom: 0;padding: 0.3em;box-sizing: border-box;text-align: center;}#sk-container-id-7 label.sk-toggleable__label-arrow:before {content: \"▸\";float: left;margin-right: 0.25em;color: #696969;}#sk-container-id-7 label.sk-toggleable__label-arrow:hover:before {color: black;}#sk-container-id-7 div.sk-estimator:hover label.sk-toggleable__label-arrow:before {color: black;}#sk-container-id-7 div.sk-toggleable__content {max-height: 0;max-width: 0;overflow: hidden;text-align: left;background-color: #f0f8ff;}#sk-container-id-7 div.sk-toggleable__content pre {margin: 0.2em;color: black;border-radius: 0.25em;background-color: #f0f8ff;}#sk-container-id-7 input.sk-toggleable__control:checked~div.sk-toggleable__content {max-height: 200px;max-width: 100%;overflow: auto;}#sk-container-id-7 input.sk-toggleable__control:checked~label.sk-toggleable__label-arrow:before {content: \"▾\";}#sk-container-id-7 div.sk-estimator input.sk-toggleable__control:checked~label.sk-toggleable__label {background-color: #d4ebff;}#sk-container-id-7 div.sk-label input.sk-toggleable__control:checked~label.sk-toggleable__label {background-color: #d4ebff;}#sk-container-id-7 input.sk-hidden--visually {border: 0;clip: rect(1px 1px 1px 1px);clip: rect(1px, 1px, 1px, 1px);height: 1px;margin: -1px;overflow: hidden;padding: 0;position: absolute;width: 1px;}#sk-container-id-7 div.sk-estimator {font-family: monospace;background-color: #f0f8ff;border: 1px dotted black;border-radius: 0.25em;box-sizing: border-box;margin-bottom: 0.5em;}#sk-container-id-7 div.sk-estimator:hover {background-color: #d4ebff;}#sk-container-id-7 div.sk-parallel-item::after {content: \"\";width: 100%;border-bottom: 1px solid gray;flex-grow: 1;}#sk-container-id-7 div.sk-label:hover label.sk-toggleable__label {background-color: #d4ebff;}#sk-container-id-7 div.sk-serial::before {content: \"\";position: absolute;border-left: 1px solid gray;box-sizing: border-box;top: 0;bottom: 0;left: 50%;z-index: 0;}#sk-container-id-7 div.sk-serial {display: flex;flex-direction: column;align-items: center;background-color: white;padding-right: 0.2em;padding-left: 0.2em;position: relative;}#sk-container-id-7 div.sk-item {position: relative;z-index: 1;}#sk-container-id-7 div.sk-parallel {display: flex;align-items: stretch;justify-content: center;background-color: white;position: relative;}#sk-container-id-7 div.sk-item::before, #sk-container-id-7 div.sk-parallel-item::before {content: \"\";position: absolute;border-left: 1px solid gray;box-sizing: border-box;top: 0;bottom: 0;left: 50%;z-index: -1;}#sk-container-id-7 div.sk-parallel-item {display: flex;flex-direction: column;z-index: 1;position: relative;background-color: white;}#sk-container-id-7 div.sk-parallel-item:first-child::after {align-self: flex-end;width: 50%;}#sk-container-id-7 div.sk-parallel-item:last-child::after {align-self: flex-start;width: 50%;}#sk-container-id-7 div.sk-parallel-item:only-child::after {width: 0;}#sk-container-id-7 div.sk-dashed-wrapped {border: 1px dashed gray;margin: 0 0.4em 0.5em 0.4em;box-sizing: border-box;padding-bottom: 0.4em;background-color: white;}#sk-container-id-7 div.sk-label label {font-family: monospace;font-weight: bold;display: inline-block;line-height: 1.2em;}#sk-container-id-7 div.sk-label-container {text-align: center;}#sk-container-id-7 div.sk-container {/* jupyter's `normalize.less` sets `[hidden] { display: none; }` but bootstrap.min.css set `[hidden] { display: none !important; }` so we also need the `!important` here to be able to override the default hidden behavior on the sphinx rendered scikit-learn.org. See: https://github.com/scikit-learn/scikit-learn/issues/21755 */display: inline-block !important;position: relative;}#sk-container-id-7 div.sk-text-repr-fallback {display: none;}</style><div id=\"sk-container-id-7\" class=\"sk-top-container\"><div class=\"sk-text-repr-fallback\"><pre>RandomForestClassifier()</pre><b>In a Jupyter environment, please rerun this cell to show the HTML representation or trust the notebook. <br />On GitHub, the HTML representation is unable to render, please try loading this page with nbviewer.org.</b></div><div class=\"sk-container\" hidden><div class=\"sk-item\"><div class=\"sk-estimator sk-toggleable\"><input class=\"sk-toggleable__control sk-hidden--visually\" id=\"sk-estimator-id-7\" type=\"checkbox\" checked><label for=\"sk-estimator-id-7\" class=\"sk-toggleable__label sk-toggleable__label-arrow\">RandomForestClassifier</label><div class=\"sk-toggleable__content\"><pre>RandomForestClassifier()</pre></div></div></div></div></div>"
      ],
      "text/plain": [
       "RandomForestClassifier()"
      ]
     },
     "execution_count": 333,
     "metadata": {},
     "output_type": "execute_result"
    }
   ],
   "source": [
    "rfc = RandomForestClassifier(n_estimators = rfc_gs.best_params_['n_estimators'], max_depth = rfc_gs.best_params_['max_depth'])\n",
    "rfc.fit(X_train, y_train)"
   ]
  },
  {
   "cell_type": "code",
   "execution_count": 334,
   "id": "fca03181",
   "metadata": {},
   "outputs": [
    {
     "data": {
      "text/plain": [
       "0.907121918340302"
      ]
     },
     "execution_count": 334,
     "metadata": {},
     "output_type": "execute_result"
    }
   ],
   "source": [
    "cross_val_score(rfc, X_train, y_train, cv=rfc_cv).mean()"
   ]
  },
  {
   "cell_type": "code",
   "execution_count": 335,
   "id": "7843d6c1",
   "metadata": {},
   "outputs": [
    {
     "data": {
      "text/plain": [
       "0.9069163835747066"
      ]
     },
     "execution_count": 335,
     "metadata": {},
     "output_type": "execute_result"
    }
   ],
   "source": [
    "cross_val_score(rfc, X_test, y_test, cv=rfc_cv).mean()"
   ]
  },
  {
   "cell_type": "code",
   "execution_count": 336,
   "id": "ec5213d8",
   "metadata": {},
   "outputs": [],
   "source": [
    "#indentify keywords that are driving identification\n",
    "df = pd.DataFrame(rfc.feature_importances_, index=X_train.columns).sort_values(by=0, ascending=False)\n",
    "\n",
    "df.reset_index(inplace=True)\n",
    "df = df.rename(columns = {'index':'keyword'})\n",
    "df = df.rename(columns = {0:'importance'})\n",
    "\n",
    "#brand 1 = ableton and 0 = flstudio \n",
    "#source 1 = train and 0 = test\n",
    "df['ableton_train'] = [cal_mean(1, 1, x) for x in df[\"keyword\"]]\n",
    "df['flstudio_train'] = [cal_mean(1, 0, x) for x in df[\"keyword\"]]\n",
    "df['ableton_test'] = [cal_mean(0, 1, x) for x in df[\"keyword\"]]\n",
    "df['flstudio_test'] = [cal_mean(0, 0, x) for x in df[\"keyword\"]]"
   ]
  },
  {
   "cell_type": "code",
   "execution_count": 337,
   "id": "f0926b21",
   "metadata": {},
   "outputs": [
    {
     "data": {
      "text/html": [
       "<div>\n",
       "<style scoped>\n",
       "    .dataframe tbody tr th:only-of-type {\n",
       "        vertical-align: middle;\n",
       "    }\n",
       "\n",
       "    .dataframe tbody tr th {\n",
       "        vertical-align: top;\n",
       "    }\n",
       "\n",
       "    .dataframe thead th {\n",
       "        text-align: right;\n",
       "    }\n",
       "</style>\n",
       "<table border=\"1\" class=\"dataframe\">\n",
       "  <thead>\n",
       "    <tr style=\"text-align: right;\">\n",
       "      <th></th>\n",
       "      <th>keyword</th>\n",
       "      <th>importance</th>\n",
       "      <th>ableton_train</th>\n",
       "      <th>flstudio_train</th>\n",
       "      <th>ableton_test</th>\n",
       "      <th>flstudio_test</th>\n",
       "    </tr>\n",
       "  </thead>\n",
       "  <tbody>\n",
       "    <tr>\n",
       "      <th>0</th>\n",
       "      <td>ableton</td>\n",
       "      <td>0.142395</td>\n",
       "      <td>0.293501</td>\n",
       "      <td>0.008181</td>\n",
       "      <td>0.303360</td>\n",
       "      <td>0.007489</td>\n",
       "    </tr>\n",
       "    <tr>\n",
       "      <th>1</th>\n",
       "      <td>fl_studio</td>\n",
       "      <td>0.081147</td>\n",
       "      <td>0.027583</td>\n",
       "      <td>0.534007</td>\n",
       "      <td>0.024842</td>\n",
       "      <td>0.490068</td>\n",
       "    </tr>\n",
       "    <tr>\n",
       "      <th>2</th>\n",
       "      <td>fl</td>\n",
       "      <td>0.076905</td>\n",
       "      <td>0.024524</td>\n",
       "      <td>0.272778</td>\n",
       "      <td>0.022857</td>\n",
       "      <td>0.258548</td>\n",
       "    </tr>\n",
       "    <tr>\n",
       "      <th>3</th>\n",
       "      <td>live</td>\n",
       "      <td>0.026077</td>\n",
       "      <td>0.145898</td>\n",
       "      <td>0.006801</td>\n",
       "      <td>0.153370</td>\n",
       "      <td>0.007815</td>\n",
       "    </tr>\n",
       "    <tr>\n",
       "      <th>4</th>\n",
       "      <td>ableton_live_11</td>\n",
       "      <td>0.016253</td>\n",
       "      <td>0.152558</td>\n",
       "      <td>0.000321</td>\n",
       "      <td>0.162085</td>\n",
       "      <td>0.000000</td>\n",
       "    </tr>\n",
       "    <tr>\n",
       "      <th>5</th>\n",
       "      <td>playlist</td>\n",
       "      <td>0.012502</td>\n",
       "      <td>0.004614</td>\n",
       "      <td>0.101700</td>\n",
       "      <td>0.003054</td>\n",
       "      <td>0.101270</td>\n",
       "    </tr>\n",
       "    <tr>\n",
       "      <th>6</th>\n",
       "      <td>mixer</td>\n",
       "      <td>0.009954</td>\n",
       "      <td>0.030391</td>\n",
       "      <td>0.155438</td>\n",
       "      <td>0.033394</td>\n",
       "      <td>0.158255</td>\n",
       "    </tr>\n",
       "    <tr>\n",
       "      <th>7</th>\n",
       "      <td>ableton_live</td>\n",
       "      <td>0.009756</td>\n",
       "      <td>0.094383</td>\n",
       "      <td>0.001203</td>\n",
       "      <td>0.100896</td>\n",
       "      <td>0.001710</td>\n",
       "    </tr>\n",
       "    <tr>\n",
       "      <th>8</th>\n",
       "      <td>11</td>\n",
       "      <td>0.009720</td>\n",
       "      <td>0.141926</td>\n",
       "      <td>0.008983</td>\n",
       "      <td>0.151598</td>\n",
       "      <td>0.007815</td>\n",
       "    </tr>\n",
       "    <tr>\n",
       "      <th>9</th>\n",
       "      <td>ableton_live_10</td>\n",
       "      <td>0.009397</td>\n",
       "      <td>0.101204</td>\n",
       "      <td>0.000481</td>\n",
       "      <td>0.106088</td>\n",
       "      <td>0.000000</td>\n",
       "    </tr>\n",
       "  </tbody>\n",
       "</table>\n",
       "</div>"
      ],
      "text/plain": [
       "           keyword  importance  ableton_train  flstudio_train  ableton_test  \\\n",
       "0          ableton    0.142395       0.293501        0.008181      0.303360   \n",
       "1        fl_studio    0.081147       0.027583        0.534007      0.024842   \n",
       "2               fl    0.076905       0.024524        0.272778      0.022857   \n",
       "3             live    0.026077       0.145898        0.006801      0.153370   \n",
       "4  ableton_live_11    0.016253       0.152558        0.000321      0.162085   \n",
       "5         playlist    0.012502       0.004614        0.101700      0.003054   \n",
       "6            mixer    0.009954       0.030391        0.155438      0.033394   \n",
       "7     ableton_live    0.009756       0.094383        0.001203      0.100896   \n",
       "8               11    0.009720       0.141926        0.008983      0.151598   \n",
       "9  ableton_live_10    0.009397       0.101204        0.000481      0.106088   \n",
       "\n",
       "   flstudio_test  \n",
       "0       0.007489  \n",
       "1       0.490068  \n",
       "2       0.258548  \n",
       "3       0.007815  \n",
       "4       0.000000  \n",
       "5       0.101270  \n",
       "6       0.158255  \n",
       "7       0.001710  \n",
       "8       0.007815  \n",
       "9       0.000000  "
      ]
     },
     "execution_count": 337,
     "metadata": {},
     "output_type": "execute_result"
    }
   ],
   "source": [
    "#top 10 influencial words by importance\n",
    "df.head(10)"
   ]
  },
  {
   "cell_type": "code",
   "execution_count": 338,
   "id": "b59639c1",
   "metadata": {},
   "outputs": [
    {
     "data": {
      "image/png": "[encoded data removed]",
      "text/plain": [
       "<Figure size 640x480 with 1 Axes>"
      ]
     },
     "metadata": {},
     "output_type": "display_data"
    }
   ],
   "source": [
    "y_axis = list(df.iloc[0:40,0])\n",
    "x_axis = list(df.iloc[0:40,1])\n",
    "y_axis.reverse()\n",
    "x_axis.reverse()\n",
    "\n",
    "plt.barh(y_axis, x_axis)\n",
    "plt.title('Words by Importance')\n",
    "plt.ylabel('Words')\n",
    "plt.xlabel('Count')\n",
    "plt.show()"
   ]
  },
  {
   "cell_type": "code",
   "execution_count": 339,
   "id": "67ce2dd9",
   "metadata": {},
   "outputs": [],
   "source": [
    "df.to_csv(r'../data/rf_df.csv', index=False)"
   ]
  },
  {
   "cell_type": "code",
   "execution_count": 340,
   "id": "2de467c7",
   "metadata": {},
   "outputs": [],
   "source": [
    "#calculate pred test values\n",
    "rfc_y_pred_test = rfc.predict(X_test)"
   ]
  },
  {
   "cell_type": "code",
   "execution_count": 341,
   "id": "20e34f8a",
   "metadata": {},
   "outputs": [
    {
     "data": {
      "text/plain": [
       "0.9121773991480832"
      ]
     },
     "execution_count": 341,
     "metadata": {},
     "output_type": "execute_result"
    }
   ],
   "source": [
    "#accuracy score\n",
    "accuracy_score(y_test, rfc_y_pred_test)"
   ]
  },
  {
   "cell_type": "code",
   "execution_count": 342,
   "id": "23a6ea95",
   "metadata": {},
   "outputs": [
    {
     "data": {
      "text/plain": [
       "array([[2667,  404],\n",
       "       [ 297, 4614]], dtype=int64)"
      ]
     },
     "execution_count": 342,
     "metadata": {},
     "output_type": "execute_result"
    }
   ],
   "source": [
    "#confusion matrix\n",
    "confusion_matrix(y_test, rfc_y_pred_test)"
   ]
  },
  {
   "cell_type": "code",
   "execution_count": 343,
   "id": "d4e849be",
   "metadata": {},
   "outputs": [
    {
     "name": "stdout",
     "output_type": "stream",
     "text": [
      "              precision    recall  f1-score   support\n",
      "\n",
      "           0       0.90      0.87      0.88      3071\n",
      "           1       0.92      0.94      0.93      4911\n",
      "\n",
      "    accuracy                           0.91      7982\n",
      "   macro avg       0.91      0.90      0.91      7982\n",
      "weighted avg       0.91      0.91      0.91      7982\n",
      "\n"
     ]
    }
   ],
   "source": [
    "#classification report\n",
    "print(classification_report(y_test, rfc_y_pred_test))"
   ]
  },
  {
   "cell_type": "markdown",
   "id": "cdc232f0",
   "metadata": {},
   "source": [
    "<b>K-Nearest Neighbour Classifier</b><br/><br/>\n",
    "train cross validation score = 0.904<br/>\n",
    "test cross valiadation score = 0.898<br/>\n",
    "accuracy = 91%<br/>\n",
    "type 1 error (FP) = 370/7982 = 4.6%<br/>\n",
    "type 2 error (FN) = 366/7982 = 4.6%<br/><br/>\n",
    "<b>The train and test score shows that the fitting is good. The accuracy is fairly high and the Type 1 and 2 errors are resonably low. There isn't a strong pressure to further reduce the errors. This result is faily similar to Random Forest Classifier but RFC is marginally better overall.<b/>"
   ]
  },
  {
   "cell_type": "code",
   "execution_count": 344,
   "id": "d75b24a6",
   "metadata": {},
   "outputs": [
    {
     "name": "stdout",
     "output_type": "stream",
     "text": [
      "0.7756732621990693\n",
      "{'n_neighbors': 30}\n"
     ]
    }
   ],
   "source": [
    "#identify the best model using Grid Search\n",
    "\n",
    "knnc = KNeighborsClassifier()\n",
    "\n",
    "knnc_params = {'n_neighbors': list(range(1, 31))}\n",
    "knnc_cv = StratifiedKFold(n_splits=10, shuffle=True, random_state=88)\n",
    "\n",
    "knnc_gs = GridSearchCV(knnc, knnc_params, cv=knnc_cv)\n",
    "knnc_gs.fit(X_train, y_train)\n",
    "\n",
    "print(knnc_gs.best_score_)\n",
    "print(knnc_gs.best_params_)"
   ]
  },
  {
   "cell_type": "code",
   "execution_count": 345,
   "id": "5a90221a",
   "metadata": {},
   "outputs": [
    {
     "data": {
      "text/plain": [
       "0.7944334732164897"
      ]
     },
     "execution_count": 345,
     "metadata": {},
     "output_type": "execute_result"
    }
   ],
   "source": [
    "knnc_gs.score(X_train, y_train)"
   ]
  },
  {
   "cell_type": "code",
   "execution_count": 346,
   "id": "4050d383",
   "metadata": {},
   "outputs": [
    {
     "data": {
      "text/plain": [
       "0.7617138561763969"
      ]
     },
     "execution_count": 346,
     "metadata": {},
     "output_type": "execute_result"
    }
   ],
   "source": [
    "knnc_gs.score(X_test, y_test)"
   ]
  },
  {
   "cell_type": "code",
   "execution_count": 347,
   "id": "8242a469",
   "metadata": {},
   "outputs": [
    {
     "data": {
      "text/html": [
       "<style>#sk-container-id-8 {color: black;background-color: white;}#sk-container-id-8 pre{padding: 0;}#sk-container-id-8 div.sk-toggleable {background-color: white;}#sk-container-id-8 label.sk-toggleable__label {cursor: pointer;display: block;width: 100%;margin-bottom: 0;padding: 0.3em;box-sizing: border-box;text-align: center;}#sk-container-id-8 label.sk-toggleable__label-arrow:before {content: \"▸\";float: left;margin-right: 0.25em;color: #696969;}#sk-container-id-8 label.sk-toggleable__label-arrow:hover:before {color: black;}#sk-container-id-8 div.sk-estimator:hover label.sk-toggleable__label-arrow:before {color: black;}#sk-container-id-8 div.sk-toggleable__content {max-height: 0;max-width: 0;overflow: hidden;text-align: left;background-color: #f0f8ff;}#sk-container-id-8 div.sk-toggleable__content pre {margin: 0.2em;color: black;border-radius: 0.25em;background-color: #f0f8ff;}#sk-container-id-8 input.sk-toggleable__control:checked~div.sk-toggleable__content {max-height: 200px;max-width: 100%;overflow: auto;}#sk-container-id-8 input.sk-toggleable__control:checked~label.sk-toggleable__label-arrow:before {content: \"▾\";}#sk-container-id-8 div.sk-estimator input.sk-toggleable__control:checked~label.sk-toggleable__label {background-color: #d4ebff;}#sk-container-id-8 div.sk-label input.sk-toggleable__control:checked~label.sk-toggleable__label {background-color: #d4ebff;}#sk-container-id-8 input.sk-hidden--visually {border: 0;clip: rect(1px 1px 1px 1px);clip: rect(1px, 1px, 1px, 1px);height: 1px;margin: -1px;overflow: hidden;padding: 0;position: absolute;width: 1px;}#sk-container-id-8 div.sk-estimator {font-family: monospace;background-color: #f0f8ff;border: 1px dotted black;border-radius: 0.25em;box-sizing: border-box;margin-bottom: 0.5em;}#sk-container-id-8 div.sk-estimator:hover {background-color: #d4ebff;}#sk-container-id-8 div.sk-parallel-item::after {content: \"\";width: 100%;border-bottom: 1px solid gray;flex-grow: 1;}#sk-container-id-8 div.sk-label:hover label.sk-toggleable__label {background-color: #d4ebff;}#sk-container-id-8 div.sk-serial::before {content: \"\";position: absolute;border-left: 1px solid gray;box-sizing: border-box;top: 0;bottom: 0;left: 50%;z-index: 0;}#sk-container-id-8 div.sk-serial {display: flex;flex-direction: column;align-items: center;background-color: white;padding-right: 0.2em;padding-left: 0.2em;position: relative;}#sk-container-id-8 div.sk-item {position: relative;z-index: 1;}#sk-container-id-8 div.sk-parallel {display: flex;align-items: stretch;justify-content: center;background-color: white;position: relative;}#sk-container-id-8 div.sk-item::before, #sk-container-id-8 div.sk-parallel-item::before {content: \"\";position: absolute;border-left: 1px solid gray;box-sizing: border-box;top: 0;bottom: 0;left: 50%;z-index: -1;}#sk-container-id-8 div.sk-parallel-item {display: flex;flex-direction: column;z-index: 1;position: relative;background-color: white;}#sk-container-id-8 div.sk-parallel-item:first-child::after {align-self: flex-end;width: 50%;}#sk-container-id-8 div.sk-parallel-item:last-child::after {align-self: flex-start;width: 50%;}#sk-container-id-8 div.sk-parallel-item:only-child::after {width: 0;}#sk-container-id-8 div.sk-dashed-wrapped {border: 1px dashed gray;margin: 0 0.4em 0.5em 0.4em;box-sizing: border-box;padding-bottom: 0.4em;background-color: white;}#sk-container-id-8 div.sk-label label {font-family: monospace;font-weight: bold;display: inline-block;line-height: 1.2em;}#sk-container-id-8 div.sk-label-container {text-align: center;}#sk-container-id-8 div.sk-container {/* jupyter's `normalize.less` sets `[hidden] { display: none; }` but bootstrap.min.css set `[hidden] { display: none !important; }` so we also need the `!important` here to be able to override the default hidden behavior on the sphinx rendered scikit-learn.org. See: https://github.com/scikit-learn/scikit-learn/issues/21755 */display: inline-block !important;position: relative;}#sk-container-id-8 div.sk-text-repr-fallback {display: none;}</style><div id=\"sk-container-id-8\" class=\"sk-top-container\"><div class=\"sk-text-repr-fallback\"><pre>RandomForestClassifier(n_estimators=30)</pre><b>In a Jupyter environment, please rerun this cell to show the HTML representation or trust the notebook. <br />On GitHub, the HTML representation is unable to render, please try loading this page with nbviewer.org.</b></div><div class=\"sk-container\" hidden><div class=\"sk-item\"><div class=\"sk-estimator sk-toggleable\"><input class=\"sk-toggleable__control sk-hidden--visually\" id=\"sk-estimator-id-8\" type=\"checkbox\" checked><label for=\"sk-estimator-id-8\" class=\"sk-toggleable__label sk-toggleable__label-arrow\">RandomForestClassifier</label><div class=\"sk-toggleable__content\"><pre>RandomForestClassifier(n_estimators=30)</pre></div></div></div></div></div>"
      ],
      "text/plain": [
       "RandomForestClassifier(n_estimators=30)"
      ]
     },
     "execution_count": 347,
     "metadata": {},
     "output_type": "execute_result"
    }
   ],
   "source": [
    "knnc = RandomForestClassifier(n_estimators = knnc_gs.best_params_['n_neighbors'])\n",
    "knnc.fit(X_train, y_train)"
   ]
  },
  {
   "cell_type": "code",
   "execution_count": 348,
   "id": "f3e4d4c5",
   "metadata": {},
   "outputs": [
    {
     "data": {
      "text/plain": [
       "0.9024321977745788"
      ]
     },
     "execution_count": 348,
     "metadata": {},
     "output_type": "execute_result"
    }
   ],
   "source": [
    "cross_val_score(knnc, X_train, y_train, cv=10).mean()"
   ]
  },
  {
   "cell_type": "code",
   "execution_count": 349,
   "id": "803e96e2",
   "metadata": {},
   "outputs": [
    {
     "data": {
      "text/plain": [
       "0.8986474320971389"
      ]
     },
     "execution_count": 349,
     "metadata": {},
     "output_type": "execute_result"
    }
   ],
   "source": [
    "cross_val_score(knnc, X_test, y_test, cv=10).mean()"
   ]
  },
  {
   "cell_type": "code",
   "execution_count": 350,
   "id": "f563e9b9",
   "metadata": {},
   "outputs": [],
   "source": [
    "#indentify keywords that are driving identification\n",
    "df = pd.DataFrame(knnc.feature_importances_, index=X_train.columns).sort_values(by=0, ascending=False)\n",
    "\n",
    "df.reset_index(inplace=True)\n",
    "df = df.rename(columns = {'index':'keyword'})\n",
    "df = df.rename(columns = {0:'importance'})\n",
    "\n",
    "#brand 1 = ableton and 0 = flstudio \n",
    "#source 1 = train and 0 = test\n",
    "df['ableton_train'] = [cal_mean(1, 1, x) for x in df[\"keyword\"]]\n",
    "df['flstudio_train'] = [cal_mean(1, 0, x) for x in df[\"keyword\"]]\n",
    "df['ableton_test'] = [cal_mean(0, 1, x) for x in df[\"keyword\"]]\n",
    "df['flstudio_test'] = [cal_mean(0, 0, x) for x in df[\"keyword\"]]"
   ]
  },
  {
   "cell_type": "code",
   "execution_count": 351,
   "id": "82b6e56b",
   "metadata": {},
   "outputs": [
    {
     "data": {
      "text/html": [
       "<div>\n",
       "<style scoped>\n",
       "    .dataframe tbody tr th:only-of-type {\n",
       "        vertical-align: middle;\n",
       "    }\n",
       "\n",
       "    .dataframe tbody tr th {\n",
       "        vertical-align: top;\n",
       "    }\n",
       "\n",
       "    .dataframe thead th {\n",
       "        text-align: right;\n",
       "    }\n",
       "</style>\n",
       "<table border=\"1\" class=\"dataframe\">\n",
       "  <thead>\n",
       "    <tr style=\"text-align: right;\">\n",
       "      <th></th>\n",
       "      <th>keyword</th>\n",
       "      <th>importance</th>\n",
       "      <th>ableton_train</th>\n",
       "      <th>flstudio_train</th>\n",
       "      <th>ableton_test</th>\n",
       "      <th>flstudio_test</th>\n",
       "    </tr>\n",
       "  </thead>\n",
       "  <tbody>\n",
       "    <tr>\n",
       "      <th>0</th>\n",
       "      <td>ableton</td>\n",
       "      <td>0.155158</td>\n",
       "      <td>0.293501</td>\n",
       "      <td>0.008181</td>\n",
       "      <td>0.303360</td>\n",
       "      <td>0.007489</td>\n",
       "    </tr>\n",
       "    <tr>\n",
       "      <th>1</th>\n",
       "      <td>fl_studio</td>\n",
       "      <td>0.076036</td>\n",
       "      <td>0.027583</td>\n",
       "      <td>0.534007</td>\n",
       "      <td>0.024842</td>\n",
       "      <td>0.490068</td>\n",
       "    </tr>\n",
       "    <tr>\n",
       "      <th>2</th>\n",
       "      <td>fl</td>\n",
       "      <td>0.072296</td>\n",
       "      <td>0.024524</td>\n",
       "      <td>0.272778</td>\n",
       "      <td>0.022857</td>\n",
       "      <td>0.258548</td>\n",
       "    </tr>\n",
       "    <tr>\n",
       "      <th>3</th>\n",
       "      <td>live</td>\n",
       "      <td>0.025638</td>\n",
       "      <td>0.145898</td>\n",
       "      <td>0.006801</td>\n",
       "      <td>0.153370</td>\n",
       "      <td>0.007815</td>\n",
       "    </tr>\n",
       "    <tr>\n",
       "      <th>4</th>\n",
       "      <td>ableton_live_11</td>\n",
       "      <td>0.016280</td>\n",
       "      <td>0.152558</td>\n",
       "      <td>0.000321</td>\n",
       "      <td>0.162085</td>\n",
       "      <td>0.000000</td>\n",
       "    </tr>\n",
       "    <tr>\n",
       "      <th>5</th>\n",
       "      <td>mixer</td>\n",
       "      <td>0.010161</td>\n",
       "      <td>0.030391</td>\n",
       "      <td>0.155438</td>\n",
       "      <td>0.033394</td>\n",
       "      <td>0.158255</td>\n",
       "    </tr>\n",
       "    <tr>\n",
       "      <th>6</th>\n",
       "      <td>midi</td>\n",
       "      <td>0.010013</td>\n",
       "      <td>0.515045</td>\n",
       "      <td>0.251684</td>\n",
       "      <td>0.554470</td>\n",
       "      <td>0.233149</td>\n",
       "    </tr>\n",
       "    <tr>\n",
       "      <th>7</th>\n",
       "      <td>beat</td>\n",
       "      <td>0.009987</td>\n",
       "      <td>0.069809</td>\n",
       "      <td>0.232435</td>\n",
       "      <td>0.069232</td>\n",
       "      <td>0.209704</td>\n",
       "    </tr>\n",
       "    <tr>\n",
       "      <th>8</th>\n",
       "      <td>ableton_live</td>\n",
       "      <td>0.009551</td>\n",
       "      <td>0.094383</td>\n",
       "      <td>0.001203</td>\n",
       "      <td>0.100896</td>\n",
       "      <td>0.001710</td>\n",
       "    </tr>\n",
       "    <tr>\n",
       "      <th>9</th>\n",
       "      <td>playlist</td>\n",
       "      <td>0.009291</td>\n",
       "      <td>0.004614</td>\n",
       "      <td>0.101700</td>\n",
       "      <td>0.003054</td>\n",
       "      <td>0.101270</td>\n",
       "    </tr>\n",
       "  </tbody>\n",
       "</table>\n",
       "</div>"
      ],
      "text/plain": [
       "           keyword  importance  ableton_train  flstudio_train  ableton_test  \\\n",
       "0          ableton    0.155158       0.293501        0.008181      0.303360   \n",
       "1        fl_studio    0.076036       0.027583        0.534007      0.024842   \n",
       "2               fl    0.072296       0.024524        0.272778      0.022857   \n",
       "3             live    0.025638       0.145898        0.006801      0.153370   \n",
       "4  ableton_live_11    0.016280       0.152558        0.000321      0.162085   \n",
       "5            mixer    0.010161       0.030391        0.155438      0.033394   \n",
       "6             midi    0.010013       0.515045        0.251684      0.554470   \n",
       "7             beat    0.009987       0.069809        0.232435      0.069232   \n",
       "8     ableton_live    0.009551       0.094383        0.001203      0.100896   \n",
       "9         playlist    0.009291       0.004614        0.101700      0.003054   \n",
       "\n",
       "   flstudio_test  \n",
       "0       0.007489  \n",
       "1       0.490068  \n",
       "2       0.258548  \n",
       "3       0.007815  \n",
       "4       0.000000  \n",
       "5       0.158255  \n",
       "6       0.233149  \n",
       "7       0.209704  \n",
       "8       0.001710  \n",
       "9       0.101270  "
      ]
     },
     "execution_count": 351,
     "metadata": {},
     "output_type": "execute_result"
    }
   ],
   "source": [
    "#top 10 influencial words\n",
    "df.head(10)"
   ]
  },
  {
   "cell_type": "code",
   "execution_count": 352,
   "id": "304a990e",
   "metadata": {},
   "outputs": [
    {
     "data": {
      "image/png": "[encoded data removed]",
      "text/plain": [
       "<Figure size 640x480 with 1 Axes>"
      ]
     },
     "metadata": {},
     "output_type": "display_data"
    }
   ],
   "source": [
    "y_axis = list(df.iloc[0:40,0])\n",
    "x_axis = list(df.iloc[0:40,1])\n",
    "y_axis.reverse()\n",
    "x_axis.reverse()\n",
    "\n",
    "plt.barh(y_axis, x_axis)\n",
    "plt.title('Words by Importance')\n",
    "plt.ylabel('Words')\n",
    "plt.xlabel('Count')\n",
    "plt.show()"
   ]
  },
  {
   "cell_type": "code",
   "execution_count": 353,
   "id": "9f4b5a0e",
   "metadata": {},
   "outputs": [],
   "source": [
    "df.to_csv(r'../data/knnc_df.csv', index=False)"
   ]
  },
  {
   "cell_type": "code",
   "execution_count": 354,
   "id": "d482311e",
   "metadata": {},
   "outputs": [],
   "source": [
    "#calculate pred test values\n",
    "knnc_y_pred_test = knnc.predict(X_test)"
   ]
  },
  {
   "cell_type": "code",
   "execution_count": 355,
   "id": "c06ba201",
   "metadata": {},
   "outputs": [
    {
     "data": {
      "text/plain": [
       "0.9076672513154598"
      ]
     },
     "execution_count": 355,
     "metadata": {},
     "output_type": "execute_result"
    }
   ],
   "source": [
    "#accuracy score\n",
    "accuracy_score(y_test, knnc_y_pred_test)"
   ]
  },
  {
   "cell_type": "code",
   "execution_count": 356,
   "id": "4ccc92ae",
   "metadata": {},
   "outputs": [
    {
     "data": {
      "text/plain": [
       "array([[2670,  401],\n",
       "       [ 336, 4575]], dtype=int64)"
      ]
     },
     "execution_count": 356,
     "metadata": {},
     "output_type": "execute_result"
    }
   ],
   "source": [
    "#confusion matrix\n",
    "confusion_matrix(y_test, knnc_y_pred_test)"
   ]
  },
  {
   "cell_type": "code",
   "execution_count": 357,
   "id": "f52e9988",
   "metadata": {},
   "outputs": [
    {
     "name": "stdout",
     "output_type": "stream",
     "text": [
      "              precision    recall  f1-score   support\n",
      "\n",
      "           0       0.89      0.87      0.88      3071\n",
      "           1       0.92      0.93      0.93      4911\n",
      "\n",
      "    accuracy                           0.91      7982\n",
      "   macro avg       0.90      0.90      0.90      7982\n",
      "weighted avg       0.91      0.91      0.91      7982\n",
      "\n"
     ]
    }
   ],
   "source": [
    "#classification report\n",
    "print(classification_report(y_test, knnc_y_pred_test))"
   ]
  },
  {
   "cell_type": "markdown",
   "id": "a82f6128",
   "metadata": {},
   "source": [
    "<b>Support Vector Machines</b><br/><br/>\n",
    "train cross validation score = 0.894<br/>\n",
    "test cross valiadation score = 0.882<br/>\n",
    "accuracy = 0.90%<br/>\n",
    "type 1 error (FP) = 405/7982 = 5.0%<br/>\n",
    "type 2 error (FN) = 420/7982 = 5.0%<br/><br/>\n",
    "<b>The train and test score shows that the fitting is good. The accuracy is fairly high and the Type 1 and 2 errors are resonably low. There isn't a strong pressure to further reduce the errors. RFC is still marginally better overall.<b/>"
   ]
  },
  {
   "cell_type": "code",
   "execution_count": 358,
   "id": "e6977797",
   "metadata": {},
   "outputs": [
    {
     "name": "stdout",
     "output_type": "stream",
     "text": [
      "0.8821126658950253\n",
      "{'C': 0.2223111111111111}\n"
     ]
    }
   ],
   "source": [
    "#identify the best model using Grid Search\n",
    "\n",
    "svc = LinearSVC(max_iter=40000)\n",
    "\n",
    "# C values to GridSearch over\n",
    "svc_params = {\"C\": np.linspace(0.0001, 2, 10)}\n",
    "\n",
    "svc_cv = StratifiedKFold(n_splits=10, shuffle=True, random_state=88)\n",
    "\n",
    "svc_gs = GridSearchCV(svc, svc_params, cv=svc_cv)\n",
    "svc_gs.fit(X_test, y_test)\n",
    "\n",
    "print(svc_gs.best_score_)\n",
    "print(svc_gs.best_params_)"
   ]
  },
  {
   "cell_type": "code",
   "execution_count": 359,
   "id": "e43f0384",
   "metadata": {},
   "outputs": [
    {
     "data": {
      "text/plain": [
       "0.8779930881263885"
      ]
     },
     "execution_count": 359,
     "metadata": {},
     "output_type": "execute_result"
    }
   ],
   "source": [
    "svc_gs.score(X_train, y_train)"
   ]
  },
  {
   "cell_type": "code",
   "execution_count": 360,
   "id": "8d67c023",
   "metadata": {},
   "outputs": [
    {
     "data": {
      "text/plain": [
       "0.9564019042846404"
      ]
     },
     "execution_count": 360,
     "metadata": {},
     "output_type": "execute_result"
    }
   ],
   "source": [
    "svc_gs.score(X_test, y_test)"
   ]
  },
  {
   "cell_type": "code",
   "execution_count": 361,
   "id": "99e3822b",
   "metadata": {},
   "outputs": [
    {
     "data": {
      "text/html": [
       "<style>#sk-container-id-9 {color: black;background-color: white;}#sk-container-id-9 pre{padding: 0;}#sk-container-id-9 div.sk-toggleable {background-color: white;}#sk-container-id-9 label.sk-toggleable__label {cursor: pointer;display: block;width: 100%;margin-bottom: 0;padding: 0.3em;box-sizing: border-box;text-align: center;}#sk-container-id-9 label.sk-toggleable__label-arrow:before {content: \"▸\";float: left;margin-right: 0.25em;color: #696969;}#sk-container-id-9 label.sk-toggleable__label-arrow:hover:before {color: black;}#sk-container-id-9 div.sk-estimator:hover label.sk-toggleable__label-arrow:before {color: black;}#sk-container-id-9 div.sk-toggleable__content {max-height: 0;max-width: 0;overflow: hidden;text-align: left;background-color: #f0f8ff;}#sk-container-id-9 div.sk-toggleable__content pre {margin: 0.2em;color: black;border-radius: 0.25em;background-color: #f0f8ff;}#sk-container-id-9 input.sk-toggleable__control:checked~div.sk-toggleable__content {max-height: 200px;max-width: 100%;overflow: auto;}#sk-container-id-9 input.sk-toggleable__control:checked~label.sk-toggleable__label-arrow:before {content: \"▾\";}#sk-container-id-9 div.sk-estimator input.sk-toggleable__control:checked~label.sk-toggleable__label {background-color: #d4ebff;}#sk-container-id-9 div.sk-label input.sk-toggleable__control:checked~label.sk-toggleable__label {background-color: #d4ebff;}#sk-container-id-9 input.sk-hidden--visually {border: 0;clip: rect(1px 1px 1px 1px);clip: rect(1px, 1px, 1px, 1px);height: 1px;margin: -1px;overflow: hidden;padding: 0;position: absolute;width: 1px;}#sk-container-id-9 div.sk-estimator {font-family: monospace;background-color: #f0f8ff;border: 1px dotted black;border-radius: 0.25em;box-sizing: border-box;margin-bottom: 0.5em;}#sk-container-id-9 div.sk-estimator:hover {background-color: #d4ebff;}#sk-container-id-9 div.sk-parallel-item::after {content: \"\";width: 100%;border-bottom: 1px solid gray;flex-grow: 1;}#sk-container-id-9 div.sk-label:hover label.sk-toggleable__label {background-color: #d4ebff;}#sk-container-id-9 div.sk-serial::before {content: \"\";position: absolute;border-left: 1px solid gray;box-sizing: border-box;top: 0;bottom: 0;left: 50%;z-index: 0;}#sk-container-id-9 div.sk-serial {display: flex;flex-direction: column;align-items: center;background-color: white;padding-right: 0.2em;padding-left: 0.2em;position: relative;}#sk-container-id-9 div.sk-item {position: relative;z-index: 1;}#sk-container-id-9 div.sk-parallel {display: flex;align-items: stretch;justify-content: center;background-color: white;position: relative;}#sk-container-id-9 div.sk-item::before, #sk-container-id-9 div.sk-parallel-item::before {content: \"\";position: absolute;border-left: 1px solid gray;box-sizing: border-box;top: 0;bottom: 0;left: 50%;z-index: -1;}#sk-container-id-9 div.sk-parallel-item {display: flex;flex-direction: column;z-index: 1;position: relative;background-color: white;}#sk-container-id-9 div.sk-parallel-item:first-child::after {align-self: flex-end;width: 50%;}#sk-container-id-9 div.sk-parallel-item:last-child::after {align-self: flex-start;width: 50%;}#sk-container-id-9 div.sk-parallel-item:only-child::after {width: 0;}#sk-container-id-9 div.sk-dashed-wrapped {border: 1px dashed gray;margin: 0 0.4em 0.5em 0.4em;box-sizing: border-box;padding-bottom: 0.4em;background-color: white;}#sk-container-id-9 div.sk-label label {font-family: monospace;font-weight: bold;display: inline-block;line-height: 1.2em;}#sk-container-id-9 div.sk-label-container {text-align: center;}#sk-container-id-9 div.sk-container {/* jupyter's `normalize.less` sets `[hidden] { display: none; }` but bootstrap.min.css set `[hidden] { display: none !important; }` so we also need the `!important` here to be able to override the default hidden behavior on the sphinx rendered scikit-learn.org. See: https://github.com/scikit-learn/scikit-learn/issues/21755 */display: inline-block !important;position: relative;}#sk-container-id-9 div.sk-text-repr-fallback {display: none;}</style><div id=\"sk-container-id-9\" class=\"sk-top-container\"><div class=\"sk-text-repr-fallback\"><pre>LinearSVC(C=0.2223111111111111, max_iter=20000)</pre><b>In a Jupyter environment, please rerun this cell to show the HTML representation or trust the notebook. <br />On GitHub, the HTML representation is unable to render, please try loading this page with nbviewer.org.</b></div><div class=\"sk-container\" hidden><div class=\"sk-item\"><div class=\"sk-estimator sk-toggleable\"><input class=\"sk-toggleable__control sk-hidden--visually\" id=\"sk-estimator-id-9\" type=\"checkbox\" checked><label for=\"sk-estimator-id-9\" class=\"sk-toggleable__label sk-toggleable__label-arrow\">LinearSVC</label><div class=\"sk-toggleable__content\"><pre>LinearSVC(C=0.2223111111111111, max_iter=20000)</pre></div></div></div></div></div>"
      ],
      "text/plain": [
       "LinearSVC(C=0.2223111111111111, max_iter=20000)"
      ]
     },
     "execution_count": 361,
     "metadata": {},
     "output_type": "execute_result"
    }
   ],
   "source": [
    "svc = LinearSVC(max_iter=20000, C = svc_gs.best_params_['C'])\n",
    "\n",
    "svc.fit(X_train, y_train)"
   ]
  },
  {
   "cell_type": "code",
   "execution_count": 362,
   "id": "13acfed5",
   "metadata": {},
   "outputs": [
    {
     "data": {
      "text/plain": [
       "0.8941006161415374"
      ]
     },
     "execution_count": 362,
     "metadata": {},
     "output_type": "execute_result"
    }
   ],
   "source": [
    "cross_val_score(svc, X_train, y_train, cv=svc_cv).mean()"
   ]
  },
  {
   "cell_type": "code",
   "execution_count": 363,
   "id": "c75ad420",
   "metadata": {},
   "outputs": [
    {
     "data": {
      "text/plain": [
       "0.8821126658950253"
      ]
     },
     "execution_count": 363,
     "metadata": {},
     "output_type": "execute_result"
    }
   ],
   "source": [
    "cross_val_score(svc, X_test, y_test, cv=svc_cv).mean()"
   ]
  },
  {
   "cell_type": "code",
   "execution_count": 364,
   "id": "0a1c7438",
   "metadata": {},
   "outputs": [],
   "source": [
    "#calculate pred test values\n",
    "svc_y_pred_test = svc.predict(X_test)"
   ]
  },
  {
   "cell_type": "code",
   "execution_count": 365,
   "id": "537eb29b",
   "metadata": {},
   "outputs": [
    {
     "data": {
      "text/plain": [
       "0.8966424455023804"
      ]
     },
     "execution_count": 365,
     "metadata": {},
     "output_type": "execute_result"
    }
   ],
   "source": [
    "#accuracy score\n",
    "accuracy_score(y_test, svc_y_pred_test)"
   ]
  },
  {
   "cell_type": "code",
   "execution_count": 366,
   "id": "95ecbf13",
   "metadata": {},
   "outputs": [
    {
     "data": {
      "text/plain": [
       "array([[2666,  405],\n",
       "       [ 420, 4491]], dtype=int64)"
      ]
     },
     "execution_count": 366,
     "metadata": {},
     "output_type": "execute_result"
    }
   ],
   "source": [
    "#confusion matrix\n",
    "confusion_matrix(y_test, svc_y_pred_test)"
   ]
  },
  {
   "cell_type": "code",
   "execution_count": 367,
   "id": "03af0877",
   "metadata": {},
   "outputs": [
    {
     "name": "stdout",
     "output_type": "stream",
     "text": [
      "              precision    recall  f1-score   support\n",
      "\n",
      "           0       0.86      0.87      0.87      3071\n",
      "           1       0.92      0.91      0.92      4911\n",
      "\n",
      "    accuracy                           0.90      7982\n",
      "   macro avg       0.89      0.89      0.89      7982\n",
      "weighted avg       0.90      0.90      0.90      7982\n",
      "\n"
     ]
    }
   ],
   "source": [
    "#classification report\n",
    "print(classification_report(y_test, svc_y_pred_test))"
   ]
  },
  {
   "cell_type": "code",
   "execution_count": 368,
   "id": "19af1058",
   "metadata": {},
   "outputs": [],
   "source": [
    "df.to_csv(r'../data/svm_df.csv', index=False)"
   ]
  },
  {
   "cell_type": "code",
   "execution_count": 369,
   "id": "2594a84d",
   "metadata": {},
   "outputs": [],
   "source": [
    "y_test_check = y_test.reset_index()\n",
    "y_test_check['rfc'] = rfc_y_pred_test\n",
    "y_test_check['knnc'] = knnc_y_pred_test\n",
    "y_test_check['svc'] = svc_y_pred_test\n",
    "y_test_check['type1'] = y_test_check.rfc < y_test_check.label\n",
    "y_test_check['type2'] = y_test_check.rfc > y_test_check.label"
   ]
  },
  {
   "cell_type": "markdown",
   "id": "6e4968da",
   "metadata": {},
   "source": [
    "<b>Error Examination: A sample of 10 wrongly classified</b><br><br>\n",
    "<b>Type 1 Error (Classified as FL Studio but is Ableton)</b><br>\n",
    "Post do not have the clear Ableton and FL Studio keywords, posts seem genuine that can appear in either subreddit.<br><br>\n",
    "<b>Type 2 Error (Classified as Ableton but is FL Studio)</b><br>\n",
    "Post do not have the clear Ableton and FL Studio keywords, posts seem genuine that can appear in either subreddit. A few keywords that are more for Ableton appears in these posts."
   ]
  },
  {
   "cell_type": "code",
   "execution_count": 370,
   "id": "44569283",
   "metadata": {},
   "outputs": [
    {
     "data": {
      "text/html": [
       "<div>\n",
       "<style scoped>\n",
       "    .dataframe tbody tr th:only-of-type {\n",
       "        vertical-align: middle;\n",
       "    }\n",
       "\n",
       "    .dataframe tbody tr th {\n",
       "        vertical-align: top;\n",
       "    }\n",
       "\n",
       "    .dataframe thead th {\n",
       "        text-align: right;\n",
       "    }\n",
       "</style>\n",
       "<table border=\"1\" class=\"dataframe\">\n",
       "  <thead>\n",
       "    <tr style=\"text-align: right;\">\n",
       "      <th></th>\n",
       "      <th>index</th>\n",
       "      <th>label</th>\n",
       "      <th>rfc</th>\n",
       "      <th>knnc</th>\n",
       "      <th>svc</th>\n",
       "      <th>type1</th>\n",
       "      <th>type2</th>\n",
       "    </tr>\n",
       "  </thead>\n",
       "  <tbody>\n",
       "    <tr>\n",
       "      <th>4747</th>\n",
       "      <td>216</td>\n",
       "      <td>1</td>\n",
       "      <td>0</td>\n",
       "      <td>0</td>\n",
       "      <td>1</td>\n",
       "      <td>True</td>\n",
       "      <td>False</td>\n",
       "    </tr>\n",
       "    <tr>\n",
       "      <th>5277</th>\n",
       "      <td>3799</td>\n",
       "      <td>1</td>\n",
       "      <td>0</td>\n",
       "      <td>0</td>\n",
       "      <td>1</td>\n",
       "      <td>True</td>\n",
       "      <td>False</td>\n",
       "    </tr>\n",
       "    <tr>\n",
       "      <th>7019</th>\n",
       "      <td>14184</td>\n",
       "      <td>1</td>\n",
       "      <td>0</td>\n",
       "      <td>0</td>\n",
       "      <td>0</td>\n",
       "      <td>True</td>\n",
       "      <td>False</td>\n",
       "    </tr>\n",
       "    <tr>\n",
       "      <th>7413</th>\n",
       "      <td>11917</td>\n",
       "      <td>1</td>\n",
       "      <td>0</td>\n",
       "      <td>0</td>\n",
       "      <td>0</td>\n",
       "      <td>True</td>\n",
       "      <td>False</td>\n",
       "    </tr>\n",
       "    <tr>\n",
       "      <th>2978</th>\n",
       "      <td>2619</td>\n",
       "      <td>1</td>\n",
       "      <td>0</td>\n",
       "      <td>1</td>\n",
       "      <td>0</td>\n",
       "      <td>True</td>\n",
       "      <td>False</td>\n",
       "    </tr>\n",
       "  </tbody>\n",
       "</table>\n",
       "</div>"
      ],
      "text/plain": [
       "      index  label  rfc  knnc  svc  type1  type2\n",
       "4747    216      1    0     0    1   True  False\n",
       "5277   3799      1    0     0    1   True  False\n",
       "7019  14184      1    0     0    0   True  False\n",
       "7413  11917      1    0     0    0   True  False\n",
       "2978   2619      1    0     1    0   True  False"
      ]
     },
     "execution_count": 370,
     "metadata": {},
     "output_type": "execute_result"
    }
   ],
   "source": [
    "#Type 1 Error\n",
    "#random index generated = 19902, 15213, 20472, 21939 and 19883 from code\n",
    "#y_test_check[y_test_check.type1 == True].sample(n = 5)"
   ]
  },
  {
   "cell_type": "code",
   "execution_count": 371,
   "id": "8415791d",
   "metadata": {},
   "outputs": [
    {
     "data": {
      "text/plain": [
       "'way relocate lost sample sound using sample name drum kit solid sound transferring file reason show name sound project file name drum kit way possible know drum kit came device help appreciated lost drum kit'"
      ]
     },
     "execution_count": 371,
     "metadata": {},
     "output_type": "execute_result"
    }
   ],
   "source": [
    "#lable as 1 but is 0 (1 = Ableton, 0 = Fl Studio)\n",
    "df_main.combinedtext[19902]"
   ]
  },
  {
   "cell_type": "code",
   "execution_count": 372,
   "id": "675f166c",
   "metadata": {},
   "outputs": [
    {
     "data": {
      "text/plain": [
       "'currently using envelope filter sytrus attempting alter attack decay sustain release adsr using knob moment release one knob turning corresponding adsr setting snap straight back original position short adsr knob work anything done fix sytrus synth adsr knob trouble'"
      ]
     },
     "execution_count": 372,
     "metadata": {},
     "output_type": "execute_result"
    }
   ],
   "source": [
    "df_main.combinedtext[15213]"
   ]
  },
  {
   "cell_type": "code",
   "execution_count": 373,
   "id": "db236a77",
   "metadata": {},
   "outputs": [
    {
     "data": {
      "text/plain": [
       "'three question couldt find clear answer 1 way make edge detect picture png layer behind right edge detect make png picture background take whole screen apply 2 move around core bump effect x parameter seem work reposition effect 3 make effect apply sertain sound playing know control audio effect et_cetera certain sound way effect example kick play screen get blurry thanks advance need help zgame editor'"
      ]
     },
     "execution_count": 373,
     "metadata": {},
     "output_type": "execute_result"
    }
   ],
   "source": [
    "df_main.combinedtext[20472]"
   ]
  },
  {
   "cell_type": "code",
   "execution_count": 374,
   "id": "1a4500a1",
   "metadata": {},
   "outputs": [
    {
     "data": {
      "text/plain": [
       "'hey use standard computer keyboard midi controller proper one yet plugin click presets play immediately keyboard however podolski sektor every time select new preset use keyboard right away either click keyboard within plugin click plugin window frame major issue still use plugin however little annoying repeatedly click somewhere plugin test preset anyone may solution experiencing problem love know thankyou midi keyboard stop working select new preset'"
      ]
     },
     "execution_count": 374,
     "metadata": {},
     "output_type": "execute_result"
    }
   ],
   "source": [
    "df_main.combinedtext[21939]"
   ]
  },
  {
   "cell_type": "code",
   "execution_count": 375,
   "id": "6a8bc341",
   "metadata": {},
   "outputs": [
    {
     "data": {
      "text/plain": [
       "'using window 10 output device asio driver trying use asio4all problem literally see one device none dacs try connect get listed actually tried two separate pc even dac also asio driver installed program issue using wasapi exclusive asio4all seems clueless anyone know get asio4all actually see device alternative actually work get asio4all see dacs'"
      ]
     },
     "execution_count": 375,
     "metadata": {},
     "output_type": "execute_result"
    }
   ],
   "source": [
    "df_main.combinedtext[19883]"
   ]
  },
  {
   "cell_type": "code",
   "execution_count": 376,
   "id": "cb04a85f",
   "metadata": {},
   "outputs": [
    {
     "data": {
      "text/html": [
       "<div>\n",
       "<style scoped>\n",
       "    .dataframe tbody tr th:only-of-type {\n",
       "        vertical-align: middle;\n",
       "    }\n",
       "\n",
       "    .dataframe tbody tr th {\n",
       "        vertical-align: top;\n",
       "    }\n",
       "\n",
       "    .dataframe thead th {\n",
       "        text-align: right;\n",
       "    }\n",
       "</style>\n",
       "<table border=\"1\" class=\"dataframe\">\n",
       "  <thead>\n",
       "    <tr style=\"text-align: right;\">\n",
       "      <th></th>\n",
       "      <th>index</th>\n",
       "      <th>label</th>\n",
       "      <th>rfc</th>\n",
       "      <th>knnc</th>\n",
       "      <th>svc</th>\n",
       "      <th>type1</th>\n",
       "      <th>type2</th>\n",
       "    </tr>\n",
       "  </thead>\n",
       "  <tbody>\n",
       "    <tr>\n",
       "      <th>4736</th>\n",
       "      <td>20499</td>\n",
       "      <td>0</td>\n",
       "      <td>1</td>\n",
       "      <td>1</td>\n",
       "      <td>0</td>\n",
       "      <td>False</td>\n",
       "      <td>True</td>\n",
       "    </tr>\n",
       "    <tr>\n",
       "      <th>2661</th>\n",
       "      <td>20346</td>\n",
       "      <td>0</td>\n",
       "      <td>1</td>\n",
       "      <td>1</td>\n",
       "      <td>0</td>\n",
       "      <td>False</td>\n",
       "      <td>True</td>\n",
       "    </tr>\n",
       "    <tr>\n",
       "      <th>6622</th>\n",
       "      <td>20797</td>\n",
       "      <td>0</td>\n",
       "      <td>1</td>\n",
       "      <td>1</td>\n",
       "      <td>0</td>\n",
       "      <td>False</td>\n",
       "      <td>True</td>\n",
       "    </tr>\n",
       "    <tr>\n",
       "      <th>4106</th>\n",
       "      <td>18088</td>\n",
       "      <td>0</td>\n",
       "      <td>1</td>\n",
       "      <td>0</td>\n",
       "      <td>0</td>\n",
       "      <td>False</td>\n",
       "      <td>True</td>\n",
       "    </tr>\n",
       "    <tr>\n",
       "      <th>2799</th>\n",
       "      <td>23776</td>\n",
       "      <td>0</td>\n",
       "      <td>1</td>\n",
       "      <td>1</td>\n",
       "      <td>0</td>\n",
       "      <td>False</td>\n",
       "      <td>True</td>\n",
       "    </tr>\n",
       "  </tbody>\n",
       "</table>\n",
       "</div>"
      ],
      "text/plain": [
       "      index  label  rfc  knnc  svc  type1  type2\n",
       "4736  20499      0    1     1    0  False   True\n",
       "2661  20346      0    1     1    0  False   True\n",
       "6622  20797      0    1     1    0  False   True\n",
       "4106  18088      0    1     0    0  False   True\n",
       "2799  23776      0    1     1    0  False   True"
      ]
     },
     "execution_count": 376,
     "metadata": {},
     "output_type": "execute_result"
    }
   ],
   "source": [
    "#Type 2 Error\n",
    "#random index generated = 3619, 7862, 7809, 10261 and 10552 from code\n",
    "#y_test_check[y_test_check.type2 == True].sample(n = 5)"
   ]
  },
  {
   "cell_type": "code",
   "execution_count": 377,
   "id": "bdc6b31d",
   "metadata": {},
   "outputs": [
    {
     "data": {
      "text/plain": [
       "'know even articulate tried search know give order like channel sound parameter delay feedback example also increase similar amount want example make return channel reverb increase volume gain distortion plugin strip increase proportionally volume plugin decrease guess something like cv function thank way automate automation like sidechain different parameter'"
      ]
     },
     "execution_count": 377,
     "metadata": {},
     "output_type": "execute_result"
    }
   ],
   "source": [
    "#lable as 0 but is 1 (1 = Ableton, 0 = Fl Studio)\n",
    "df_main.combinedtext[3619]"
   ]
  },
  {
   "cell_type": "code",
   "execution_count": 378,
   "id": "a21ece4c",
   "metadata": {},
   "outputs": [
    {
     "data": {
      "text/plain": [
       "'play melody chord using midi keyboard raise lower velocity individual note nothing happens draw melody chord velocity altered normal idea setting could causing thanks velocity cannot manually altered played keyboard idea'"
      ]
     },
     "execution_count": 378,
     "metadata": {},
     "output_type": "execute_result"
    }
   ],
   "source": [
    "df_main.combinedtext[7862]"
   ]
  },
  {
   "cell_type": "code",
   "execution_count": 379,
   "id": "d4f0f2a6",
   "metadata": {},
   "outputs": [
    {
     "data": {
      "text/plain": [
       "'trying find sort simple tool app vst essentially work chord bank 12 note several chord value laid button look picture ominchord pad play chord 12 note major minor 7th value sort app essentially even chord value major chord minor chord diminished chord major seventh chord minor seventh chord dominant seventh chord suspended chord sus2 sus4 et_cetera need goofy strum rhythm section omnichord ha want big chord bank tap click hear played anything like exist everytime look chord generator keep finding endlessly complicated vst insanely basic iphone apps work looking omnichord style chord generator app vst loss help'"
      ]
     },
     "execution_count": 379,
     "metadata": {},
     "output_type": "execute_result"
    }
   ],
   "source": [
    "df_main.combinedtext[7809]"
   ]
  },
  {
   "cell_type": "code",
   "execution_count": 380,
   "id": "800b2c05",
   "metadata": {},
   "outputs": [
    {
     "data": {
      "text/plain": [
       "'hello ambient piece like cut whole minute sound way select cut everything moved forward section b c remove section b c flawless seems delete midiclips automation moving automation hand get quite cumbersome never really replicate done delete whole section move automation forward'"
      ]
     },
     "execution_count": 380,
     "metadata": {},
     "output_type": "execute_result"
    }
   ],
   "source": [
    "df_main.combinedtext[10261]"
   ]
  },
  {
   "cell_type": "code",
   "execution_count": 381,
   "id": "5203526d",
   "metadata": {},
   "outputs": [
    {
     "data": {
      "text/plain": [
       "'searched ol oracle seen people problem solution read working driving crazy matter hit record clip give count started recording immediately sure something simple sure find count greyed way metronome anyone help much obliged count count greyed trying record driving nut'"
      ]
     },
     "execution_count": 381,
     "metadata": {},
     "output_type": "execute_result"
    }
   ],
   "source": [
    "df_main.combinedtext[10552]"
   ]
  },
  {
   "cell_type": "markdown",
   "id": "531106f6",
   "metadata": {},
   "source": [
    "<b>Model Evaluation Summary</b>\n",
    "\n",
    "|Model|Train Cross Validation|Test Cross Validation|Accuracy|Type 1 Error|Type 2 Error|\n",
    "|:---|---:|---:|---:|---:|---:|\n",
    "|Random Forest Classifier|0.909|0.909|91%|5.1%|3.6%|\n",
    "|K-Nearest Neighbour Classifier|0.904|0.898|91%|4.6%|4.6%|\n",
    "|Support Vector Machines|0.894|0.882|90%|5.0%|5.0%|\n",
    "\n",
    "<b>All the three models have good results but the Random Forest Classifier has a slight edge over the others. It was, all, a very close fight between the models.</b>"
   ]
  },
  {
   "cell_type": "markdown",
   "id": "86f62ac0",
   "metadata": {},
   "source": [
    "<b>Findings</b>"
   ]
  },
  {
   "cell_type": "code",
   "execution_count": 382,
   "id": "8a7d0eb7",
   "metadata": {},
   "outputs": [],
   "source": [
    "#reload result data\n",
    "df_result = pd.read_csv(r'../data/rf_df.csv', low_memory=False)"
   ]
  },
  {
   "cell_type": "code",
   "execution_count": 383,
   "id": "235e7e7a",
   "metadata": {},
   "outputs": [],
   "source": [
    "#create comparison - which is more for Ableton of FL Studio\n",
    "df_result['more_ableton'] = df_result.ableton_train > df_result.flstudio_train"
   ]
  },
  {
   "cell_type": "code",
   "execution_count": 384,
   "id": "7ed7cb01",
   "metadata": {},
   "outputs": [
    {
     "data": {
      "image/png": "[encoded data removed]",
      "text/plain": [
       "<Figure size 640x480 with 1 Axes>"
      ]
     },
     "metadata": {},
     "output_type": "display_data"
    }
   ],
   "source": [
    "    #show the top important words more closely related to Ableton\n",
    "df_result_ableton = df_result[df_result.more_ableton == True]\n",
    "y_axis = list(df_result_ableton.iloc[0:20,0])\n",
    "x_axis = list(df_result_ableton.iloc[0:20,1])\n",
    "y_axis.reverse()\n",
    "x_axis.reverse()\n",
    "\n",
    "plt.barh(y_axis, x_axis)\n",
    "plt.title('Words for Ableton')\n",
    "plt.ylabel('Words')\n",
    "plt.xlabel('Count')\n",
    "plt.show()"
   ]
  },
  {
   "cell_type": "code",
   "execution_count": 385,
   "id": "47ea1306",
   "metadata": {},
   "outputs": [
    {
     "data": {
      "image/png": "[encoded data removed]",
      "text/plain": [
       "<Figure size 640x480 with 1 Axes>"
      ]
     },
     "metadata": {},
     "output_type": "display_data"
    }
   ],
   "source": [
    "#show the top important words more closely related to Fl Studio\n",
    "df_result_ableton = df_result[df_result.more_ableton == False]\n",
    "y_axis = list(df_result_ableton.iloc[0:20,0])\n",
    "x_axis = list(df_result_ableton.iloc[0:20,1])\n",
    "y_axis.reverse()\n",
    "x_axis.reverse()\n",
    "\n",
    "plt.barh(y_axis, x_axis)\n",
    "plt.title('Words for FL Studio')\n",
    "plt.ylabel('Words')\n",
    "plt.xlabel('Count')\n",
    "plt.show()"
   ]
  }
 ],
 "metadata": {
  "kernelspec": {
   "display_name": "Python 3 (ipykernel)",
   "language": "python",
   "name": "python3"
  },
  "language_info": {
   "codemirror_mode": {
    "name": "ipython",
    "version": 3
   },
   "file_extension": ".py",
   "mimetype": "text/x-python",
   "name": "python",
   "nbconvert_exporter": "python",
   "pygments_lexer": "ipython3",
   "version": "3.9.13"
  }
 },
 "nbformat": 4,
 "nbformat_minor": 5
}
