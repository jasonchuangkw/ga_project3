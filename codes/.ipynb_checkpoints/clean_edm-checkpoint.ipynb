{
 "cells": [
  {
   "cell_type": "code",
   "execution_count": 1,
   "id": "c798b1b2",
   "metadata": {},
   "outputs": [],
   "source": [
    "#import libraries\n",
    "from nltk.tokenize import sent_tokenize, word_tokenize, RegexpTokenizer\n",
    "from nltk.stem import WordNetLemmatizer\n",
    "from nltk.stem.porter import PorterStemmer\n",
    "from nltk.corpus import stopwords\n",
    "import matplotlib.pyplot as plt\n",
    "import numpy as np\n",
    "import pandas as pd   \n",
    "import re\n",
    "from sklearn.feature_extraction.text import CountVectorizer, TfidfVectorizer\n",
    "from sklearn.model_selection import train_test_split, GridSearchCV"
   ]
  },
  {
   "cell_type": "markdown",
   "id": "85219f1e",
   "metadata": {},
   "source": [
    "<b>Data Merging</b>"
   ]
  },
  {
   "cell_type": "code",
   "execution_count": 91,
   "id": "66753cb1",
   "metadata": {},
   "outputs": [],
   "source": [
    "#load data\n",
    "df_ableton = pd.read_csv('../data/ableton_data_20nov2022.csv', low_memory=False)\n",
    "df_flstudio = pd.read_csv('../data/flstudio_data_20nov2022.csv', low_memory=False)\n",
    "\n",
    "#Combined Data and assign 1 = ableton and 0 = flstudio to differentiate the source\n",
    "df_ableton[\"label\"] = 1\n",
    "df_ableton = df_ableton[['label','title','selftext']]\n",
    "df_flstudio[\"label\"] = 0\n",
    "df_flstudio = df_flstudio[['label','title','selftext']]\n",
    "df_main = pd.concat([df_ableton, df_flstudio])"
   ]
  },
  {
   "cell_type": "markdown",
   "id": "9fbcd25d",
   "metadata": {},
   "source": [
    "<b>Defining Functions for Cleaning</b>"
   ]
  },
  {
   "cell_type": "code",
   "execution_count": 92,
   "id": "a1ae89a8",
   "metadata": {},
   "outputs": [],
   "source": [
    "#define function to clean text\n",
    "\n",
    "df_cleaning_text = pd.read_csv('../data/cleaning_text.csv', low_memory=False)\n",
    "\n",
    "def cleaning_text(text):\n",
    "    \n",
    "    try:   \n",
    "        for i in range(df_cleaning_text.shape[0]):\n",
    "            text = text.replace(str(df_cleaning_text.word[i]),str(df_cleaning_text.replacement[i]))\n",
    "        \n",
    "            text = re.sub(r'http\\S+', '', text) #remove URL\n",
    "    \n",
    "        if text == '[removed]': #replace [removed] as blank\n",
    "            text = \"\"\n",
    "        \n",
    "        return text\n",
    "\n",
    "    except:\n",
    "        return text"
   ]
  },
  {
   "cell_type": "code",
   "execution_count": 93,
   "id": "92ef93d0",
   "metadata": {},
   "outputs": [],
   "source": [
    "#define function to clean spelling\n",
    "#the cleaning_word file is blank for the submission \n",
    "#refer to cleaning_word_archive for  the cumulative list\n",
    "\n",
    "df_cleaning_word = pd.read_csv('../data/cleaning_word.csv', low_memory=False)\n",
    "\n",
    "def cleaning_word(text):\n",
    "    \n",
    "    try:   \n",
    "        for i in range(df_cleaning_word.shape[0]):\n",
    "             \n",
    "            text = text.replace(\" \" + str(df_cleaning_word.word[i]) + \" \",\n",
    "                                \" \" + str(df_cleaning_word.replacement[i]) + \" \")\n",
    "          \n",
    "        return text\n",
    "    \n",
    "    except:\n",
    "        return text"
   ]
  },
  {
   "cell_type": "code",
   "execution_count": 94,
   "id": "a087b12f",
   "metadata": {},
   "outputs": [],
   "source": [
    "#define function to combine terms\n",
    "\n",
    "df_cleaning_terms = pd.read_csv('../data/cleaning_terms.csv', low_memory=False)\n",
    "\n",
    "def cleaning_terms(text):\n",
    "    \n",
    "    try:   \n",
    "        for i in range(df_cleaning_terms.shape[0]):\n",
    "              \n",
    "            text = text.replace(\" \" + str(df_cleaning_terms.word[i]) + \" \",\n",
    "                                \" \" + str(df_cleaning_terms.replacement[i]) + \" \")\n",
    "                \n",
    "        return text\n",
    "    \n",
    "    except:\n",
    "        return text"
   ]
  },
  {
   "cell_type": "code",
   "execution_count": 95,
   "id": "41a186e8",
   "metadata": {},
   "outputs": [],
   "source": [
    "#define function for lemmazization\n",
    "\n",
    "def lemmatize_text(text):  \n",
    "    \n",
    "    lemmatizer = WordNetLemmatizer()\n",
    "    tokenizer = RegexpTokenizer(r'\\w+')\n",
    "    \n",
    "    try:\n",
    "        text = ' '.join([lemmatizer.lemmatize(w) for w in tokenizer.tokenize(text)])\n",
    "    \n",
    "        return text\n",
    "    \n",
    "    except:\n",
    "        return text"
   ]
  },
  {
   "cell_type": "code",
   "execution_count": 96,
   "id": "63ff22c8",
   "metadata": {
    "scrolled": true
   },
   "outputs": [
    {
     "name": "stdout",
     "output_type": "stream",
     "text": [
      "{'will', 'our', \"shan't\", 'haven', 'here', 'needn', 'just', 'more', 'so', 'mightn', 'as', 'on', 'their', 'very', 'if', \"isn't\", 'then', 'an', 'with', 'won', \"shouldn't\", 'over', \"you'd\", 'have', 'mustn', 'm', 'for', 'shouldn', 'up', 'into', 'down', 'who', 'she', 'hasn', 'were', 'a', \"that'll\", 'aren', 'them', \"don't\", 'ain', 'in', 's', 'herself', 'once', 'there', 't', 'above', 'nor', \"aren't\", 'against', \"didn't\", \"doesn't\", 'shan', 'when', 'weren', 'during', 'don', 'the', 'her', 'under', 'why', \"needn't\", 'those', 'off', 'am', 'but', 'he', 'o', 'your', 'each', 'now', 'has', 'other', \"wouldn't\", 'out', 'do', \"she's\", 'they', 'hadn', \"mightn't\", 'himself', 'or', 'be', 'ma', 'and', 'below', 'again', 'at', 'should', 'ourselves', 'ours', 'this', 'being', 'which', 'yours', 'between', \"mustn't\", \"won't\", 'theirs', 'having', 'from', 'are', 'through', 'my', 'its', \"you'll\", 'itself', 'i', 'what', 've', 'is', 'had', 'didn', \"it's\", 'about', 'after', 'any', 'both', 'all', 'can', \"should've\", 'couldn', 'you', 'too', 'some', 'before', 'until', 'further', 'been', 'these', 'such', 'll', 'than', 'of', 'themselves', 'because', 'was', 'hers', 'isn', 'by', 'we', \"haven't\", 'myself', 'doing', 'yourself', 'd', \"hasn't\", 'most', 'how', 'own', 'whom', \"hadn't\", 'yourselves', 'only', 'him', 'while', \"wasn't\", 'y', 'no', 'to', 'doesn', 'where', \"you've\", 'me', 'wasn', 'it', 'did', \"weren't\", 're', 'same', 'his', 'that', 'not', \"couldn't\", 'wouldn', \"you're\", 'does', 'few'}\n"
     ]
    }
   ],
   "source": [
    "#checking on stop words\n",
    "stop = set(stopwords.words('english'))\n",
    "print(stop)"
   ]
  },
  {
   "cell_type": "code",
   "execution_count": 97,
   "id": "af60bc8f",
   "metadata": {},
   "outputs": [],
   "source": [
    "#include new stop words\n",
    "new_stops = {\"i'm\", \"we've\", \"hi\", \"doe\", \"doesn't\", \"0\", \"was\", \"wa\"}\n",
    "stop.update(new_stops)"
   ]
  },
  {
   "cell_type": "code",
   "execution_count": 98,
   "id": "4a866621",
   "metadata": {},
   "outputs": [],
   "source": [
    "#define function to remove stop words\n",
    "\n",
    "def remove_stop(text):\n",
    "    tokenizer = RegexpTokenizer(r'\\w+')\n",
    "\n",
    "    if len(str(text)) != 0:\n",
    "        word_tokens = tokenizer.tokenize(str(text))\n",
    "        \n",
    "        for i in word_tokens:\n",
    "            no_stop = ' '.join([w for w in word_tokens if not w.lower() in stop])\n",
    "            \n",
    "        try:   \n",
    "            return no_stop\n",
    "        \n",
    "        except:\n",
    "            return text\n",
    "    else:\n",
    "        return None"
   ]
  },
  {
   "cell_type": "code",
   "execution_count": 99,
   "id": "8e609160",
   "metadata": {},
   "outputs": [],
   "source": [
    "#initate new column 'cleantext' and cleantitle\n",
    "df_main['cleantext'] = df_main['selftext'].copy()\n",
    "df_main['cleantitle'] = df_main['title'].copy()"
   ]
  },
  {
   "cell_type": "code",
   "execution_count": 101,
   "id": "326d46a8",
   "metadata": {},
   "outputs": [],
   "source": [
    "df_main.to_csv(r'../data/clean_data.csv', index=False)"
   ]
  },
  {
   "cell_type": "markdown",
   "id": "73c0dc8c",
   "metadata": {},
   "source": [
    "<b>Apply Cleaning</b><br>\n",
    "This is an iterative process as progressing cleaning is done based on the output from modelling."
   ]
  },
  {
   "cell_type": "code",
   "execution_count": 50,
   "id": "5d3b8b1b",
   "metadata": {},
   "outputs": [],
   "source": [
    "#recall cleaning data\n",
    "df_main = pd.read_csv('../data/clean_data.csv', low_memory=False)"
   ]
  },
  {
   "cell_type": "code",
   "execution_count": 80,
   "id": "86c4927d",
   "metadata": {},
   "outputs": [
    {
     "data": {
      "text/html": [
       "<div>\n",
       "<style scoped>\n",
       "    .dataframe tbody tr th:only-of-type {\n",
       "        vertical-align: middle;\n",
       "    }\n",
       "\n",
       "    .dataframe tbody tr th {\n",
       "        vertical-align: top;\n",
       "    }\n",
       "\n",
       "    .dataframe thead tr th {\n",
       "        text-align: left;\n",
       "    }\n",
       "\n",
       "    .dataframe thead tr:last-of-type th {\n",
       "        text-align: right;\n",
       "    }\n",
       "</style>\n",
       "<table border=\"1\" class=\"dataframe\">\n",
       "  <thead>\n",
       "    <tr>\n",
       "      <th></th>\n",
       "      <th colspan=\"8\" halign=\"left\">wordcount</th>\n",
       "    </tr>\n",
       "    <tr>\n",
       "      <th></th>\n",
       "      <th>count</th>\n",
       "      <th>mean</th>\n",
       "      <th>std</th>\n",
       "      <th>min</th>\n",
       "      <th>25%</th>\n",
       "      <th>50%</th>\n",
       "      <th>75%</th>\n",
       "      <th>max</th>\n",
       "    </tr>\n",
       "    <tr>\n",
       "      <th>label</th>\n",
       "      <th></th>\n",
       "      <th></th>\n",
       "      <th></th>\n",
       "      <th></th>\n",
       "      <th></th>\n",
       "      <th></th>\n",
       "      <th></th>\n",
       "      <th></th>\n",
       "    </tr>\n",
       "  </thead>\n",
       "  <tbody>\n",
       "    <tr>\n",
       "      <th>0</th>\n",
       "      <td>9305.0</td>\n",
       "      <td>46.327673</td>\n",
       "      <td>39.176953</td>\n",
       "      <td>20.0</td>\n",
       "      <td>26.0</td>\n",
       "      <td>36.0</td>\n",
       "      <td>53.0</td>\n",
       "      <td>981.0</td>\n",
       "    </tr>\n",
       "    <tr>\n",
       "      <th>1</th>\n",
       "      <td>14881.0</td>\n",
       "      <td>54.636718</td>\n",
       "      <td>52.849603</td>\n",
       "      <td>20.0</td>\n",
       "      <td>29.0</td>\n",
       "      <td>41.0</td>\n",
       "      <td>63.0</td>\n",
       "      <td>2001.0</td>\n",
       "    </tr>\n",
       "  </tbody>\n",
       "</table>\n",
       "</div>"
      ],
      "text/plain": [
       "      wordcount                                                      \n",
       "          count       mean        std   min   25%   50%   75%     max\n",
       "label                                                                \n",
       "0        9305.0  46.327673  39.176953  20.0  26.0  36.0  53.0   981.0\n",
       "1       14881.0  54.636718  52.849603  20.0  29.0  41.0  63.0  2001.0"
      ]
     },
     "execution_count": 80,
     "metadata": {},
     "output_type": "execute_result"
    }
   ],
   "source": [
    "df_main.groupby(['label']).describe()"
   ]
  },
  {
   "cell_type": "code",
   "execution_count": 52,
   "id": "94591b27",
   "metadata": {},
   "outputs": [],
   "source": [
    "#initate cleaning text\n",
    "df_main['cleantext'] = df_main['cleantext'].apply(cleaning_text)\n",
    "df_main['cleantitle'] = df_main['cleantitle'].apply(cleaning_text)"
   ]
  },
  {
   "cell_type": "code",
   "execution_count": 53,
   "id": "6ea08e48",
   "metadata": {},
   "outputs": [],
   "source": [
    "#convert to string\n",
    "df_main[\"cleantext\"] = df_main[\"cleantext\"].astype('string')\n",
    "df_main[\"cleantitle\"] = df_main[\"cleantitle\"].astype('string')"
   ]
  },
  {
   "cell_type": "code",
   "execution_count": 79,
   "id": "5cb401b9",
   "metadata": {},
   "outputs": [],
   "source": [
    "#remove duplicates\n",
    "df_main = df_main.drop_duplicates(subset='selftext', keep=\"first\")\n",
    "df_main = df_main.drop_duplicates(subset='title', keep=\"first\")"
   ]
  },
  {
   "cell_type": "code",
   "execution_count": 55,
   "id": "1c963c2e",
   "metadata": {},
   "outputs": [],
   "source": [
    "#set text to lowercase\n",
    "df_main['cleantext'] = df_main['cleantext'].str.lower()\n",
    "df_main['cleantitle'] = df_main['cleantitle'].str.lower()"
   ]
  },
  {
   "cell_type": "code",
   "execution_count": 75,
   "id": "16bd4842",
   "metadata": {},
   "outputs": [],
   "source": [
    "#drop text with less than 20 words\n",
    "df_main['wordcount'] = [len(re.findall(r'\\w+', str(i))) for i in df_main['cleantext']]\n",
    "df_main = df_main.drop(df_main[df_main.wordcount < 20].index)"
   ]
  },
  {
   "cell_type": "code",
   "execution_count": 57,
   "id": "5530d7aa",
   "metadata": {},
   "outputs": [],
   "source": [
    "#customised processing of cleaning words e.g. spelling\n",
    "df_main['cleantext'] = df_main['cleantext'].apply(cleaning_word)\n",
    "df_main['cleantitle'] = df_main['cleantitle'].apply(cleaning_word)"
   ]
  },
  {
   "cell_type": "code",
   "execution_count": 58,
   "id": "3ca55d6e",
   "metadata": {},
   "outputs": [],
   "source": [
    "#customised processing of combining terms\n",
    "df_main['cleantext'] = df_main['cleantext'].apply(cleaning_terms)\n",
    "df_main['cleantitle'] = df_main['cleantitle'].apply(cleaning_terms)"
   ]
  },
  {
   "cell_type": "code",
   "execution_count": 59,
   "id": "970292e9",
   "metadata": {},
   "outputs": [],
   "source": [
    "#lemmatization\n",
    "df_main['cleantext'] = df_main['cleantext'].apply(lemmatize_text)\n",
    "df_main['cleantitle'] = df_main['cleantitle'].apply(lemmatize_text)"
   ]
  },
  {
   "cell_type": "code",
   "execution_count": 73,
   "id": "6bc41200",
   "metadata": {
    "scrolled": true
   },
   "outputs": [],
   "source": [
    "#remove stop words\n",
    "df_main[\"cleantext\"] = df_main.cleantext.apply(remove_stop)\n",
    "df_main[\"cleantitle\"] = df_main.cleantitle.apply(remove_stop)"
   ]
  },
  {
   "cell_type": "code",
   "execution_count": 92,
   "id": "599f151c",
   "metadata": {},
   "outputs": [
    {
     "data": {
      "text/html": [
       "<div>\n",
       "<style scoped>\n",
       "    .dataframe tbody tr th:only-of-type {\n",
       "        vertical-align: middle;\n",
       "    }\n",
       "\n",
       "    .dataframe tbody tr th {\n",
       "        vertical-align: top;\n",
       "    }\n",
       "\n",
       "    .dataframe thead tr th {\n",
       "        text-align: left;\n",
       "    }\n",
       "\n",
       "    .dataframe thead tr:last-of-type th {\n",
       "        text-align: right;\n",
       "    }\n",
       "</style>\n",
       "<table border=\"1\" class=\"dataframe\">\n",
       "  <thead>\n",
       "    <tr>\n",
       "      <th></th>\n",
       "      <th colspan=\"8\" halign=\"left\">wordcount</th>\n",
       "    </tr>\n",
       "    <tr>\n",
       "      <th></th>\n",
       "      <th>count</th>\n",
       "      <th>mean</th>\n",
       "      <th>std</th>\n",
       "      <th>min</th>\n",
       "      <th>25%</th>\n",
       "      <th>50%</th>\n",
       "      <th>75%</th>\n",
       "      <th>max</th>\n",
       "    </tr>\n",
       "    <tr>\n",
       "      <th>label</th>\n",
       "      <th></th>\n",
       "      <th></th>\n",
       "      <th></th>\n",
       "      <th></th>\n",
       "      <th></th>\n",
       "      <th></th>\n",
       "      <th></th>\n",
       "      <th></th>\n",
       "    </tr>\n",
       "  </thead>\n",
       "  <tbody>\n",
       "    <tr>\n",
       "      <th>0</th>\n",
       "      <td>9305.0</td>\n",
       "      <td>46.327673</td>\n",
       "      <td>39.176953</td>\n",
       "      <td>20.0</td>\n",
       "      <td>26.0</td>\n",
       "      <td>36.0</td>\n",
       "      <td>53.0</td>\n",
       "      <td>981.0</td>\n",
       "    </tr>\n",
       "    <tr>\n",
       "      <th>1</th>\n",
       "      <td>14881.0</td>\n",
       "      <td>54.636718</td>\n",
       "      <td>52.849603</td>\n",
       "      <td>20.0</td>\n",
       "      <td>29.0</td>\n",
       "      <td>41.0</td>\n",
       "      <td>63.0</td>\n",
       "      <td>2001.0</td>\n",
       "    </tr>\n",
       "  </tbody>\n",
       "</table>\n",
       "</div>"
      ],
      "text/plain": [
       "      wordcount                                                      \n",
       "          count       mean        std   min   25%   50%   75%     max\n",
       "label                                                                \n",
       "0        9305.0  46.327673  39.176953  20.0  26.0  36.0  53.0   981.0\n",
       "1       14881.0  54.636718  52.849603  20.0  29.0  41.0  63.0  2001.0"
      ]
     },
     "execution_count": 92,
     "metadata": {},
     "output_type": "execute_result"
    }
   ],
   "source": [
    "#summary of clean data\n",
    "df_main.groupby(['label']).describe()"
   ]
  },
  {
   "cell_type": "code",
   "execution_count": 82,
   "id": "6cec63ec",
   "metadata": {},
   "outputs": [],
   "source": [
    "#to ensure all data are string before merging\n",
    "df_main[\"cleantext\"] = df_main[\"cleantext\"].astype('string')\n",
    "df_main[\"cleantitle\"] = df_main[\"cleantitle\"].astype('string')"
   ]
  },
  {
   "cell_type": "code",
   "execution_count": 83,
   "id": "76030eff",
   "metadata": {},
   "outputs": [],
   "source": [
    "df_main[\"combinedtext\"] = df_main[\"cleantext\"].map(str) + \" \" + df_main[\"cleantitle\"].map(str)"
   ]
  },
  {
   "cell_type": "code",
   "execution_count": 91,
   "id": "6c1bf553",
   "metadata": {},
   "outputs": [],
   "source": [
    "#export data\n",
    "df_main.to_csv(r'../data/model_data.csv', index=False)"
   ]
  },
  {
   "cell_type": "markdown",
   "id": "ddd1e6d8",
   "metadata": {},
   "source": [
    "<b>Word Counts</b>"
   ]
  },
  {
   "cell_type": "code",
   "execution_count": 2,
   "id": "6cc2370d",
   "metadata": {},
   "outputs": [],
   "source": [
    "#reload clean data\n",
    "df_main = pd.read_csv('../data/model_data.csv', low_memory=False)"
   ]
  },
  {
   "cell_type": "code",
   "execution_count": 3,
   "id": "c68a9fde",
   "metadata": {},
   "outputs": [
    {
     "data": {
      "text/plain": [
       "count    24186.000000\n",
       "mean        51.440007\n",
       "std         48.220941\n",
       "min         20.000000\n",
       "25%         28.000000\n",
       "50%         39.000000\n",
       "75%         59.000000\n",
       "max       2001.000000\n",
       "Name: wordcount, dtype: float64"
      ]
     },
     "execution_count": 3,
     "metadata": {},
     "output_type": "execute_result"
    }
   ],
   "source": [
    "#check that the wordcount is at least 20\n",
    "df_main.wordcount.describe()"
   ]
  },
  {
   "cell_type": "code",
   "execution_count": 4,
   "id": "82c9c9ca",
   "metadata": {},
   "outputs": [
    {
     "data": {
      "image/png": "[encoded data removed]",
      "text/plain": [
       "<Figure size 640x480 with 1 Axes>"
      ]
     },
     "metadata": {},
     "output_type": "display_data"
    }
   ],
   "source": [
    "#distribution of wordcount\n",
    "plt.hist(df_main.wordcount, bins=100)\n",
    "plt.show()"
   ]
  },
  {
   "cell_type": "code",
   "execution_count": 5,
   "id": "936c2b84",
   "metadata": {},
   "outputs": [
    {
     "data": {
      "text/plain": [
       "piano roll          1216\n",
       "audio interface     1178\n",
       "thanks advance      1082\n",
       "midi controller     1060\n",
       "midi keyboard        941\n",
       "drum rack            852\n",
       "fl studio            821\n",
       "audio track          819\n",
       "hey guy              812\n",
       "feel like            771\n",
       "sound like           762\n",
       "midi track           759\n",
       "need help            723\n",
       "audio clip           694\n",
       "music production     684\n",
       "dtype: int64"
      ]
     },
     "execution_count": 5,
     "metadata": {},
     "output_type": "execute_result"
    }
   ],
   "source": [
    "cv_bigrams = CountVectorizer(ngram_range=(2, 2), stop_words='english')\n",
    "cv_bigrams.fit(df_main.combinedtext)\n",
    "\n",
    "bigrams_cv = cv_bigrams.transform(df_main.combinedtext)\n",
    "bigrams_df = pd.DataFrame(bigrams_cv.todense(), columns=cv_bigrams.get_feature_names_out())\n",
    "\n",
    "bigrams_df.sum().sort_values(ascending=False).head(15)\n",
    "\n",
    "#fl_studio was expected to be a bigrams. Most of the top bigrams are related to technical terms for music production\n",
    "#some are related to seeking for help"
   ]
  },
  {
   "cell_type": "code",
   "execution_count": 6,
   "id": "cd5b4806",
   "metadata": {},
   "outputs": [],
   "source": [
    "bi_df = bigrams_df.sum().sort_values(ascending=False).head(15)"
   ]
  },
  {
   "cell_type": "code",
   "execution_count": 23,
   "id": "4cc77ef4",
   "metadata": {},
   "outputs": [
    {
     "data": {
      "image/png": "[encoded data removed]",
      "text/plain": [
       "<Figure size 640x480 with 1 Axes>"
      ]
     },
     "metadata": {},
     "output_type": "display_data"
    }
   ],
   "source": [
    "y_axis = list(bi_df.index)\n",
    "x_axis = list(bi_df)\n",
    "y_axis.reverse()\n",
    "x_axis.reverse()\n",
    "\n",
    "plt.barh(y_axis, x_axis)\n",
    "plt.title('Top Bigrams')\n",
    "plt.ylabel('Bigrams')\n",
    "plt.xlabel('Count')\n",
    "plt.show()"
   ]
  },
  {
   "cell_type": "code",
   "execution_count": 3,
   "id": "f5574374",
   "metadata": {},
   "outputs": [
    {
     "data": {
      "text/plain": [
       "help greatly appreciated    237\n",
       "external hard drive         151\n",
       "akai mpk mini               143\n",
       "note piano roll             134\n",
       "max live device             116\n",
       "fl engine x64               108\n",
       "engine x64 dll              108\n",
       "3rd party plugin            106\n",
       "thanks advance help          91\n",
       "2021 01 19t17                84\n",
       "01 19t17 33                  84\n",
       "help appreciated thanks      82\n",
       "clip session view            81\n",
       "new music production         74\n",
       "macbook pro m1               72\n",
       "dtype: int64"
      ]
     },
     "execution_count": 3,
     "metadata": {},
     "output_type": "execute_result"
    }
   ],
   "source": [
    "cv_trigrams = CountVectorizer(ngram_range=(3, 3), stop_words='english')\n",
    "cv_trigrams.fit(df_main.combinedtext)\n",
    "\n",
    "trigrams_cv = cv_trigrams.transform(df_main.combinedtext)\n",
    "trigrams_df = pd.DataFrame(trigrams_cv.todense(), columns=cv_trigrams.get_feature_names_out())\n",
    "\n",
    "trigrams_df.sum().sort_values(ascending=False).head(15)\n",
    "\n",
    "#Similarly to bigrams, the technical terms are more prominent and phrase relating to help"
   ]
  },
  {
   "cell_type": "code",
   "execution_count": 4,
   "id": "99974583",
   "metadata": {},
   "outputs": [],
   "source": [
    "tri_df = trigrams_df.sum().sort_values(ascending=False).head(15)"
   ]
  },
  {
   "cell_type": "code",
   "execution_count": 5,
   "id": "19819912",
   "metadata": {},
   "outputs": [
    {
     "data": {
      "image/png": "[encoded data removed]",
      "text/plain": [
       "<Figure size 640x480 with 1 Axes>"
      ]
     },
     "metadata": {},
     "output_type": "display_data"
    }
   ],
   "source": [
    "y_axis = list(tri_df.index)\n",
    "x_axis = list(tri_df)\n",
    "y_axis.reverse()\n",
    "x_axis.reverse()\n",
    "\n",
    "plt.barh(y_axis, x_axis)\n",
    "plt.title('Top Trigrams')\n",
    "plt.ylabel('Trigrams')\n",
    "plt.xlabel('Count')\n",
    "plt.show()"
   ]
  },
  {
   "cell_type": "markdown",
   "id": "13dc8554",
   "metadata": {},
   "source": [
    "<b>Top Words</b>"
   ]
  },
  {
   "cell_type": "code",
   "execution_count": 103,
   "id": "569a61b3",
   "metadata": {},
   "outputs": [],
   "source": [
    "text_list = df_main.combinedtext.values.tolist()\n",
    "word_list = []\n",
    "for item in text_list:\n",
    "    breakdown_words = word_tokenize(item)\n",
    "    for word in breakdown_words:\n",
    "        word_list.append(word)"
   ]
  },
  {
   "cell_type": "code",
   "execution_count": 104,
   "id": "cabe1e39",
   "metadata": {},
   "outputs": [
    {
     "data": {
      "text/plain": [
       "29245"
      ]
     },
     "execution_count": 104,
     "metadata": {},
     "output_type": "execute_result"
    }
   ],
   "source": [
    "#generate list of unique words\n",
    "wordset = set(word_list)\n",
    "unique_list = list(wordset)\n",
    "len(unique_list)"
   ]
  },
  {
   "cell_type": "code",
   "execution_count": 87,
   "id": "fa74fbb9",
   "metadata": {},
   "outputs": [
    {
     "name": "stdout",
     "output_type": "stream",
     "text": [
      "Processing in Progress......\n",
      "5000 words completed\n",
      "10000 words completed\n",
      "15000 words completed\n",
      "20000 words completed\n",
      "25000 words completed\n",
      "Process Completed......\n"
     ]
    }
   ],
   "source": [
    "#generate count for each unique word\n",
    "unique_count = []\n",
    "process_count = 0\n",
    "print(\"Processing in Progress......\")\n",
    "for x in unique_list:\n",
    "    count = 0\n",
    "    process_count += 1\n",
    "    for y in word_list:\n",
    "        if x == y:\n",
    "            count += 1\n",
    "    unique_count.append(count)\n",
    "    if(process_count % 5000 == 0):\n",
    "        print(str(process_count) + \" words completed\")\n",
    "print(\"Process Completed......\")"
   ]
  },
  {
   "cell_type": "code",
   "execution_count": 88,
   "id": "dbb76906",
   "metadata": {},
   "outputs": [],
   "source": [
    "df_word = pd.DataFrame(list(zip(unique_list, unique_count)), columns =['word', 'count'])"
   ]
  },
  {
   "cell_type": "code",
   "execution_count": 89,
   "id": "59a98fc4",
   "metadata": {},
   "outputs": [],
   "source": [
    "#export word list for manual data cleaning referencce\n",
    "df_word.to_csv(r'../data/word_list.csv', index=False)"
   ]
  },
  {
   "cell_type": "code",
   "execution_count": 77,
   "id": "fe3909c8",
   "metadata": {},
   "outputs": [],
   "source": [
    "#reload clean data\n",
    "df_word = pd.read_csv('../data/word_list.csv', low_memory=False)"
   ]
  },
  {
   "cell_type": "code",
   "execution_count": 78,
   "id": "9dc6df34",
   "metadata": {},
   "outputs": [],
   "source": [
    "#top words\n",
    "df_word = df_word.sort_values(by=['count'], ascending=False)"
   ]
  },
  {
   "cell_type": "code",
   "execution_count": 79,
   "id": "d2240267",
   "metadata": {},
   "outputs": [
    {
     "data": {
      "image/png": "[encoded data removed]",
      "text/plain": [
       "<Figure size 640x480 with 1 Axes>"
      ]
     },
     "metadata": {},
     "output_type": "display_data"
    }
   ],
   "source": [
    "y_axis = list(df_word.iloc[0:20,0])\n",
    "x_axis = list(df_word.iloc[0:20,1])\n",
    "y_axis.reverse()\n",
    "x_axis.reverse()\n",
    "\n",
    "plt.barh(y_axis, x_axis)\n",
    "plt.title('Top Words')\n",
    "plt.ylabel('Words')\n",
    "plt.xlabel('Count')\n",
    "plt.show()"
   ]
  }
 ],
 "metadata": {
  "kernelspec": {
   "display_name": "Python 3 (ipykernel)",
   "language": "python",
   "name": "python3"
  },
  "language_info": {
   "codemirror_mode": {
    "name": "ipython",
    "version": 3
   },
   "file_extension": ".py",
   "mimetype": "text/x-python",
   "name": "python",
   "nbconvert_exporter": "python",
   "pygments_lexer": "ipython3",
   "version": "3.9.13"
  }
 },
 "nbformat": 4,
 "nbformat_minor": 5
}
