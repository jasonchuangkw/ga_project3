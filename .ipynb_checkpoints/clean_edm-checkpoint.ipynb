{
 "cells": [
  {
   "cell_type": "code",
   "execution_count": 41,
   "id": "c798b1b2",
   "metadata": {},
   "outputs": [],
   "source": [
    "#import libraries\n",
    "from nltk.tokenize import sent_tokenize, word_tokenize, RegexpTokenizer\n",
    "from nltk.stem import WordNetLemmatizer\n",
    "from nltk.stem.porter import PorterStemmer\n",
    "from nltk.corpus import stopwords\n",
    "import numpy as np\n",
    "import pandas as pd   \n",
    "import re\n",
    "from sklearn.feature_extraction.text import CountVectorizer, TfidfVectorizer\n",
    "from sklearn.model_selection import train_test_split, GridSearchCV"
   ]
  },
  {
   "cell_type": "markdown",
   "id": "85219f1e",
   "metadata": {},
   "source": [
    "<b>Data Merging</b>"
   ]
  },
  {
   "cell_type": "code",
   "execution_count": 58,
   "id": "66753cb1",
   "metadata": {},
   "outputs": [],
   "source": [
    "#load data\n",
    "df_ableton = pd.read_csv('ableton_data_20nov2022.csv', low_memory=False)\n",
    "df_flstudio = pd.read_csv('flstudio_data_20nov2022.csv', low_memory=False)\n",
    "\n",
    "#Combined Data and assign 1 = ableton and 0 = flstudio to differentiate the source\n",
    "df_ableton[\"label\"] = 1\n",
    "df_ableton = df_ableton[['label','title','selftext']]\n",
    "df_flstudio[\"label\"] = 0\n",
    "df_flstudio = df_flstudio[['label','title','selftext']]\n",
    "df_main = pd.concat([df_ableton, df_flstudio])"
   ]
  },
  {
   "cell_type": "markdown",
   "id": "9fbcd25d",
   "metadata": {},
   "source": [
    "<b>Defining Functions for Cleaning</b>"
   ]
  },
  {
   "cell_type": "code",
   "execution_count": 42,
   "id": "a1ae89a8",
   "metadata": {},
   "outputs": [],
   "source": [
    "#define function to clean text\n",
    "\n",
    "df_cleaning_text = pd.read_csv('cleaning_text.csv', low_memory=False)\n",
    "\n",
    "def cleaning_text(text):\n",
    "    \n",
    "    try:   \n",
    "        for i in range(df_cleaning_text.shape[0]):\n",
    "            text = text.replace(str(df_cleaning_text.word[i]),str(df_cleaning_text.replacement[i]))\n",
    "        \n",
    "            text = re.sub(r'http\\S+', '', text) #remove URL\n",
    "    \n",
    "        if text == '[removed]': #replace [removed] as blank\n",
    "            text = \"\"\n",
    "        \n",
    "        return text\n",
    "\n",
    "    except:\n",
    "        return text"
   ]
  },
  {
   "cell_type": "code",
   "execution_count": 43,
   "id": "92ef93d0",
   "metadata": {},
   "outputs": [],
   "source": [
    "#define function to clean spelling\n",
    "#the cleaning_word file is blank for the submission \n",
    "#refer to cleaning_word_archive for  the cumulative list\n",
    "\n",
    "df_cleaning_word = pd.read_csv('cleaning_word.csv', low_memory=False)\n",
    "\n",
    "def cleaning_word(text):\n",
    "    \n",
    "    try:   \n",
    "        for i in range(df_cleaning_word.shape[0]):\n",
    "             \n",
    "            text = text.replace(\" \" + str(df_cleaning_word.word[i]) + \" \",\n",
    "                                \" \" + str(df_cleaning_word.replacement[i]) + \" \")\n",
    "          \n",
    "        return text\n",
    "    \n",
    "    except:\n",
    "        return text"
   ]
  },
  {
   "cell_type": "code",
   "execution_count": 44,
   "id": "a087b12f",
   "metadata": {},
   "outputs": [],
   "source": [
    "#define function to combine terms\n",
    "\n",
    "df_cleaning_terms = pd.read_csv('cleaning_terms.csv', low_memory=False)\n",
    "\n",
    "def cleaning_terms(text):\n",
    "    \n",
    "    try:   \n",
    "        for i in range(df_cleaning_terms.shape[0]):\n",
    "              \n",
    "            text = text.replace(\" \" + str(df_cleaning_terms.word[i]) + \" \",\n",
    "                                \" \" + str(df_cleaning_terms.replacement[i]) + \" \")\n",
    "                \n",
    "        return text\n",
    "    \n",
    "    except:\n",
    "        return text"
   ]
  },
  {
   "cell_type": "code",
   "execution_count": 45,
   "id": "41a186e8",
   "metadata": {},
   "outputs": [],
   "source": [
    "#define function for lemmazization\n",
    "\n",
    "def lemmatize_text(text):  \n",
    "    \n",
    "    lemmatizer = WordNetLemmatizer()\n",
    "    tokenizer = RegexpTokenizer(r'\\w+')\n",
    "    \n",
    "    try:\n",
    "        text = ' '.join([lemmatizer.lemmatize(w) for w in tokenizer.tokenize(text)])\n",
    "    \n",
    "        return text\n",
    "    \n",
    "    except:\n",
    "        return text"
   ]
  },
  {
   "cell_type": "code",
   "execution_count": 71,
   "id": "63ff22c8",
   "metadata": {
    "scrolled": true
   },
   "outputs": [
    {
     "name": "stdout",
     "output_type": "stream",
     "text": [
      "{'with', 'should', 'yours', \"you'll\", 'doesn', 'further', 'did', 'its', \"doesn't\", 'by', \"wouldn't\", 'about', 'both', 'there', 'aren', 'haven', 'again', \"mightn't\", \"mustn't\", 'why', 'me', 'then', 'any', 'isn', 'our', 'she', 'same', 'just', 'a', 'weren', 'what', 'themselves', \"hadn't\", 'is', 'having', 'such', 'from', 'do', 'can', \"didn't\", 'until', \"shouldn't\", 'whom', 'because', 'between', \"haven't\", 'while', 'so', 'are', 'up', 'only', 'they', 'an', 'my', 'was', 'to', 'mustn', 'i', 'ourselves', 'down', 'theirs', 'where', 'himself', 'being', 'don', 'shouldn', \"it's\", \"weren't\", \"aren't\", 'doing', 'but', 'into', 'itself', 'their', 'at', 'wouldn', 'if', 'his', 'of', 'your', 'that', 'the', 'here', 'll', 'you', 'as', 'some', 'than', 'shan', 'those', 'yourselves', 'under', 'other', \"you'd\", 'couldn', 'hasn', \"should've\", 'not', 't', 'it', 'who', 'during', \"that'll\", \"hasn't\", 'her', 'will', 'most', 'herself', 'when', 'for', 'yourself', 'does', 'now', 'wasn', 'nor', 'these', 'we', \"wasn't\", 'didn', 'through', 'have', 'how', 're', 'few', 'needn', 'them', 'ma', 'm', \"she's\", 'above', 'o', 'before', 'won', 'or', 'which', 'off', \"shan't\", 'this', 'no', 'y', \"don't\", \"you're\", 'very', 'has', 'each', \"won't\", 'him', 'were', 'below', 'on', \"isn't\", 'more', 'over', 'myself', 'ain', \"you've\", 've', 'had', 'been', 'after', 'mightn', \"needn't\", 'too', 'all', 'be', 'own', 'and', 'out', 'he', 'hers', 'hadn', 'ours', 'in', 'd', 's', 'am', 'once', \"couldn't\", 'against'}\n"
     ]
    }
   ],
   "source": [
    "#checking on stop words\n",
    "stop = set(stopwords.words('english'))\n",
    "print(stop)"
   ]
  },
  {
   "cell_type": "code",
   "execution_count": 72,
   "id": "af60bc8f",
   "metadata": {},
   "outputs": [],
   "source": [
    "#include new stop words\n",
    "new_stops = {\"i'm\", \"we've\", \"hi\", \"doe\", \"doesn't\", \"0\", \"was\", \"wa\"}\n",
    "stop.update(new_stops)"
   ]
  },
  {
   "cell_type": "code",
   "execution_count": 49,
   "id": "4a866621",
   "metadata": {},
   "outputs": [],
   "source": [
    "#define function to remove stop words\n",
    "\n",
    "def remove_stop(text):\n",
    "    tokenizer = RegexpTokenizer(r'\\w+')\n",
    "\n",
    "    if len(str(text)) != 0:\n",
    "        word_tokens = tokenizer.tokenize(str(text))\n",
    "        \n",
    "        for i in word_tokens:\n",
    "            no_stop = ' '.join([w for w in word_tokens if not w.lower() in stop])\n",
    "            \n",
    "        try:   \n",
    "            return no_stop\n",
    "        \n",
    "        except:\n",
    "            return text\n",
    "    else:\n",
    "        return None"
   ]
  },
  {
   "cell_type": "code",
   "execution_count": 66,
   "id": "8e609160",
   "metadata": {},
   "outputs": [],
   "source": [
    "#initate new column 'cleantext' and cleantitle\n",
    "df_main['cleantext'] = df_main['selftext'].copy()\n",
    "df_main['cleantitle'] = df_main['title'].copy()"
   ]
  },
  {
   "cell_type": "code",
   "execution_count": 67,
   "id": "326d46a8",
   "metadata": {},
   "outputs": [],
   "source": [
    "df_main.to_csv(r'clean_data.csv', index=False)"
   ]
  },
  {
   "cell_type": "markdown",
   "id": "73c0dc8c",
   "metadata": {},
   "source": [
    "<b>Apply Cleaning</b><br>\n",
    "This is an iterative process as progressing cleaning is done based on the output from modelling."
   ]
  },
  {
   "cell_type": "code",
   "execution_count": 50,
   "id": "5d3b8b1b",
   "metadata": {},
   "outputs": [],
   "source": [
    "#recall cleaning data\n",
    "df_main = pd.read_csv('clean_data.csv', low_memory=False)"
   ]
  },
  {
   "cell_type": "code",
   "execution_count": 80,
   "id": "86c4927d",
   "metadata": {},
   "outputs": [
    {
     "data": {
      "text/html": [
       "<div>\n",
       "<style scoped>\n",
       "    .dataframe tbody tr th:only-of-type {\n",
       "        vertical-align: middle;\n",
       "    }\n",
       "\n",
       "    .dataframe tbody tr th {\n",
       "        vertical-align: top;\n",
       "    }\n",
       "\n",
       "    .dataframe thead tr th {\n",
       "        text-align: left;\n",
       "    }\n",
       "\n",
       "    .dataframe thead tr:last-of-type th {\n",
       "        text-align: right;\n",
       "    }\n",
       "</style>\n",
       "<table border=\"1\" class=\"dataframe\">\n",
       "  <thead>\n",
       "    <tr>\n",
       "      <th></th>\n",
       "      <th colspan=\"8\" halign=\"left\">wordcount</th>\n",
       "    </tr>\n",
       "    <tr>\n",
       "      <th></th>\n",
       "      <th>count</th>\n",
       "      <th>mean</th>\n",
       "      <th>std</th>\n",
       "      <th>min</th>\n",
       "      <th>25%</th>\n",
       "      <th>50%</th>\n",
       "      <th>75%</th>\n",
       "      <th>max</th>\n",
       "    </tr>\n",
       "    <tr>\n",
       "      <th>label</th>\n",
       "      <th></th>\n",
       "      <th></th>\n",
       "      <th></th>\n",
       "      <th></th>\n",
       "      <th></th>\n",
       "      <th></th>\n",
       "      <th></th>\n",
       "      <th></th>\n",
       "    </tr>\n",
       "  </thead>\n",
       "  <tbody>\n",
       "    <tr>\n",
       "      <th>0</th>\n",
       "      <td>9305.0</td>\n",
       "      <td>46.327673</td>\n",
       "      <td>39.176953</td>\n",
       "      <td>20.0</td>\n",
       "      <td>26.0</td>\n",
       "      <td>36.0</td>\n",
       "      <td>53.0</td>\n",
       "      <td>981.0</td>\n",
       "    </tr>\n",
       "    <tr>\n",
       "      <th>1</th>\n",
       "      <td>14881.0</td>\n",
       "      <td>54.636718</td>\n",
       "      <td>52.849603</td>\n",
       "      <td>20.0</td>\n",
       "      <td>29.0</td>\n",
       "      <td>41.0</td>\n",
       "      <td>63.0</td>\n",
       "      <td>2001.0</td>\n",
       "    </tr>\n",
       "  </tbody>\n",
       "</table>\n",
       "</div>"
      ],
      "text/plain": [
       "      wordcount                                                      \n",
       "          count       mean        std   min   25%   50%   75%     max\n",
       "label                                                                \n",
       "0        9305.0  46.327673  39.176953  20.0  26.0  36.0  53.0   981.0\n",
       "1       14881.0  54.636718  52.849603  20.0  29.0  41.0  63.0  2001.0"
      ]
     },
     "execution_count": 80,
     "metadata": {},
     "output_type": "execute_result"
    }
   ],
   "source": [
    "df_main.groupby(['label']).describe()"
   ]
  },
  {
   "cell_type": "code",
   "execution_count": 52,
   "id": "94591b27",
   "metadata": {},
   "outputs": [],
   "source": [
    "#initate cleaning text\n",
    "df_main['cleantext'] = df_main['cleantext'].apply(cleaning_text)\n",
    "df_main['cleantitle'] = df_main['cleantitle'].apply(cleaning_text)"
   ]
  },
  {
   "cell_type": "code",
   "execution_count": 53,
   "id": "6ea08e48",
   "metadata": {},
   "outputs": [],
   "source": [
    "#convert to string\n",
    "df_main[\"cleantext\"] = df_main[\"cleantext\"].astype('string')\n",
    "df_main[\"cleantitle\"] = df_main[\"cleantitle\"].astype('string')"
   ]
  },
  {
   "cell_type": "code",
   "execution_count": 79,
   "id": "5cb401b9",
   "metadata": {},
   "outputs": [],
   "source": [
    "#remove duplicates\n",
    "df_main = df_main.drop_duplicates(subset='selftext', keep=\"first\")\n",
    "df_main = df_main.drop_duplicates(subset='title', keep=\"first\")"
   ]
  },
  {
   "cell_type": "code",
   "execution_count": 55,
   "id": "1c963c2e",
   "metadata": {},
   "outputs": [],
   "source": [
    "#set text to lowercase\n",
    "df_main['cleantext'] = df_main['cleantext'].str.lower()\n",
    "df_main['cleantitle'] = df_main['cleantitle'].str.lower()"
   ]
  },
  {
   "cell_type": "code",
   "execution_count": 75,
   "id": "16bd4842",
   "metadata": {},
   "outputs": [],
   "source": [
    "#drop text with less than 20 words\n",
    "df_main['wordcount'] = [len(re.findall(r'\\w+', str(i))) for i in df_main['cleantext']]\n",
    "df_main = df_main.drop(df_main[df_main.wordcount < 20].index)"
   ]
  },
  {
   "cell_type": "code",
   "execution_count": 57,
   "id": "5530d7aa",
   "metadata": {},
   "outputs": [],
   "source": [
    "#customised processing of cleaning words e.g. spelling\n",
    "df_main['cleantext'] = df_main['cleantext'].apply(cleaning_word)\n",
    "df_main['cleantitle'] = df_main['cleantitle'].apply(cleaning_word)"
   ]
  },
  {
   "cell_type": "code",
   "execution_count": 58,
   "id": "3ca55d6e",
   "metadata": {},
   "outputs": [],
   "source": [
    "#customised processing of combining terms\n",
    "df_main['cleantext'] = df_main['cleantext'].apply(cleaning_terms)\n",
    "df_main['cleantitle'] = df_main['cleantitle'].apply(cleaning_terms)"
   ]
  },
  {
   "cell_type": "code",
   "execution_count": 59,
   "id": "970292e9",
   "metadata": {},
   "outputs": [],
   "source": [
    "#lemmatization\n",
    "df_main['cleantext'] = df_main['cleantext'].apply(lemmatize_text)\n",
    "df_main['cleantitle'] = df_main['cleantitle'].apply(lemmatize_text)"
   ]
  },
  {
   "cell_type": "code",
   "execution_count": 73,
   "id": "6bc41200",
   "metadata": {
    "scrolled": true
   },
   "outputs": [],
   "source": [
    "#remove stop words\n",
    "df_main[\"cleantext\"] = df_main.cleantext.apply(remove_stop)\n",
    "df_main[\"cleantitle\"] = df_main.cleantitle.apply(remove_stop)"
   ]
  },
  {
   "cell_type": "code",
   "execution_count": 81,
   "id": "599f151c",
   "metadata": {},
   "outputs": [
    {
     "data": {
      "text/html": [
       "<div>\n",
       "<style scoped>\n",
       "    .dataframe tbody tr th:only-of-type {\n",
       "        vertical-align: middle;\n",
       "    }\n",
       "\n",
       "    .dataframe tbody tr th {\n",
       "        vertical-align: top;\n",
       "    }\n",
       "\n",
       "    .dataframe thead tr th {\n",
       "        text-align: left;\n",
       "    }\n",
       "\n",
       "    .dataframe thead tr:last-of-type th {\n",
       "        text-align: right;\n",
       "    }\n",
       "</style>\n",
       "<table border=\"1\" class=\"dataframe\">\n",
       "  <thead>\n",
       "    <tr>\n",
       "      <th></th>\n",
       "      <th colspan=\"8\" halign=\"left\">wordcount</th>\n",
       "    </tr>\n",
       "    <tr>\n",
       "      <th></th>\n",
       "      <th>count</th>\n",
       "      <th>mean</th>\n",
       "      <th>std</th>\n",
       "      <th>min</th>\n",
       "      <th>25%</th>\n",
       "      <th>50%</th>\n",
       "      <th>75%</th>\n",
       "      <th>max</th>\n",
       "    </tr>\n",
       "    <tr>\n",
       "      <th>label</th>\n",
       "      <th></th>\n",
       "      <th></th>\n",
       "      <th></th>\n",
       "      <th></th>\n",
       "      <th></th>\n",
       "      <th></th>\n",
       "      <th></th>\n",
       "      <th></th>\n",
       "    </tr>\n",
       "  </thead>\n",
       "  <tbody>\n",
       "    <tr>\n",
       "      <th>0</th>\n",
       "      <td>9305.0</td>\n",
       "      <td>46.327673</td>\n",
       "      <td>39.176953</td>\n",
       "      <td>20.0</td>\n",
       "      <td>26.0</td>\n",
       "      <td>36.0</td>\n",
       "      <td>53.0</td>\n",
       "      <td>981.0</td>\n",
       "    </tr>\n",
       "    <tr>\n",
       "      <th>1</th>\n",
       "      <td>14881.0</td>\n",
       "      <td>54.636718</td>\n",
       "      <td>52.849603</td>\n",
       "      <td>20.0</td>\n",
       "      <td>29.0</td>\n",
       "      <td>41.0</td>\n",
       "      <td>63.0</td>\n",
       "      <td>2001.0</td>\n",
       "    </tr>\n",
       "  </tbody>\n",
       "</table>\n",
       "</div>"
      ],
      "text/plain": [
       "      wordcount                                                      \n",
       "          count       mean        std   min   25%   50%   75%     max\n",
       "label                                                                \n",
       "0        9305.0  46.327673  39.176953  20.0  26.0  36.0  53.0   981.0\n",
       "1       14881.0  54.636718  52.849603  20.0  29.0  41.0  63.0  2001.0"
      ]
     },
     "execution_count": 81,
     "metadata": {},
     "output_type": "execute_result"
    }
   ],
   "source": [
    "#summary of clean data\n",
    "df_main.groupby(['label']).describe()"
   ]
  },
  {
   "cell_type": "code",
   "execution_count": 82,
   "id": "6cec63ec",
   "metadata": {},
   "outputs": [],
   "source": [
    "#to ensure all data are string before merging\n",
    "df_main[\"cleantext\"] = df_main[\"cleantext\"].astype('string')\n",
    "df_main[\"cleantitle\"] = df_main[\"cleantitle\"].astype('string')"
   ]
  },
  {
   "cell_type": "code",
   "execution_count": 83,
   "id": "76030eff",
   "metadata": {},
   "outputs": [],
   "source": [
    "df_main[\"combinedtext\"] = df_main[\"cleantext\"].map(str) + \" \" + df_main[\"cleantitle\"].map(str)"
   ]
  },
  {
   "cell_type": "code",
   "execution_count": 91,
   "id": "6c1bf553",
   "metadata": {},
   "outputs": [],
   "source": [
    "#export data\n",
    "df_main.to_csv(r'clean_data.csv', index=False)"
   ]
  },
  {
   "cell_type": "markdown",
   "id": "06392fd9",
   "metadata": {},
   "source": [
    "<b>Generate Word Count List</b>"
   ]
  },
  {
   "cell_type": "code",
   "execution_count": 85,
   "id": "569a61b3",
   "metadata": {},
   "outputs": [],
   "source": [
    "text_list = df_main.combinedtext.values.tolist()\n",
    "word_list = []\n",
    "for item in text_list:\n",
    "    breakdown_words = word_tokenize(item)\n",
    "    for word in breakdown_words:\n",
    "        word_list.append(word)"
   ]
  },
  {
   "cell_type": "code",
   "execution_count": 86,
   "id": "cabe1e39",
   "metadata": {},
   "outputs": [
    {
     "data": {
      "text/plain": [
       "29245"
      ]
     },
     "execution_count": 86,
     "metadata": {},
     "output_type": "execute_result"
    }
   ],
   "source": [
    "#generate list of unique words\n",
    "wordset = set(word_list)\n",
    "unique_list = list(wordset)\n",
    "len(unique_list)"
   ]
  },
  {
   "cell_type": "code",
   "execution_count": 87,
   "id": "fa74fbb9",
   "metadata": {},
   "outputs": [
    {
     "name": "stdout",
     "output_type": "stream",
     "text": [
      "Processing in Progress......\n",
      "5000 words completed\n",
      "10000 words completed\n",
      "15000 words completed\n",
      "20000 words completed\n",
      "25000 words completed\n",
      "Process Completed......\n"
     ]
    }
   ],
   "source": [
    "#generate count for each unique word\n",
    "unique_count = []\n",
    "process_count = 0\n",
    "print(\"Processing in Progress......\")\n",
    "for x in unique_list:\n",
    "    count = 0\n",
    "    process_count += 1\n",
    "    for y in word_list:\n",
    "        if x == y:\n",
    "            count += 1\n",
    "    unique_count.append(count)\n",
    "    if(process_count % 5000 == 0):\n",
    "        print(str(process_count) + \" words completed\")\n",
    "print(\"Process Completed......\")"
   ]
  },
  {
   "cell_type": "code",
   "execution_count": 88,
   "id": "dbb76906",
   "metadata": {},
   "outputs": [],
   "source": [
    "df_word = pd.DataFrame(list(zip(unique_list, unique_count)), columns =['word', 'count'])"
   ]
  },
  {
   "cell_type": "code",
   "execution_count": 89,
   "id": "59a98fc4",
   "metadata": {},
   "outputs": [],
   "source": [
    "#export word list for manual data cleaning referencce\n",
    "df_word.to_csv(r'word_list.csv', index=False)"
   ]
  },
  {
   "cell_type": "markdown",
   "id": "e9b2e66f",
   "metadata": {},
   "source": [
    "<b>Top Words</b>"
   ]
  },
  {
   "cell_type": "code",
   "execution_count": 90,
   "id": "50354592",
   "metadata": {},
   "outputs": [
    {
     "data": {
      "text/html": [
       "<div>\n",
       "<style scoped>\n",
       "    .dataframe tbody tr th:only-of-type {\n",
       "        vertical-align: middle;\n",
       "    }\n",
       "\n",
       "    .dataframe tbody tr th {\n",
       "        vertical-align: top;\n",
       "    }\n",
       "\n",
       "    .dataframe thead th {\n",
       "        text-align: right;\n",
       "    }\n",
       "</style>\n",
       "<table border=\"1\" class=\"dataframe\">\n",
       "  <thead>\n",
       "    <tr style=\"text-align: right;\">\n",
       "      <th></th>\n",
       "      <th>word</th>\n",
       "      <th>count</th>\n",
       "    </tr>\n",
       "  </thead>\n",
       "  <tbody>\n",
       "    <tr>\n",
       "      <th>4710</th>\n",
       "      <td>ableton</td>\n",
       "      <td>16653</td>\n",
       "    </tr>\n",
       "    <tr>\n",
       "      <th>10227</th>\n",
       "      <td>track</td>\n",
       "      <td>12437</td>\n",
       "    </tr>\n",
       "    <tr>\n",
       "      <th>23678</th>\n",
       "      <td>like</td>\n",
       "      <td>11357</td>\n",
       "    </tr>\n",
       "    <tr>\n",
       "      <th>25178</th>\n",
       "      <td>sound</td>\n",
       "      <td>10924</td>\n",
       "    </tr>\n",
       "    <tr>\n",
       "      <th>2476</th>\n",
       "      <td>midi</td>\n",
       "      <td>10143</td>\n",
       "    </tr>\n",
       "    <tr>\n",
       "      <th>4526</th>\n",
       "      <td>audio</td>\n",
       "      <td>10082</td>\n",
       "    </tr>\n",
       "    <tr>\n",
       "      <th>26068</th>\n",
       "      <td>use</td>\n",
       "      <td>8681</td>\n",
       "    </tr>\n",
       "    <tr>\n",
       "      <th>24672</th>\n",
       "      <td>would</td>\n",
       "      <td>8650</td>\n",
       "    </tr>\n",
       "    <tr>\n",
       "      <th>27644</th>\n",
       "      <td>know</td>\n",
       "      <td>8562</td>\n",
       "    </tr>\n",
       "    <tr>\n",
       "      <th>29057</th>\n",
       "      <td>get</td>\n",
       "      <td>8081</td>\n",
       "    </tr>\n",
       "    <tr>\n",
       "      <th>26255</th>\n",
       "      <td>plugin</td>\n",
       "      <td>7823</td>\n",
       "    </tr>\n",
       "    <tr>\n",
       "      <th>21478</th>\n",
       "      <td>help</td>\n",
       "      <td>7738</td>\n",
       "    </tr>\n",
       "    <tr>\n",
       "      <th>22942</th>\n",
       "      <td>one</td>\n",
       "      <td>7709</td>\n",
       "    </tr>\n",
       "    <tr>\n",
       "      <th>26629</th>\n",
       "      <td>using</td>\n",
       "      <td>7688</td>\n",
       "    </tr>\n",
       "    <tr>\n",
       "      <th>10155</th>\n",
       "      <td>way</td>\n",
       "      <td>7684</td>\n",
       "    </tr>\n",
       "    <tr>\n",
       "      <th>2258</th>\n",
       "      <td>time</td>\n",
       "      <td>6861</td>\n",
       "    </tr>\n",
       "    <tr>\n",
       "      <th>21327</th>\n",
       "      <td>want</td>\n",
       "      <td>6844</td>\n",
       "    </tr>\n",
       "    <tr>\n",
       "      <th>26347</th>\n",
       "      <td>make</td>\n",
       "      <td>6774</td>\n",
       "    </tr>\n",
       "    <tr>\n",
       "      <th>550</th>\n",
       "      <td>project</td>\n",
       "      <td>6432</td>\n",
       "    </tr>\n",
       "    <tr>\n",
       "      <th>29205</th>\n",
       "      <td>work</td>\n",
       "      <td>6320</td>\n",
       "    </tr>\n",
       "  </tbody>\n",
       "</table>\n",
       "</div>"
      ],
      "text/plain": [
       "          word  count\n",
       "4710   ableton  16653\n",
       "10227    track  12437\n",
       "23678     like  11357\n",
       "25178    sound  10924\n",
       "2476      midi  10143\n",
       "4526     audio  10082\n",
       "26068      use   8681\n",
       "24672    would   8650\n",
       "27644     know   8562\n",
       "29057      get   8081\n",
       "26255   plugin   7823\n",
       "21478     help   7738\n",
       "22942      one   7709\n",
       "26629    using   7688\n",
       "10155      way   7684\n",
       "2258      time   6861\n",
       "21327     want   6844\n",
       "26347     make   6774\n",
       "550    project   6432\n",
       "29205     work   6320"
      ]
     },
     "execution_count": 90,
     "metadata": {},
     "output_type": "execute_result"
    }
   ],
   "source": [
    "#top words\n",
    "df_word = df_word.sort_values(by=['count'], ascending=False)\n",
    "df_word.head(20)"
   ]
  }
 ],
 "metadata": {
  "kernelspec": {
   "display_name": "Python 3 (ipykernel)",
   "language": "python",
   "name": "python3"
  },
  "language_info": {
   "codemirror_mode": {
    "name": "ipython",
    "version": 3
   },
   "file_extension": ".py",
   "mimetype": "text/x-python",
   "name": "python",
   "nbconvert_exporter": "python",
   "pygments_lexer": "ipython3",
   "version": "3.9.13"
  }
 },
 "nbformat": 4,
 "nbformat_minor": 5
}
