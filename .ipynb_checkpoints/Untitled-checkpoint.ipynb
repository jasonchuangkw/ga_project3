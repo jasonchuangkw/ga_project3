{
 "cells": [
  {
   "cell_type": "code",
   "execution_count": null,
   "id": "c798b1b2",
   "metadata": {},
   "outputs": [],
   "source": [
    "import nltk\n",
    "import pandas as pd       \n",
    "from nltk.tokenize import sent_tokenize, word_tokenize, RegexpTokenizer\n",
    "from nltk.stem import WordNetLemmatizer\n",
    "from nltk.stem.porter import PorterStemmer\n",
    "from nltk.corpus import stopwords\n",
    "from nltk.sentiment.vader import SentimentIntensityAnalyzer\n",
    "import re"
   ]
  },
  {
   "cell_type": "code",
   "execution_count": null,
   "id": "66753cb1",
   "metadata": {},
   "outputs": [],
   "source": [
    "#load data\n",
    "df_ableton = pd.read_csv('ableton_data_18nov2022.csv')\n",
    "df_flstudio = pd.read_csv('flstudio_data_18nov2022.csv')"
   ]
  },
  {
   "cell_type": "markdown",
   "id": "9fbcd25d",
   "metadata": {},
   "source": [
    "<b>Data Cleaning</b>"
   ]
  },
  {
   "cell_type": "code",
   "execution_count": 16,
   "id": "ba7b039c",
   "metadata": {},
   "outputs": [],
   "source": [
    "#to lower case\n",
    "df_ableton['selftext'] = df_ableton['selftext'].str.lower()\n",
    "df_flstudio['selftext'] = df_flstudio['selftext'].str.lower()"
   ]
  },
  {
   "cell_type": "code",
   "execution_count": 18,
   "id": "94591b27",
   "metadata": {},
   "outputs": [
    {
     "data": {
      "text/plain": [
       "0       just upgraded to producer edition and the ctrl...\n",
       "1       pretty much want to know if and how i can set ...\n",
       "2       been having this issue for a long time and hav...\n",
       "3       for trap type stuff. i've heard both and i've ...\n",
       "4        hello,  i have a problem (?) with my autotune...\n",
       "                              ...                        \n",
       "8519    it is literally driving me insane, i've never ...\n",
       "8520    i don't know what i did but everytime i load u...\n",
       "8521    my 14yo is using fl studio and really enjoying...\n",
       "8522    as soon as i place one note down, cpu immediat...\n",
       "8523    like the title says, i recently installed a pl...\n",
       "Name: selftext, Length: 8524, dtype: object"
      ]
     },
     "execution_count": 18,
     "metadata": {},
     "output_type": "execute_result"
    }
   ],
   "source": []
  },
  {
   "cell_type": "code",
   "execution_count": null,
   "id": "e0a8eadf",
   "metadata": {},
   "outputs": [],
   "source": []
  }
 ],
 "metadata": {
  "kernelspec": {
   "display_name": "Python 3 (ipykernel)",
   "language": "python",
   "name": "python3"
  },
  "language_info": {
   "codemirror_mode": {
    "name": "ipython",
    "version": 3
   },
   "file_extension": ".py",
   "mimetype": "text/x-python",
   "name": "python",
   "nbconvert_exporter": "python",
   "pygments_lexer": "ipython3",
   "version": "3.9.13"
  }
 },
 "nbformat": 4,
 "nbformat_minor": 5
}
